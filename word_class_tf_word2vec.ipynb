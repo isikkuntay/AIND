{
 "cells": [
  {
   "cell_type": "code",
   "execution_count": 1,
   "metadata": {
    "collapsed": true,
    "deletable": true,
    "editable": true
   },
   "outputs": [],
   "source": [
    "import urllib.request\n",
    "import collections\n",
    "import math\n",
    "import os\n",
    "import random\n",
    "import zipfile\n",
    "import datetime as dt\n",
    "\n",
    "import numpy as np\n",
    "import tensorflow as tf"
   ]
  },
  {
   "cell_type": "code",
   "execution_count": 2,
   "metadata": {
    "collapsed": true,
    "deletable": true,
    "editable": true
   },
   "outputs": [],
   "source": [
    "def maybe_download(filename, url, expected_bytes):\n",
    "    \"\"\"Download a file if not present, and make sure it's the right size.\"\"\"\n",
    "    if not os.path.exists(filename):\n",
    "        filename, _ = urllib.request.urlretrieve(url + filename, filename)\n",
    "    statinfo = os.stat(filename)\n",
    "    if statinfo.st_size == expected_bytes:\n",
    "        print('Found and verified', filename)\n",
    "    else:\n",
    "        print(statinfo.st_size)\n",
    "        raise Exception(\n",
    "            'Failed to verify ' + filename + '. Can you get to it with a browser?')\n",
    "    return filename\n"
   ]
  },
  {
   "cell_type": "code",
   "execution_count": 3,
   "metadata": {
    "collapsed": true,
    "deletable": true,
    "editable": true
   },
   "outputs": [],
   "source": [
    "# Read the data into a list of strings.\n",
    "def read_data(filename):\n",
    "    \"\"\"Extract the first file enclosed in a zip file as a list of words.\"\"\"\n",
    "    with zipfile.ZipFile(filename) as f:\n",
    "        data = tf.compat.as_str(f.read(f.namelist()[0])).split()\n",
    "    return data"
   ]
  },
  {
   "cell_type": "code",
   "execution_count": 23,
   "metadata": {
    "collapsed": false
   },
   "outputs": [
    {
     "data": {
      "text/plain": [
       "list"
      ]
     },
     "execution_count": 23,
     "metadata": {},
     "output_type": "execute_result"
    }
   ],
   "source": [
    "type(dictionary)"
   ]
  },
  {
   "cell_type": "code",
   "execution_count": 24,
   "metadata": {
    "collapsed": false,
    "deletable": true,
    "editable": true
   },
   "outputs": [],
   "source": [
    "def build_dataset(words, n_words):\n",
    "    \"\"\"Process raw inputs into a dataset.\"\"\"\n",
    "    global word_classes\n",
    "    count = [['UNK', -1]]\n",
    "    count.extend(collections.Counter(words).most_common(n_words - 1 - len(word_classes)))\n",
    "    dictionary = dict()\n",
    "    for word, _ in count:\n",
    "        dictionary[word] = len(dictionary)\n",
    "    for word in word_classes:\n",
    "        dictionary[word] = len(dictionary)\n",
    "        print(word)\n",
    "    data = list()\n",
    "    unk_count = 0\n",
    "    for word in words:\n",
    "        if word in dictionary:\n",
    "            index = dictionary[word]\n",
    "        else:\n",
    "            index = 0  # dictionary['UNK']\n",
    "            unk_count += 1\n",
    "        data.append(index)\n",
    "    print(type(dictionary))\n",
    "    count[0][1] = unk_count\n",
    "    reversed_dictionary = dict(zip(dictionary.values(), dictionary.keys()))\n",
    "    return data, count, dictionary, reversed_dictionary\n"
   ]
  },
  {
   "cell_type": "code",
   "execution_count": 25,
   "metadata": {
    "collapsed": false
   },
   "outputs": [
    {
     "data": {
      "text/plain": [
       "list"
      ]
     },
     "execution_count": 25,
     "metadata": {},
     "output_type": "execute_result"
    }
   ],
   "source": [
    "type(dictionary)"
   ]
  },
  {
   "cell_type": "code",
   "execution_count": 26,
   "metadata": {
    "collapsed": false,
    "deletable": true,
    "editable": true
   },
   "outputs": [
    {
     "name": "stdout",
     "output_type": "stream",
     "text": [
      "['adjective', 'NA', 'verb', 'pronoun', 'definite_article', 'noun', 'preposition', 'conjunction', 'adverb', 'abbreviation']\n"
     ]
    }
   ],
   "source": [
    "word_class_dict = {'with': 'preposition', 'remaining': 'verb', 'interpret': 'verb', 'menu': 'noun', 'sauce': 'noun', 'distribute': 'verb', 'etc': 'abbreviation', 'lifestyle': 'noun', 'sand': 'noun', 'assignment': 'noun', 'saving': 'noun', 'tone': 'noun', 'championship': 'noun', 'modify': 'verb', 'sharply': 'adjective', 'emphasize': 'verb', 'integrity': 'noun', 'several': 'adjective', 'elder': 'noun', 'robot': 'noun', 'round': 'adjective', 'racism': 'noun', 'exciting': 'adjective', 'four': 'noun', 'shall': 'verb', 'consultant': 'noun', 'proceed': 'verb', 'tool': 'noun', 'grief': 'noun', 'socially': 'adverb', 'well-being': 'noun', 'young': 'adjective', 'pour': 'verb', 'laser': 'noun', 'secular': 'adjective', 'feedback': 'noun', 'fragment': 'noun', 'nail': 'noun', 'industry': 'noun', 'frown': 'verb', 'year': 'noun', 'election': 'noun', 'something': 'pronoun', 'box': 'noun', 'inside': 'noun', 'suicide': 'noun', 'can': 'verb', 'prompt': 'verb', 'orientation': 'noun', 'buddy': 'noun', 'Cuban': 'NA', 'cord': 'noun', 'severely': 'adjective', 'mate': 'verb', 'interest': 'noun', 'participant': 'noun', 'bacteria': 'noun', 'sentence': 'noun', 'southwest': 'adverb', 'pen': 'verb', 'introduction': 'noun', 'serious': 'adjective', 'northwest': 'adverb', 'basement': 'noun', 'interior': 'adjective', 'contract': 'noun', 'story': 'noun', 'administration': 'noun', 'shortage': 'noun', 'existence': 'noun', 'field': 'noun', 'kiss': 'verb', 'belong': 'verb', 'search': 'verb', 'religion': 'noun', 'blade': 'noun', 'blend': 'verb', 'form': 'noun', 'disturbing': 'verb', 'emergency': 'noun', 'essential': 'adjective', 'mail': 'noun', 'committee': 'noun', 'embrace': 'verb', 'contrast': 'verb', 'rose': 'NA', 'combined': 'noun', 'inventory': 'noun', 'transition': 'noun', 'repeat': 'verb', 'substance': 'noun', 'jail': 'noun', 'due': 'adjective', 'away': 'adverb', 'cite': 'verb', 'bench': 'noun', 'soap': 'noun', 'recovery': 'noun', 'trace': 'noun', 'less': 'adjective', 'lightning': 'noun', 'grasp': 'verb', 'ancestor': 'noun', 'upon': 'preposition', 'flexible': 'adjective', 'foreign': 'adjective', 'contribution': 'noun', 'chair': 'noun', 'complaint': 'noun', 'cigarette': 'noun', 'intent': 'noun', 'dignity': 'noun', 'terms': 'noun', 'envision': 'verb', 'softly': 'adjective', 'discipline': 'noun', 'needle': 'noun', 'inspection': 'noun', 'diagnose': 'verb', 'forgive': 'verb', 'eligible': 'adjective', 'foundation': 'noun', 'guidance': 'noun', 'trip': 'verb', 'fatal': 'adjective', 'deal': 'noun', 'sandwich': 'noun', 'reader': 'noun', 'twenty': 'noun', 'soon': 'adverb', 'electronics': 'noun', 'tile': 'noun', 'conventional': 'adjective', 'instance': 'noun', 'honestly': 'adverb', 'leg': 'noun', 'frequency': 'noun', 'phrase': 'noun', 'terribly': 'adjective', 'tape': 'noun', 'slavery': 'noun', 'painting': 'noun', 'emerge': 'verb', 'medical': 'adjective', 'any': 'adjective', 'service': 'noun', 'public': 'adjective', 'respond': 'noun', 'doubt': 'verb', 'snap': 'verb', 'commit': 'verb', 'plunge': 'verb', 'oh': 'NA', 'cattle': 'noun', 'transform': 'verb', 'telescope': 'noun', 'civilization': 'noun', 'lab': 'noun', 'province': 'noun', 'court': 'noun', 'directly': 'adverb', 'detail': 'noun', 'fifty': 'noun', 'accurately': 'adjective', 'ear': 'noun', 'reason': 'noun', 'ceremony': 'noun', 'agenda': 'noun', 'placement': 'noun', 'ancient': 'adjective', 'medication': 'noun', 'diplomatic': 'adjective', 'beer': 'noun', 'identification': 'noun', 'shrimp': 'noun', 'local': 'adjective', 'teammate': 'noun', 'tend': 'verb', 'moreover': 'adverb', 'measure': 'noun', 'mainstream': 'noun', 'before': 'adverb', 'try': 'verb', 'hall': 'noun', 'bet': 'noun', 'impulse': 'verb', 'tolerate': 'verb', 'classroom': 'noun', 'tax': 'noun', 'well-known': 'adjective', 'throw': 'verb', 'you': 'pronoun', 'reluctant': 'adjective', 'glory': 'noun', 'quietly': 'noun', 'confrontation': 'noun', 'transformation': 'noun', 'holiday': 'noun', 'weakness': 'noun', 'itself': 'pronoun', 'else': 'adverb', 'view': 'noun', 'excitement': 'noun', 'resort': 'noun', 'spill': 'verb', 'instant': 'noun', 'glad': 'adjective', 'when': 'adverb', 'threat': 'noun', 'passing': 'noun', 'defender': 'noun', 'celebrity': 'noun', 'collaboration': 'verb', 'approval': 'noun', 'noon': 'noun', 'paint': 'verb', 'dance': 'verb', 'of': 'preposition', 'cave': 'noun', 'conceive': 'verb', 'mistake': 'verb', 'gross': 'adjective', 'structure': 'noun', 'dominate': 'verb', 'attractive': 'adjective', 'hope': 'verb', 'elbow': 'noun', 'aim': 'verb', 'protest': 'noun', 'economic': 'adjective', 'end': 'noun', 'female': 'adjective', 'publisher': 'noun', 'healthy': 'adjective', 'headquarters': 'noun', 'physically': 'adjective', 'separation': 'noun', 'preliminary': 'noun', 'mushroom': 'noun', 'beyond': 'adverb', 'wood': 'adjective', 'hole': 'noun', 'highly': 'adverb', 'resident': 'adjective', 'advise': 'verb', 'engineering': 'noun', 'drama': 'noun', 'restriction': 'noun', 'two': 'adjective', 'ourselves': 'pronoun', 'explanation': 'noun', 'freely': 'adverb', 'whole': 'adjective', 'division': 'noun', 'grin': 'verb', 'vote': 'verb', 'totally': 'adverb', 'standing': 'adjective', 'ring': 'noun', 'sack': 'noun', 'instrument': 'noun', 'seminar': 'noun', 'apparently': 'adverb', 'rope': 'noun', 'scope': 'noun', 'ritual': 'adjective', 'she': 'pronoun', 'English': 'adjective', 'management': 'noun', 'seem': 'verb', 'outdoor': 'adjective', 'slice': 'verb', 'delivery': 'noun', 'candidate': 'noun', 'emission': 'noun', 'whereas': 'conjunction', 'treaty': 'noun', 'negotiate': 'verb', 'currency': 'noun', 'photo': 'noun', 'cable': 'noun', 'life': 'noun', 'undergo': 'verb', 'schedule': 'noun', 'virus': 'noun', 'glove': 'noun', 'officer': 'noun', 'keep': 'verb', 'eventually': 'adverb', 'week': 'noun', 'versus': 'preposition', 'brush': 'noun', 'organ': 'noun', 'mobile': 'adjective', 'alter': 'verb', 'education': 'noun', 'typically': 'adverb', 'God': 'noun', 'heel': 'noun', 'stretch': 'verb', 'touch': 'verb', 'expression': 'noun', 'revenue': 'noun', 'disturb': 'verb', 'headache': 'noun', 'chance': 'noun', 'functional': 'adjective', 'articulate': 'adjective', 'ambassador': 'noun', 'under': 'adverb', 'boss': 'noun', 'substantially': 'adjective', 'determine': 'verb', 'consult': 'verb', 'verbal': 'adjective', 'girl': 'noun', 'following': 'adjective', 'formula': 'noun', 'framework': 'noun', 'drum': 'noun', 'share': 'verb', 'underlying': 'adjective', 'celebrate': 'verb', 'addition': 'noun', 'screen': 'noun', 'Islamic': 'noun', 'fabric': 'noun', 'tribe': 'noun', 'organization': 'noun', 'motivate': 'verb', 'water': 'noun', 'generate': 'verb', 'sister': 'noun', 'memory': 'noun', 'except': 'preposition', 'emotional': 'adjective', 'actually': 'adverb', 'everyone': 'pronoun', 'couch': 'verb', 'slave': 'noun', 'high-tech': 'noun', 'mixture': 'noun', 'metaphor': 'noun', 'ease': 'noun', 'episode': 'noun', 'donor': 'noun', 'virtually': 'adverb', 'judgment': 'noun', 'fraction': 'noun', 'zone': 'noun', 'quote': 'verb', 'competitor': 'noun', 'missionary': 'noun', 'altogether': 'adverb', 'multiple': 'adjective', 'bold': 'adjective', 'instruct': 'verb', 'job': 'noun', 'counter': 'noun', 'edit': 'verb', 'molecule': 'noun', 'arrange': 'verb', 'elementary': 'adjective', 'lion': 'noun', 'anyway': 'adverb', 'support': 'verb', 'adult': 'adjective', 'flavor': 'noun', 'foreigner': 'noun', 'control': 'verb', 'warning': 'noun', 'indeed': 'adverb', 'manager': 'noun', 'script': 'noun', 'construct': 'verb', 'toss': 'verb', 'grocery': 'noun', 'capacity': 'noun', 'cooperate': 'verb', 'neutral': 'noun', 'position': 'noun', 'chocolate': 'noun', 'Italian': 'noun', 'slide': 'verb', 'extension': 'noun', 'board': 'noun', 'cute': 'adjective', 'unlikely': 'adjective', 'independent': 'adjective', 'suppose': 'verb', 'wrap': 'verb', 'message': 'noun', 'property': 'noun', 'daughter': 'noun', 'throughout': 'preposition', 'pleasure': 'noun', 'intend': 'verb', 'main': 'noun', 'marry': 'verb', 'hit': 'verb', 'controversial': 'adjective', 'armed': 'adjective', 'exceed': 'verb', 'feature': 'noun', 'trend': 'noun', 'craft': 'noun', 'rifle': 'verb', 'necessarily': 'adverb', 'processor': 'noun', 'accuse': 'verb', 'vitamin': 'noun', 'sun': 'noun', 'ask': 'verb', 'ordinary': 'noun', 'moderate': 'adjective', 'brake': 'noun', 'port': 'noun', 'stance': 'noun', 'trainer': 'noun', 'solar': 'adjective', 'repair': 'verb', 'program': 'noun', 'tolerance': 'noun', 'painful': 'adjective', 'prescription': 'noun', 'initial': 'adjective', 'remarkable': 'adjective', 'chamber': 'noun', 'slam': 'noun', 'this': 'pronoun', 'empire': 'noun', 'permit': 'verb', 'classic': 'adjective', 'symbolic': 'adjective', 'supposedly': 'adverb', 'provider': 'noun', 'stiff': 'adjective', 'proportion': 'noun', 'origin': 'noun', 'modest': 'adjective', 'heritage': 'noun', 'remote': 'adjective', 'dear': 'adjective', 'trial': 'noun', 'channel': 'noun', 'kill': 'verb', 'concept': 'noun', 'secret': 'adjective', 'AM': 'NA', 'fundamental': 'adjective', 'bind': 'verb', 'preparation': 'noun', 'stupid': 'adjective', 'prominent': 'adjective', 'trick': 'noun', 'aesthetic': 'adjective', 'jungle': 'noun', 'violation': 'noun', 'shorts': 'adjective', 'salmon': 'noun', 'outfit': 'noun', 'defensive': 'adjective', 'create': 'verb', 'fast': 'adjective', 'intelligence': 'noun', 'monument': 'noun', 'grandparent': 'noun', 'mud': 'noun', 'encourage': 'verb', 'divine': 'adjective', 'rapid': 'adjective', 'stomach': 'noun', 'liver': 'noun', 'ongoing': 'adjective', 'southeast': 'adverb', 'cash': 'noun', 'congressional': 'noun', 'cost': 'noun', 'path': 'noun', 'pig': 'noun', 'reflect': 'verb', 'visitor': 'noun', 'list': 'noun', 'offer': 'verb', 'nearly': 'adverb', 'reduce': 'verb', 'prefer': 'verb', 'how': 'adverb', 'remain': 'verb', 'yesterday': 'adverb', 'just': 'adjective', 'penalty': 'noun', 'affair': 'noun', 'pat': 'noun', 'lip': 'noun', 'approach': 'verb', 'soft': 'adjective', 'kitchen': 'noun', 'tomato': 'noun', 'newly': 'adverb', 'ministry': 'noun', 'bee': 'noun', 'stone': 'noun', 'ego': 'noun', 'fairly': 'adverb', 'retreat': 'noun', 'everybody': 'pronoun', 'smoke': 'noun', 'individual': 'adjective', 'PC': 'abbreviation', 'nonetheless': 'adverb', 'should': 'verb', 'crop': 'noun', 'achievement': 'noun', 'complex': 'noun', 'oven': 'noun', 'poke': 'noun', 'exhibit': 'verb', 'improved': 'verb', 'carve': 'verb', 'band': 'noun', 'civil': 'adjective', 'endless': 'adjective', 'earnings': 'noun', 'endure': 'verb', 'wedding': 'noun', 'besides': 'preposition', 'driver': 'noun', 'ahead': 'adverb', 'unfold': 'verb', 'understand': 'verb', 'pair': 'noun', 'to': 'preposition', 'happy': 'adjective', 'deep': 'adjective', 'campus': 'noun', 'disorder': 'verb', 'retired': 'adjective', 'legislator': 'noun', 'transportation': 'noun', 'arrest': 'verb', 'chart': 'noun', 'optimistic': 'adjective', 'bit': 'noun', 'trait': 'noun', 'waste': 'noun', 'winter': 'noun', 'meat': 'noun', 'dough': 'noun', 'attach': 'verb', 'feel': 'verb', 'threaten': 'verb', 'cognitive': 'adjective', 'expense': 'noun', 'juror': 'noun', 'cartoon': 'noun', 'chunk': 'noun', 'album': 'noun', 'pipe': 'noun', 'reverse': 'adjective', 'sacred': 'adjective', 'bean': 'noun', 'Irish': 'noun', 'really': 'adverb', 'formerly': 'adverb', 'assist': 'verb', 'colonial': 'adjective', 'gather': 'verb', 'density': 'noun', 'fragile': 'adjective', 'leap': 'verb', 'regulate': 'verb', 'pass': 'verb', 'pot': 'noun', 'culture': 'noun', 'silly': 'adjective', 'blank': 'adjective', 'relevant': 'adjective', 'fine': 'noun', 'flying': 'adjective', 'landing': 'noun', 'magnetic': 'adjective', 'complicated': 'adjective', 'up': 'adverb', 'cue': 'noun', 'Christmas': 'noun', 'contemplate': 'verb', 'spark': 'noun', 'southern': 'adjective', 'dense': 'adjective', 'certainly': 'adverb', 'chest': 'noun', 'image': 'noun', 'place': 'noun', 'tropical': 'adjective', 'similarity': 'noun', 'dig': 'verb', 'plant': 'verb', 'squad': 'noun', 'unite': 'verb', 'boring': 'adjective', 'signal': 'noun', 'bite': 'verb', 'minimum': 'noun', 'accuracy': 'noun', 'great': 'adjective', 'whisper': 'verb', 'balance': 'noun', 'oversee': 'verb', 'variety': 'noun', 'lost': 'adjective', 'educational': 'noun', 'laundry': 'noun', 'wire': 'noun', 'grand': 'adjective', 'airplane': 'noun', 'harassment': 'verb', 'fraud': 'noun', 'spoon': 'noun', 'think': 'verb', 'sea': 'noun', 'yell': 'verb', 'wisdom': 'noun', 'nevertheless': 'adverb', 'edition': 'noun', 'controversy': 'noun', 'religious': 'adjective', 'punch': 'noun', 'suspect': 'adjective', 'pin': 'noun', 'circle': 'noun', 'extra': 'adjective', 'freeze': 'verb', 'govern': 'verb', 'sensitive': 'adjective', 'salad': 'noun', 'output': 'noun', 'grade': 'noun', 'slightly': 'adjective', 'expect': 'verb', 'involve': 'verb', 'black': 'adjective', 'retirement': 'noun', 'effectiveness': 'adjective', 'dedicate': 'adjective', 'meeting': 'noun', 'blow': 'verb', 'genuine': 'adjective', 'cancer': 'noun', 'beam': 'noun', 'hypothesis': 'noun', 'sail': 'noun', 'pistol': 'noun', 'old-fashioned': 'adjective', 'bake': 'verb', 'expose': 'verb', 'child': 'noun', 'captain': 'noun', 'mm-hmm': 'NA', 'artist': 'noun', 'salary': 'noun', 'explode': 'verb', 'road': 'noun', 'warm': 'adjective', 'constitution': 'noun', 'couple': 'noun', 'profound': 'adjective', 'kingdom': 'noun', 'spouse': 'noun', 'swell': 'verb', 'prosecution': 'noun', 'closest': 'verb', 'gift': 'noun', 'photography': 'noun', 'advance': 'verb', 'pace': 'noun', 'motive': 'noun', 'resolve': 'verb', 'growing': 'verb', 'regime': 'noun', 'percentage': 'noun', 'string': 'noun', 'temporary': 'adjective', 'rabbit': 'noun', 'coat': 'noun', 'dare': 'verb', 'employ': 'verb', 'extreme': 'adjective', 'relatively': 'adverb', 'monthly': 'noun', 'page': 'noun', 'compensation': 'noun', 'intelligent': 'adjective', 'stability': 'noun', 'toll': 'noun', 'dimension': 'noun', 'PM': 'abbreviation', 'nerve': 'noun', 'earn': 'verb', 'already': 'adverb', 'sodium': 'noun', 'escape': 'verb', 'many': 'adjective', 'rapidly': 'adjective', 'adolescent': 'noun', 'upset': 'verb', 'among': 'preposition', 'physics': 'noun', 'and': 'conjunction', 'million': 'noun', 'pond': 'noun', 'lighting': 'noun', 'irony': 'noun', 'pleased': 'verb', 'alone': 'adjective', 'stock': 'noun', 'book': 'noun', 'authorize': 'verb', 'regulation': 'noun', 'specific': 'adjective', 'dictate': 'verb', 'novel': 'adjective', 'all': 'adjective', 'extended': 'adjective', 'provided': 'conjunction', 'limb': 'noun', 'therapist': 'noun', 'single': 'adjective', 'equally': 'adverb', 'factor': 'noun', 'staff': 'noun', 'parish': 'noun', 'surprisingly': 'adverb', 'squeeze': 'verb', 'fat': 'adjective', 'devote': 'verb', 'grateful': 'adjective', 'site': 'noun', 'publish': 'verb', 'level': 'noun', 'eye': 'noun', 'tough': 'adjective', 'fight': 'verb', 'shooting': 'verb', 'surprise': 'noun', 'aide': 'noun', 'turn': 'verb', 'show': 'verb', 'area': 'noun', 'invention': 'noun', 'hand': 'noun', 'another': 'adjective', 'superior': 'adjective', 'Hispanic': 'adjective', 'desk': 'noun', 'bounce': 'verb', 'doll': 'noun', 'layer': 'noun', 'her': 'adjective', 'tablespoon': 'noun', 'palace': 'noun', 'context': 'noun', 'lift': 'verb', 'recommend': 'verb', 'crisis': 'noun', 'accept': 'verb', 'violent': 'adjective', 'consist': 'verb', 'singer': 'noun', 'constant': 'adjective', 'float': 'noun', 'puzzle': 'verb', 'go': 'verb', 'badly': 'adverb', 'sleeve': 'noun', 'different': 'adjective', 'bomb': 'noun', 'tube': 'noun', 'closer': 'noun', 'downtown': 'adjective', 'accusation': 'noun', 'specifically': 'adverb', 'serve': 'verb', 'hardly': 'adverb', 'guide': 'noun', 'garden': 'noun', 'fault': 'noun', 'article': 'noun', 'permission': 'noun', 'thigh': 'noun', 'bath': 'noun', 'famous': 'adjective', 'more': 'adjective', 'Congress': 'noun', 'happily': 'adverb', 'very': 'adverb', 'rider': 'noun', 'minimal': 'adjective', 'sustainable': 'adjective', 'ridiculous': 'adjective', 'fixed': 'adjective', 'ball': 'noun', 'student': 'noun', 'ultimately': 'adverb', 'breath': 'noun', 'adjustment': 'noun', 'genius': 'noun', 'actively': 'adjective', 'actual': 'adjective', 'admission': 'noun', 'sad': 'adjective', 'presidential': 'adjective', 'bride': 'noun', 'truck': 'noun', 'occasional': 'adjective', 'deadly': 'adjective', 'root': 'noun', 'parking': 'noun', 'bank': 'noun', 'fly': 'verb', 'terrain': 'noun', 'fully': 'adverb', 'human': 'adjective', 'syndrome': 'noun', 'letter': 'noun', 'export': 'verb', 'improvement': 'noun', 'impression': 'noun', 'estimate': 'verb', 'treatment': 'noun', 'rub': 'verb', 'hire': 'noun', 'launch': 'verb', 'heavy': 'adjective', 'guideline': 'noun', 'conclusion': 'noun', 'future': 'adjective', 'stare': 'verb', 'valid': 'adjective', 'auto': 'noun', 'surprised': 'adjective', 'angry': 'adjective', 'recent': 'adjective', 'advice': 'noun', 'collective': 'adjective', 'abandon': 'verb', 'sacrifice': 'noun', 'fame': 'noun', 'quarter': 'noun', 'concentration': 'noun', 'ratio': 'noun', 'favor': 'noun', 'entitle': 'verb', 'into': 'preposition', 'rating': 'noun', 'secure': 'adjective', 'infrastructure': 'noun', 'tragedy': 'noun', 'aluminum': 'noun', 'comprise': 'verb', 'disaster': 'noun', 'lung': 'noun', 'base': 'noun', 'meal': 'noun', 'producer': 'noun', 'filter': 'noun', 'stable': 'noun', 'wealthy': 'adjective', 'wing': 'noun', 'snake': 'noun', 'land': 'noun', 'strategy': 'noun', 'consider': 'verb', 'survey': 'verb', 'teaching': 'noun', 'alarm': 'noun', 'detective': 'adjective', 'ad': 'noun', 'inspiration': 'noun', 'lesson': 'noun', 'first': 'adjective', 'school': 'noun', 'shoulder': 'noun', 'midnight': 'noun', 'landmark': 'noun', 'plane': 'noun', 'listen': 'verb', 'brave': 'adjective', 'writing': 'noun', 'tennis': 'noun', 'oxygen': 'noun', 'laughter': 'noun', 'illness': 'noun', 'miss': 'verb', 'magic': 'noun', 'dump': 'verb', 'developer': 'noun', 'route': 'noun', 'researcher': 'noun', 'undermine': 'verb', 'cart': 'noun', 'shove': 'verb', 'classify': 'verb', 'appropriate': 'adjective', 'essay': 'verb', 'distract': 'verb', 'owner': 'noun', 'overnight': 'adverb', 'electrical': 'adjective', 'county': 'noun', 'leaf': 'noun', 'shift': 'verb', 'impossible': 'adjective', 'Israeli': 'adjective', 'a': 'noun', 'shy': 'adjective', 'largely': 'adverb', 'partial': 'adjective', 'policeman': 'noun', 'complete': 'adjective', 'responsible': 'adjective', 'attraction': 'noun', 'contend': 'verb', 'long-term': 'adjective', 'recover': 'verb', 'Mr': 'abbreviation', 'although': 'conjunction', 'relationship': 'noun', 'African-American': 'noun', 'discussion': 'noun', 'rib': 'noun', 'apologize': 'verb', 'resolution': 'noun', 'decline': 'verb', 'subsequent': 'adjective', 'candle': 'noun', 'garbage': 'noun', 'opposite': 'adjective', 'funeral': 'adjective', 'trust': 'noun', 'Japanese': 'noun', 'creativity': 'noun', 'selection': 'noun', 'economy': 'noun', 'increase': 'verb', 'lonely': 'adjective', 'rally': 'verb', 'shop': 'noun', 'tournament': 'noun', 'melt': 'verb', 'depend': 'verb', 'neck': 'noun', 'somehow': 'adverb', 'bottom': 'noun', 'third': 'adjective', 'ruling': 'noun', 'propose': 'verb', 'freedom': 'noun', 'grip': 'verb', 'attention': 'noun', 'town': 'noun', 'analysis': 'noun', 'council': 'noun', 'each': 'adjective', 'period': 'noun', 'weave': 'verb', 'barrel': 'noun', 'swear': 'verb', 'chill': 'noun', 'shrug': 'verb', 'skill': 'noun', 'disease': 'noun', 'sharp': 'adjective', 'rail': 'noun', 'suspend': 'verb', 'accurate': 'adjective', 'burn': 'verb', 'positive': 'adjective', 'immediately': 'adverb', 'ok': 'adverb', 'key': 'noun', 'oak': 'noun', 'sign': 'noun', 'hour': 'noun', 'border': 'noun', 'oil': 'noun', 'twin': 'noun', 'clean': 'adjective', 'laugh': 'verb', 'report': 'noun', 'suburban': 'noun', 'strain': 'noun', 'challenge': 'verb', 'adoption': 'noun', 'orbit': 'noun', 'thus': 'adverb', 'fist': 'noun', 'confess': 'verb', 'legislature': 'noun', 'seed': 'noun', 'seventh': 'noun', 'man': 'noun', 'look': 'verb', 'concerned': 'adjective', 'shopping': 'noun', 'invitation': 'noun', 'law': 'noun', 'deserve': 'verb', 'boot': 'noun', 'version': 'noun', 'clerk': 'noun', 'industrial': 'adjective', 'brother': 'noun', 'hat': 'noun', 'contest': 'verb', 'faster': 'adjective', 'wooden': 'adjective', 'tumor': 'noun', 'on': 'preposition', 'per': 'preposition', 'trash': 'noun', 'crush': 'verb', 'colorful': 'adjective', 'Internet': 'noun', 'personally': 'adverb', 'eleven': 'noun', 'coming': 'noun', 'innocent': 'adjective', 'urban': 'adjective', 'undergraduate': 'noun', 'lately': 'adverb', 'thought': 'NA', 'accompany': 'verb', 'Korean': 'noun', 'technological': 'adjective', 'premium': 'noun', 'gravity': 'noun', 'finish': 'verb', 'characteristic': 'noun', 'receive': 'verb', 'label': 'noun', 'demographic': 'noun', 'warn': 'verb', 'narrative': 'noun', 'yourself': 'pronoun', 'edge': 'noun', 'compound': 'verb', 'domain': 'noun', 'peel': 'verb', 'bonus': 'noun', 'occur': 'verb', 'hi': 'NA', 'sing': 'verb', 'possibly': 'adverb', 'spirit': 'noun', 'salt': 'noun', 'too': 'adverb', 'soul': 'noun', 'occupation': 'noun', 'own': 'adjective', 'claim': 'verb', 'prospect': 'noun', 'vacuum': 'noun', 'restrict': 'verb', 'ideological': 'adjective', 'battle': 'noun', 'literature': 'noun', 'card': 'verb', 'gang': 'noun', 'elegant': 'adjective', 'anymore': 'adverb', 'silver': 'noun', 'initially': 'adjective', 'translation': 'noun', 'occasion': 'noun', 'garage': 'noun', 'plate': 'noun', 'withdraw': 'verb', 'middle': 'adjective', 'dip': 'verb', 'identical': 'adjective', 'American': 'noun', 'step': 'noun', 'workout': 'noun', 'kind': 'noun', 'rape': 'noun', 'score': 'noun', 'quest': 'noun', 'luck': 'noun', 'golden': 'adjective', 'link': 'noun', 'Indian': 'noun', 'required': 'verb', 'cruel': 'adjective', 'ban': 'verb', 'tradition': 'noun', 'Islam': 'noun', 'legislative': 'adjective', 'quickly': 'adjective', 'billion': 'noun', 'outcome': 'noun', 'stroke': 'verb', 'gray': 'adjective', 'lecture': 'noun', 'TV': 'noun', 'usual': 'adjective', 'speed': 'noun', 'emphasis': 'noun', 'bias': 'noun', 'that': 'pronoun', 'prize': 'noun', 'jump': 'verb', 'republican': 'noun', 'wise': 'noun', 'platform': 'noun', 'belief': 'noun', 'horn': 'noun', 'subsidy': 'noun', 'depict': 'verb', 'expensive': 'adjective', 'purse': 'noun', 'conspiracy': 'noun', 'golf': 'noun', 'ownership': 'noun', 'total': 'adjective', 'equation': 'noun', 'lucky': 'adjective', 'heavily': 'adverb', 'prevail': 'verb', 'radical': 'adjective', 'employer': 'noun', 'disabled': 'adjective', 'bush': 'noun', 'physical': 'adjective', 'divide': 'verb', 'absolutely': 'adverb', 'session': 'noun', 'branch': 'noun', 'equal': 'adjective', 'adequate': 'adjective', 'mineral': 'noun', 'okay': 'adverb', 'profit': 'noun', 'brown': 'adjective', 'holy': 'adjective', 'strip': 'verb', 'citizen': 'noun', 'kneel': 'verb', 'beast': 'noun', 'testify': 'verb', 'television': 'noun', 'throat': 'noun', 'Jewish': 'adjective', 'tuck': 'verb', 'marketing': 'noun', 'pencil': 'noun', 'information': 'noun', 'punishment': 'noun', 'fair': 'adjective', 'executive': 'adjective', 'bone': 'noun', 'content': 'noun', 'odd': 'adjective', 'talk': 'verb', 'dialogue': 'noun', 'practical': 'adjective', 'utilize': 'verb', 'sibling': 'noun', 'restore': 'verb', 'delay': 'noun', 'professional': 'adjective', 'fog': 'noun', 'unable': 'adjective', 'nationwide': 'adjective', 'strict': 'adjective', 'system': 'noun', 'organic': 'adjective', 'peaceful': 'adjective', 'officially': 'noun', 'these': 'pronoun', 'catalog': 'noun', 'construction': 'noun', 'block': 'noun', 'food': 'noun', 'convinced': 'verb', 'income': 'noun', 'corruption': 'noun', 'competitive': 'adjective', 'await': 'verb', 'suddenly': 'adjective', 'investment': 'noun', 'visible': 'adjective', 'owe': 'verb', 'cow': 'noun', 'encouraging': 'adjective', 'poet': 'noun', 'use': 'noun', 'tip': 'verb', 'courtroom': 'noun', 'coastal': 'noun', 'internal': 'adjective', 'peak': 'noun', 'forty': 'noun', 'courage': 'noun', 'asset': 'noun', 'deploy': 'verb', 'join': 'verb', 'poll': 'noun', 'evolution': 'noun', 'administrative': 'adjective', 'steak': 'noun', 'inevitably': 'adverb', 'tunnel': 'noun', 'athletic': 'adjective', 'transaction': 'noun', 'diplomat': 'noun', 'fruit': 'noun', 'amendment': 'noun', 'tiny': 'adjective', 'progressive': 'adjective', 'momentum': 'noun', 'combine': 'verb', 'friendship': 'noun', 'marketplace': 'noun', 'which': 'adjective', 'mentor': 'noun', 'reality': 'noun', 'being': 'noun', 'here': 'adverb', 'Soviet': 'noun', 'corporation': 'noun', 'ship': 'noun', 'style': 'noun', 'magazine': 'noun', 'explosion': 'noun', 'yeah': 'adverb', 'opportunity': 'noun', 'yellow': 'adjective', 'tight': 'adjective', 'pitcher': 'noun', 'inherit': 'verb', 'cholesterol': 'noun', 'temple': 'noun', 'successful': 'adjective', 'awareness': 'noun', 'steadily': 'adjective', 'privately': 'adjective', 'anticipate': 'verb', 'locate': 'verb', 'lend': 'verb', 'fence': 'noun', 'various': 'adjective', 'tag': 'noun', 'openly': 'adjective', 'delicate': 'adjective', 'flee': 'verb', 'review': 'noun', 'primary': 'adjective', 'differ': 'verb', 'publicly': 'adverb', 'warmth': 'noun', 'flower': 'noun', 'gallery': 'noun', 'bishop': 'noun', 'pie': 'noun', 'ready': 'adjective', 'airport': 'noun', 'interrupt': 'verb', 'profession': 'noun', 'sustain': 'verb', 'course': 'noun', 'mixed': 'adjective', 'impose': 'verb', 'dam': 'noun', 'bowl': 'noun', 'ignore': 'verb', 'thin': 'adjective', 'earthquake': 'noun', 'journal': 'noun', 'wear': 'verb', 'produce': 'verb', 'relief': 'noun', 'symptom': 'noun', 'ought': 'verb', 'conviction': 'noun', 'immune': 'adjective', 'mom': 'noun', 'cargo': 'noun', 'point': 'noun', 'highlight': 'noun', 'not': 'adverb', 'successfully': 'adjective', 'anniversary': 'noun', 'experienced': 'adjective', 'acceptance': 'noun', 'ambitious': 'adjective', 'insurance': 'noun', 'save': 'verb', 'driving': 'adjective', 'vision': 'noun', 'institutional': 'adjective', 'likelihood': 'noun', 'elephant': 'noun', 'studio': 'noun', 'hey': 'NA', 'writer': 'noun', 'twentieth': 'noun', 'politics': 'noun', 'product': 'noun', 'bull': 'noun', 'wildlife': 'noun', 'iron': 'noun', 'carrier': 'noun', 'steep': 'adjective', 'full': 'adjective', 'fail': 'verb', 'lock': 'noun', 'knife': 'noun', 'dying': 'adjective', 'traffic': 'noun', 'partly': 'adverb', 'process': 'noun', 'ride': 'verb', 'group': 'noun', 'strengthen': 'verb', 'flood': 'noun', 'commissioner': 'noun', 'neither': 'conjunction', 'criticism': 'noun', 'banking': 'noun', 'devil': 'noun', 'humanity': 'noun', 'questionnaire': 'noun', 'makeup': 'noun', 'wake': 'verb', 'acceptable': 'adjective', 'innovation': 'noun', 'wagon': 'noun', 'epidemic': 'adjective', 'businessman': 'noun', 'camp': 'noun', 'plot': 'noun', 'user': 'noun', 'patron': 'noun', 'consent': 'verb', 'damn': 'verb', 'art': 'noun', 'announce': 'verb', 'conflict': 'noun', 'surface': 'noun', 'illegal': 'adjective', 'crack': 'verb', 'friendly': 'adjective', 'portray': 'verb', 'display': 'verb', 'appointment': 'noun', 'mental': 'adjective', 'increasingly': 'adverb', 'terrible': 'adjective', 'hurt': 'verb', 'emotion': 'noun', 'west': 'adverb', 'library': 'noun', 'lawsuit': 'noun', 'yet': 'adverb', 'raw': 'adjective', 'OK': 'adverb', 'gentle': 'adjective', 'genre': 'noun', 'commitment': 'noun', 'joy': 'noun', 'bell': 'noun', 'homeland': 'noun', 'compete': 'verb', 'additional': 'adjective', 'curriculum': 'noun', 'read': 'verb', 'sit': 'verb', 'depending': 'verb', 'affect': 'noun', 'performer': 'verb', 'prove': 'verb', 'corporate': 'adjective', 'every': 'adjective', 'attract': 'verb', 'cap': 'noun', 'heaven': 'noun', 'inevitable': 'adjective', 'clothes': 'noun', 'federal': 'adjective', 'flour': 'noun', 'refugee': 'noun', 'world': 'noun', 'international': 'adjective', 'error': 'noun', 'shared': 'adjective', 'never': 'adverb', 'important': 'adjective', 'chapter': 'noun', 'tragic': 'adjective', 'banana': 'noun', 'much': 'adjective', 'ah': 'NA', 'porch': 'noun', 'wet': 'adjective', 'dog': 'noun', 'most': 'adjective', 'category': 'noun', 'trouble': 'noun', 'riot': 'noun', 'goat': 'noun', 'buy': 'verb', 'stadium': 'noun', 'landscape': 'noun', 'kit': 'noun', 'note': 'verb', 'primarily': 'adverb', 'north': 'adverb', 'basis': 'noun', 'peer': 'noun', 'workplace': 'noun', 'mix': 'verb', 'still': 'adjective', 'spread': 'verb', 'carrot': 'noun', 'settle': 'verb', 'German': 'adjective', 'reserve': 'verb', 'rival': 'noun', 'shot': 'noun', 'discourage': 'verb', 'suburb': 'noun', 'discover': 'verb', 'community': 'noun', 'exactly': 'adverb', 'stir': 'verb', 'behave': 'verb', 'uncover': 'verb', 'significant': 'adjective', 'coalition': 'noun', 'vocal': 'adjective', 'square': 'noun', 'release': 'verb', 'today': 'adverb', 'light': 'noun', 'party': 'noun', 'us': 'pronoun', 'preserve': 'verb', 'update': 'verb', 'business': 'noun', 'shortly': 'adverb', 'tall': 'adjective', 'flesh': 'noun', 'bay': 'adjective', 'belly': 'noun', 'simple': 'adjective', 'dry': 'adjective', 'forward': 'adjective', 'statute': 'noun', 'tent': 'noun', 'flat': 'adjective', 'tightly': 'adjective', 'quarterback': 'noun', 'treasure': 'noun', 'western': 'adjective', 'hard': 'adjective', 'ballot': 'noun', 'exhaust': 'verb', 'influential': 'adjective', 'confuse': 'verb', 'historian': 'noun', 'gifted': 'adjective', 'academic': 'adjective', 'beautiful': 'adjective', 'halfway': 'adjective', 'occasionally': 'adverb', 'cat': 'noun', 'statistical': 'adjective', 'comfort': 'verb', 'regain': 'noun', 'wonder': 'noun', 'counselor': 'noun', 'shoe': 'noun', 'frankly': 'adverb', 'space': 'noun', 'monster': 'noun', 'global': 'adjective', 'investor': 'verb', 'snow': 'noun', 'definitely': 'adverb', 'shore': 'noun', 'amid': 'preposition', 'patience': 'noun', 'biology': 'noun', 'worldwide': 'adjective', 'ago': 'adjective', 'transport': 'verb', 'enthusiasm': 'noun', 'silk': 'noun', 'satisfy': 'verb', 'we': 'pronoun', 'engage': 'verb', 'well': 'noun', 'basically': 'adverb', 'criteria': 'noun', 'sake': 'noun', 'explicit': 'adjective', 'casualty': 'noun', 'yes': 'adverb', 'concrete': 'adjective', 'compel': 'verb', 'pickup': 'noun', 'scan': 'verb', 'sick': 'adjective', 'commission': 'noun', 'realm': 'noun', 'thoroughly': 'adverb', 'arrival': 'noun', 'eyebrow': 'noun', 'tea': 'noun', 'species': 'noun', 'frame': 'verb', 'surveillance': 'noun', 'mass': 'noun', 'born': 'adjective', 'concert': 'noun', 'instructional': 'noun', 'drawing': 'noun', 'shrink': 'verb', 'associated': 'verb', 'appreciation': 'noun', 'reaction': 'noun', 'bear': 'noun', 'tide': 'noun', 'initiative': 'adjective', 'clothing': 'noun', 'partnership': 'noun', 'though': 'conjunction', 'simply': 'adverb', 'candy': 'noun', 'casual': 'adjective', 'fire': 'noun', 'curtain': 'noun', 'sidewalk': 'noun', 'Christian': 'noun', 'chicken': 'noun', 'two-thirds': 'noun', 'appeal': 'noun', 'shock': 'noun', 'rack': 'noun', 'fever': 'noun', 'inflation': 'noun', 'routinely': 'noun', 'instruction': 'noun', 'source': 'noun', 'examination': 'noun', 'solely': 'adverb', 'spiritual': 'adjective', 'walk': 'verb', 'social': 'adjective', 'engine': 'noun', 'their': 'adjective', 'fish': 'noun', 'herself': 'pronoun', 'scale': 'noun', 'regional': 'adjective', 'command': 'verb', 'easily': 'adverb', 'teenager': 'adjective', 'broker': 'noun', 'maybe': 'adverb', 'actress': 'noun', 'presumably': 'adverb', 'external': 'adjective', 'will': 'verb', 'constraint': 'noun', 'net': 'noun', 'college': 'noun', 'please': 'verb', 'aid': 'verb', 'manipulate': 'verb', 'coffee': 'noun', 'painter': 'noun', 'supplier': 'verb', 'indicate': 'verb', 'bureau': 'noun', 'cut': 'verb', 'so': 'adverb', 'fill': 'verb', 'tour': 'noun', 'confusion': 'noun', 'frontier': 'noun', 'tomorrow': 'adverb', 'pray': 'verb', 'convenience': 'noun', 'sock': 'noun', 'convince': 'verb', 'terrorism': 'noun', 'consequently': 'adverb', 'fact': 'noun', 'widow': 'noun', 'passage': 'noun', 'realistic': 'adjective', 'ass': 'noun', 'troubled': 'adjective', 'nothing': 'pronoun', 'screw': 'noun', 'investigation': 'verb', 'effort': 'noun', 'standard': 'noun', 'criminal': 'adjective', 'legend': 'noun', 'African': 'noun', 'find': 'verb', 'architecture': 'noun', 'apartment': 'noun', 'boil': 'verb', 'strictly': 'adjective', 'ash': 'noun', 'sofa': 'noun', 'columnist': 'noun', 'sigh': 'verb', 'restaurant': 'noun', 'truth': 'noun', 'have': 'verb', 'lobby': 'noun', 'die': 'verb', 'clay': 'noun', 'voting': 'verb', 'romance': 'noun', 'unlike': 'adjective', 'DNA': 'noun', 'workshop': 'noun', 'shallow': 'adjective', 'including': 'verb', 'immigration': 'noun', 'knock': 'verb', 'neighbor': 'noun', 'meter': 'noun', 'perception': 'noun', 'danger': 'noun', 'there': 'adverb', 'existing': 'verb', 'formal': 'adjective', 'door': 'noun', 'resistance': 'noun', 'assign': 'verb', 'department': 'noun', 'mirror': 'noun', 'problem': 'noun', 'advocate': 'noun', 'acid': 'noun', 'repeatedly': 'adverb', 'outline': 'noun', 'moon': 'noun', 'late': 'adjective', 'dilemma': 'noun', 'grass': 'noun', 'predator': 'noun', 'Iraqi': 'NA', 'minor': 'adjective', 'horse': 'noun', 'river': 'noun', 'vs': 'abbreviation', 'toward': 'preposition', 'music': 'noun', 'ocean': 'noun', 'norm': 'noun', 'mess': 'noun', 'super': 'adjective', 'conversion': 'noun', 'clear': 'adjective', 'rehabilitation': 'noun', 'persuade': 'verb', 'after': 'adverb', 'variation': 'noun', 'desperately': 'adverb', 'client': 'noun', 'sleep': 'noun', 'Canadian': 'noun', 'hunting': 'noun', 'unemployment': 'noun', 'eastern': 'adjective', 'tooth': 'noun', 'difficulty': 'noun', 'term': 'noun', 'transmit': 'verb', 'whale': 'noun', 'listener': 'noun', 'crime': 'noun', 'retire': 'verb', 'interview': 'noun', 'stay': 'noun', 'camera': 'noun', 'sight': 'noun', 'busy': 'adjective', 'pollution': 'noun', 'concerning': 'preposition', 'foster': 'adjective', 'must': 'verb', 'whoever': 'pronoun', 'productive': 'adjective', 'Palestinian': 'NA', 'blind': 'adjective', 'humor': 'noun', 'echo': 'noun', 'consciousness': 'noun', 'society': 'noun', 'influence': 'noun', 'table': 'noun', 'indigenous': 'adjective', 'element': 'noun', 'promising': 'adjective', 'northeast': 'adverb', 'spectacular': 'adjective', 'welfare': 'noun', 'buck': 'noun', 'strongly': 'adverb', 'pose': 'verb', 'cool': 'adjective', 'emotionally': 'adjective', 'he': 'pronoun', 'distinctive': 'adjective', 'cousin': 'noun', 'pleasant': 'adjective', 'fade': 'verb', 'accommodate': 'verb', 'apply': 'verb', 'physician': 'noun', 'scientist': 'noun', 'popular': 'adjective', 'plan': 'noun', 'player': 'noun', 'familiar': 'noun', 'generally': 'adverb', 'somewhere': 'adverb', 'switch': 'noun', 'aunt': 'noun', 'same': 'adjective', 'forest': 'noun', 'punish': 'verb', 'distribution': 'noun', 'circuit': 'noun', 'mutual': 'adjective', 'complexity': 'noun', 'precise': 'adjective', 'seat': 'noun', 'forbid': 'verb', 'traditional': 'adjective', 'copy': 'noun', 'close': 'verb', 'illusion': 'noun', 'naked': 'adjective', 'steer': 'noun', 'hill': 'noun', 'charity': 'noun', 'arise': 'verb', 'whenever': 'conjunction', 'loss': 'noun', 'disappointed': 'adjective', 'documentary': 'adjective', 'room': 'noun', 'simultaneously': 'adjective', 'alcohol': 'noun', 'assume': 'verb', 'aisle': 'noun', 'react': 'verb', 'ice': 'noun', 'cab': 'noun', 'wage': 'noun', 'but': 'conjunction', 'force': 'noun', 'gay': 'adjective', 'desert': 'noun', 'vegetable': 'noun', 'pillow': 'noun', 'queen': 'noun', 'precious': 'adjective', 'invade': 'verb', 'adapt': 'verb', 'meanwhile': 'noun', 'stake': 'noun', 'alike': 'adverb', 'diverse': 'adjective', 'protection': 'noun', 'pan': 'noun', 'reinforce': 'verb', 'pretend': 'verb', 'merit': 'noun', 'sole': 'noun', 'acquire': 'verb', 'rush': 'noun', 'recognize': 'verb', 'regulator': 'noun', 'telephone': 'noun', 'manner': 'noun', 'mayor': 'noun', 'biography': 'noun', 'good': 'adjective', 'volunteer': 'noun', 'rhetoric': 'noun', 'sword': 'noun', 'sometimes': 'adverb', 'comment': 'noun', 'fourth': 'noun', 'overlook': 'verb', 'ha': 'NA', 'date': 'noun', 'poor': 'adjective', 'helpful': 'adjective', 'Chinese': 'noun', 'rare': 'adjective', 'relieve': 'verb', 'residential': 'adjective', 'proclaim': 'verb', 'bother': 'verb', 'warehouse': 'noun', 'apology': 'noun', 'supportive': 'verb', 'implication': 'noun', 'reward': 'verb', 'significance': 'noun', 'sunny': 'adjective', 'enforcement': 'verb', 'subtle': 'adjective', 'maximum': 'noun', 'retain': 'verb', 'blue': 'adjective', 'accomplishment': 'noun', 'hide': 'verb', 'pepper': 'noun', 'bug': 'noun', 'retailer': 'verb', 'meantime': 'noun', 'fate': 'noun', 'spite': 'noun', 'assistance': 'noun', 'coup': 'noun', 'principle': 'noun', 'plus': 'adjective', 'import': 'verb', 'remove': 'verb', 'surround': 'verb', 'coal': 'noun', 'praise': 'verb', 'theology': 'noun', 'previous': 'adjective', 'task': 'noun', 'graduate': 'noun', 'supposed': 'adjective', 'top': 'noun', 'Muslim': 'noun', 'so-called': 'adjective', 'family': 'noun', 'would': 'verb', 'institution': 'noun', 'sexual': 'adjective', 'rain': 'noun', 'pole': 'noun', 'loyal': 'adjective', 'swallow': 'noun', 'chief': 'adjective', 'function': 'noun', 'normally': 'adjective', 'protein': 'noun', 'denial': 'noun', 'departure': 'noun', 'title': 'noun', 'reception': 'noun', 'ethics': 'noun', 'resume': 'verb', 'nominee': 'verb', 'enter': 'verb', 'bridge': 'noun', 'theological': 'adjective', 'nurse': 'noun', 'island': 'noun', 'walking': 'noun', 'radio': 'adjective', 'beginning': 'noun', 'accelerate': 'verb', 'parental': 'noun', 'dad': 'noun', 'operation': 'noun', 'mean': 'verb', 'cookie': 'noun', 'resource': 'noun', 'name': 'noun', 'role': 'noun', 'rural': 'adjective', 'operator': 'noun', 'availability': 'noun', 'fucking': 'adjective', 'longtime': 'adjective', 'perspective': 'noun', 'pack': 'noun', 'voluntary': 'adjective', 'trauma': 'noun', 'certain': 'adjective', 'unless': 'conjunction', 'specialty': 'noun', 'safe': 'adjective', 'adopt': 'verb', 'bulk': 'noun', 'technique': 'noun', 'supply': 'verb', 'lot': 'noun', 'decide': 'verb', 'patch': 'noun', 'boast': 'noun', 'quit': 'adjective', 'champion': 'noun', 'spray': 'noun', 'add': 'verb', 'rolling': 'noun', 'adventure': 'noun', 'intense': 'adjective', 'pitch': 'noun', 'way': 'noun', 'weapon': 'noun', 'annually': 'adverb', 'argue': 'verb', 'noise': 'noun', 'celebration': 'verb', 'large': 'adjective', 'usually': 'adverb', 'mount': 'noun', 'gentleman': 'noun', 'mouth': 'noun', 'city': 'noun', 'sneak': 'verb', 'compose': 'verb', 'suitable': 'adjective', 'bubble': 'noun', 'uh': 'NA', 'orange': 'noun', 'equipment': 'noun', 'grow': 'verb', 'bread': 'noun', 'universe': 'noun', 'forum': 'noun', 'spell': 'verb', 'league': 'noun', 'killing': 'noun', 'senior': 'noun', 'paper': 'noun', 'invasion': 'noun', 'pioneer': 'noun', 'ten': 'noun', 'consume': 'verb', 'distant': 'adjective', 'ranch': 'noun', 'instinct': 'noun', 'tonight': 'adverb', 'tell': 'verb', 'technician': 'noun', 'ideal': 'adjective', 'regarding': 'preposition', 'state': 'noun', 'scientific': 'adjective', 'scholar': 'noun', 'race': 'noun', 'thread': 'noun', 'chain': 'noun', 'variable': 'adjective', 'elsewhere': 'adverb', 'raise': 'verb', 'sale': 'noun', 'sequence': 'noun', 'lamp': 'noun', 'sugar': 'noun', 'helicopter': 'noun', 'harmony': 'noun', 'elect': 'adjective', 'friend': 'noun', 'civilian': 'noun', 'autonomy': 'noun', 'section': 'noun', 'welcome': 'verb', 'undertake': 'verb', 'found': 'NA', 'stove': 'noun', 'range': 'noun', 'drinking': 'verb', 'little': 'adjective', 'weak': 'adjective', 'container': 'noun', 'cliff': 'noun', 'refuse': 'verb', 'type': 'noun', 'whose': 'adjective', 'absence': 'noun', 'delight': 'noun', 'capture': 'noun', 'Supreme': 'adjective', 'region': 'noun', 'flow': 'verb', 'bar': 'noun', 'beauty': 'noun', 'commodity': 'noun', 'method': 'noun', 'leading': 'adjective', 'battery': 'noun', 'long': 'adjective', 'scared': 'adjective', 'uniform': 'adjective', 'philosophical': 'adjective', 'out': 'adverb', 'winner': 'noun', 'protocol': 'noun', 'nobody': 'pronoun', 'clock': 'noun', 'say': 'verb', 'victim': 'noun', 'set': 'verb', 'reject': 'verb', 'despite': 'preposition', 'Arab': 'noun', 'nightmare': 'noun', 'indicator': 'noun', 'impressive': 'adjective', 'spare': 'adjective', 'justice': 'noun', 'fortunately': 'adverb', 'nor': 'conjunction', 'become': 'verb', 'his': 'adjective', 'shadow': 'noun', 'seldom': 'adverb', 'parent': 'noun', 'film': 'noun', 'data': 'noun', 'severe': 'adjective', 'uncle': 'noun', 'relax': 'verb', 'click': 'verb', 'literally': 'adverb', 'mind': 'noun', 'dining': 'verb', 'conscious': 'adjective', 'refrigerator': 'noun', 'planning': 'noun', 'joint': 'noun', 'furthermore': 'adverb', 'loud': 'adjective', 'nuclear': 'adjective', 'crew': 'NA', 'milk': 'noun', 'insist': 'verb', 'wheel': 'noun', 'abortion': 'noun', 'changing': 'verb', 'liability': 'noun', 'taste': 'verb', 'slow': 'adjective', 'aggression': 'noun', 'ensure': 'verb', 'hook': 'noun', 'frustration': 'noun', 'or': 'conjunction', 'mutter': 'verb', 'meet': 'verb', 'render': 'verb', 'forever': 'adverb', 'bag': 'noun', 'stair': 'noun', 'critic': 'noun', 'swing': 'verb', 'boom': 'verb', 'web': 'noun', 'elaborate': 'adjective', 'people': 'noun', 'allegedly': 'adjective', 'member': 'noun', 'award': 'verb', 'bid': 'verb', 'marine': 'adjective', 'pure': 'adjective', 'lack': 'verb', 'combat': 'noun', 'wipe': 'verb', 'issue': 'noun', 'manage': 'verb', 'evil': 'adjective', 'guy': 'noun', 'shelf': 'noun', 'dumb': 'adjective', 'present': 'noun', 'performance': 'noun', 'republic': 'noun', 'possession': 'noun', 'other': 'adjective', 'drawer': 'noun', 'absolute': 'adjective', 'drop': 'noun', 'museum': 'noun', 'programming': 'noun', 'privilege': 'noun', 'health': 'noun', 'purpose': 'noun', 'historically': 'adverb', 'unexpected': 'adjective', 'hell': 'noun', 'senator': 'noun', 'biological': 'adjective', 'environment': 'noun', 'combination': 'noun', 'costume': 'noun', 'provide': 'verb', 'junior': 'adjective', 'flag': 'noun', 'tired': 'adjective', 'principal': 'adjective', 'generous': 'adjective', 'police': 'verb', 'dish': 'noun', 'definition': 'noun', 'cake': 'noun', 'pork': 'noun', 'acknowledge': 'verb', 'unusual': 'adjective', 'could': 'verb', 'pale': 'noun', 'enormous': 'adjective', 'trading': 'noun', 'forget': 'verb', 'structural': 'adjective', 'hockey': 'noun', 'lose': 'verb', 'journalist': 'noun', 'diversity': 'noun', 'diabetes': 'noun', 'sculpture': 'noun', 'afraid': 'adjective', 'routine': 'noun', 'handle': 'noun', 'series': 'noun', 'dirt': 'noun', 'charge': 'noun', 'last': 'verb', 'contain': 'verb', 'extend': 'verb', 'intellectual': 'adjective', 'economist': 'noun', 'written': 'verb', 'specialize': 'verb', 'as': 'adverb', 'common': 'adjective', 'Roman': 'noun', 'red': 'adjective', 'promise': 'noun', 'center': 'noun', 'poetry': 'noun', 'boat': 'noun', 'dramatic': 'adjective', 'hang': 'verb', 'bolt': 'noun', 'outsider': 'noun', 'poverty': 'noun', 'cure': 'noun', 'complain': 'verb', 'hence': 'adverb', 'operate': 'verb', 'probably': 'adverb', 'action': 'noun', 'effect': 'noun', 'roll': 'noun', 'military': 'adjective', 'disc': 'noun', 'unprecedented': 'adjective', 'terrorist': 'noun', 'dispute': 'verb', 'scream': 'verb', 'coverage': 'noun', 'steady': 'adjective', 'degree': 'noun', 'team': 'noun', 'reservation': 'noun', 'invisible': 'adjective', 'peace': 'noun', 'fit': 'noun', 'wait': 'verb', 'medium': 'noun', 'I': 'noun', 'thousand': 'noun', 'hero': 'noun', 'voice': 'noun', 'pocket': 'noun', 'nice': 'adjective', 'estimated': 'verb', 'cabin': 'noun', 'amount': 'verb', 'my': 'adjective', 'depression': 'noun', 'stick': 'noun', 'myth': 'noun', 'short': 'adjective', 'secretary': 'noun', 'risky': 'adjective', 'without': 'preposition', 'take': 'verb', 'presidency': 'noun', 'cycle': 'noun', 'themselves': 'pronoun', 'truly': 'adverb', 'across': 'preposition', 'characterize': 'verb', 'alliance': 'noun', 'garlic': 'noun', 'sorry': 'adjective', 'negotiation': 'noun', 'bring': 'verb', 'power': 'noun', 'pizza': 'noun', 'recording': 'noun', 'tendency': 'noun', 'full-time': 'adjective', 'heat': 'verb', 'husband': 'noun', 'numerous': 'adjective', 'testimony': 'noun', 'animal': 'noun', 'put': 'verb', 'trailer': 'noun', 'weigh': 'verb', 'warrior': 'noun', 'song': 'noun', 'beard': 'noun', 'objection': 'noun', 'overcome': 'verb', 'since': 'adverb', 'breast': 'noun', 'dead': 'adjective', 'envelope': 'noun', 'cancel': 'verb', 'dissolve': 'verb', 'tackle': 'noun', 'strange': 'adjective', 'eighth': 'noun', 'neighborhood': 'noun', 'touchdown': 'noun', 'breathing': 'noun', 'start': 'verb', 'reputation': 'noun', 'include': 'verb', 'tribal': 'adjective', 'news': 'noun', 'baby': 'noun', 'rather': 'adverb', 'inherent': 'adjective', 'mystery': 'noun', 'transit': 'noun', 'lean': 'verb', 'starting': 'verb', 'confident': 'adjective', 'behavioral': 'adjective', 'effectively': 'adverb', 'birth': 'noun', 'deck': 'noun', 'nod': 'verb', 'genetic': 'adjective', 'population': 'noun', 'sufficient': 'adjective', 'finally': 'adjective', 'medal': 'noun', 'right': 'adjective', 'shower': 'noun', 'compliance': 'noun', 'jewelry': 'noun', 'high': 'adjective', 'body': 'noun', \"o'clock\": 'adverb', 'payment': 'noun', 'regulatory': 'verb', 'master': 'noun', 'veteran': 'noun', 'companion': 'noun', 'random': 'noun', 'musical': 'adjective', 'speculation': 'noun', 'injury': 'noun', 'aware': 'adjective', 'bunch': 'noun', 'segment': 'noun', 'organize': 'verb', 'column': 'noun', 'mission': 'noun', 'fisherman': 'noun', 'ladder': 'noun', 'bow': 'verb', 'sophisticated': 'adjective', 'enough': 'adjective', 'awake': 'verb', 'coordinator': 'noun', 'deposit': 'verb', 'rarely': 'adverb', 'where': 'adverb', 'grape': 'noun', 'capability': 'noun', 'frustrate': 'verb', 'unknown': 'adjective', 'background': 'noun', 'critical': 'adjective', 'lens': 'noun', 'indication': 'noun', 'whom': 'pronoun', 'fellow': 'noun', 'south': 'adverb', 'from': 'preposition', 'prepare': 'verb', 'dozen': 'noun', 'illustrate': 'verb', 'confirm': 'verb', 'necessary': 'adjective', 'steal': 'verb', 'fix': 'verb', 'creative': 'adjective', 'representation': 'noun', 'parade': 'noun', 'likewise': 'adverb', 'exchange': 'noun', 'drill': 'verb', 'war': 'noun', 'poem': 'noun', 'president': 'noun', 'treat': 'verb', 'homeless': 'adjective', 'uncomfortable': 'adjective', 'back': 'noun', 'inform': 'verb', 'implement': 'noun', 'stimulate': 'verb', 'access': 'noun', 'wife': 'noun', 'canvas': 'noun', 'organizational': 'adjective', 'radiation': 'noun', 'conference': 'noun', 'flash': 'verb', 'market': 'noun', 'mention': 'noun', 'assumption': 'noun', 'army': 'noun', 'dawn': 'verb', 'fighting': 'adjective', 'requirement': 'noun', 'validity': 'noun', 'drag': 'noun', 'headline': 'noun', 'move': 'verb', 'politician': 'noun', 'panic': 'adjective', 'representative': 'adjective', 'and/or': 'conjunction', 'weird': 'adjective', 'anonymous': 'adjective', 'diet': 'noun', 'separate': 'verb', 'train': 'noun', 'blanket': 'noun', 'gene': 'noun', 'teach': 'verb', 'facilitate': 'verb', 'require': 'verb', 'recipient': 'noun', 'such': 'adjective', 'believe': 'verb', 'empty': 'adjective', 'rid': 'verb', 'recipe': 'noun', 'consumption': 'noun', 'dramatically': 'adjective', 'even': 'adjective', 'three': 'noun', 'lake': 'noun', 'tire': 'verb', 'absorb': 'verb', 'greet': 'verb', 'however': 'conjunction', 'sure': 'adjective', 'speculate': 'verb', 'carbon': 'noun', 'romantic': 'adjective', 'convict': 'adjective', 'king': 'noun', 'considerably': 'adjective', 'reasonable': 'adjective', 'Thanksgiving': 'noun', 'purchase': 'verb', 'continuous': 'adjective', 'university': 'noun', 'ie': 'abbreviation', 'sixth': 'noun', 'activity': 'noun', 'enforce': 'verb', 'realize': 'verb', 'residence': 'noun', 'nonprofit': 'adjective', 'quantity': 'noun', 'fresh': 'adjective', 'condemn': 'verb', 'provoke': 'verb', 'spokesman': 'noun', 'failure': 'noun', 'recommendation': 'noun', 'independence': 'noun', 'measurement': 'noun', 'reply': 'verb', 'alien': 'adjective', 'huh': 'NA', 'extensive': 'adjective', 'lightly': 'adverb', 'index': 'noun', 'true': 'adjective', 'achieve': 'verb', 'wonderful': 'adjective', 'remark': 'noun', 'cause': 'noun', 'majority': 'noun', 'translate': 'verb', 'satellite': 'noun', 'tap': 'verb', 'evening': 'noun', 'line': 'noun', 'particle': 'noun', 'oral': 'adjective', 'sex': 'noun', 'broad': 'adjective', 'topic': 'noun', 'opening': 'noun', 'darkness': 'adjective', 'cooperation': 'noun', 'comprehensive': 'adjective', 'insight': 'noun', 'cloth': 'noun', 'gently': 'adjective', 'counsel': 'noun', 'administrator': 'noun', 'hostile': 'adjective', 'decorate': 'verb', 'bucket': 'noun', 'special': 'adjective', 'sunlight': 'noun', 'carpet': 'noun', 'collar': 'noun', 'ultimate': 'adjective', 'almost': 'adverb', 'entrance': 'noun', 'magnitude': 'noun', 'Latin': 'adjective', 'threshold': 'noun', 'who': 'pronoun', 'thick': 'adjective', 'wound': 'noun', 'ugly': 'adjective', 'regret': 'verb', 'over': 'adverb', 'recession': 'noun', 'run': 'verb', 'mild': 'adjective', 'rental': 'noun', 'therefore': 'adverb', 'symbol': 'noun', 'bird': 'noun', 'ghost': 'noun', 'ground': 'noun', 'shame': 'noun', 'suspicious': 'adjective', 'literary': 'adjective', 'sales': 'adjective', 'corridor': 'noun', 'harm': 'noun', 'record': 'verb', 'constitute': 'verb', 'firmly': 'adjective', 'nervous': 'adjective', 'fifth': 'noun', 'situation': 'noun', 'office': 'noun', 'minority': 'noun', 'excellent': 'adjective', 'efficiency': 'noun', 'self-esteem': 'noun', 'production': 'noun', 'during': 'preposition', 'facility': 'noun', 'soil': 'verb', 'height': 'noun', 'thrive': 'verb', 'triumph': 'noun', 'sovereignty': 'noun', 'plenty': 'noun', 'sir': 'noun', 'stop': 'verb', 'limited': 'adjective', 'persist': 'verb', 'developing': 'adjective', 'exit': 'NA', 'rocket': 'noun', 'doorway': 'noun', 'village': 'noun', 'coast': 'noun', 'integration': 'noun', 'investigator': 'noun', 'manufacturing': 'noun', 'drug': 'noun', 'drive': 'verb', 'sexually': 'adjective', 'invite': 'verb', 'interesting': 'adjective', 'knee': 'noun', 'log': 'noun', 'isolated': 'adjective', 'honey': 'noun', 'creature': 'noun', 'offensive': 'adjective', 'worried': 'adjective', 'van': 'noun', 'concede': 'verb', 'modern': 'adjective', 'atmosphere': 'noun', 'feeling': 'noun', 'striking': 'adjective', 'assess': 'verb', 'obstacle': 'noun', 'substantial': 'adjective', 'forehead': 'noun', 'if': 'conjunction', 'planner': 'noun', 'unhappy': 'adjective', 'wrist': 'noun', 'slap': 'noun', 'utility': 'noun', 'home': 'noun', 'depth': 'noun', 'chop': 'verb', 'radar': 'noun', 'stuff': 'noun', 'guest': 'noun', 'work': 'verb', 'beef': 'noun', 'graduation': 'noun', 'lawn': 'noun', 'participation': 'noun', 'wolf': 'noun', 'rhythm': 'noun', 'resist': 'verb', 'straight': 'adjective', 'summit': 'noun', 'bottle': 'noun', 'deliberately': 'verb', 'contributor': 'noun', 'gold': 'noun', 'growth': 'noun', 'colony': 'noun', 'define': 'verb', 'supervisor': 'noun', 'inspector': 'noun', 'fashion': 'noun', 'chronic': 'adjective', 'violence': 'noun', 'scenario': 'noun', 'eating': 'adjective', 'carry': 'verb', 'perfect': 'adjective', 'journey': 'noun', 'troop': 'noun', 'revelation': 'noun', 'computer': 'noun', 'analyst': 'noun', 'expansion': 'noun', 'crazy': 'adjective', 'organism': 'noun', 'chew': 'verb', 'spot': 'noun', 'march': 'noun', 'sensitivity': 'noun', 'defendant': 'noun', 'particularly': 'adverb', 'observe': 'verb', 'ability': 'noun', 'by': 'preposition', 'worth': 'verb', 'planet': 'noun', 'breathe': 'verb', 'ticket': 'noun', 'wide': 'adjective', 'entry': 'noun', 'determination': 'noun', 'pastor': 'noun', 'star': 'noun', 'gear': 'noun', 'recruit': 'verb', 'beneath': 'adverb', 'haul': 'verb', 'consecutive': 'adjective', 'give': 'verb', 'item': 'adverb', 'floor': 'noun', 'contribute': 'verb', 'open': 'adjective', 'psychology': 'noun', 'pill': 'verb', 'gate': 'noun', 'sexy': 'adjective', 'difference': 'noun', 'climb': 'verb', 'pink': 'noun', 'guarantee': 'noun', 'municipal': 'adjective', 'closed': 'adjective', 'gun': 'noun', 'one-third': 'NA', 'tie': 'verb', 'agricultural': 'adjective', 'chemistry': 'noun', 'grandmother': 'noun', 'fool': 'noun', 'favorite': 'noun', 'newspaper': 'noun', 'speech': 'noun', 'chip': 'noun', 'cast': 'verb', 'integrate': 'verb', 'handful': 'noun', 'select': 'adjective', 'burden': 'noun', 'murder': 'noun', 'him': 'pronoun', 'prisoner': 'noun', 'odds': 'noun', 'cloud': 'noun', 'prison': 'noun', 'breakfast': 'noun', 'experiment': 'noun', 'advertising': 'noun', 'time': 'noun', 'cemetery': 'noun', 'establishment': 'noun', 'rice': 'noun', 'citizenship': 'noun', 'excited': 'adjective', 'neat': 'noun', 'regular': 'adjective', 'than': 'conjunction', 'far': 'adverb', 'himself': 'pronoun', 'again': 'adverb', 'bond': 'noun', 'park': 'noun', 'drain': 'verb', 'associate': 'verb', 'opposed': 'adjective', 'what': 'pronoun', 'circumstance': 'noun', 'ridge': 'noun', 'argument': 'noun', 'draft': 'noun', 'speaker': 'noun', 'replacement': 'noun', 'arm': 'noun', 'sweep': 'verb', 'instructor': 'noun', 'write': 'verb', 'swimming': 'adjective', 'incredible': 'adjective', 'want': 'verb', 'according': 'verb', 'gesture': 'noun', 'father': 'noun', 'street': 'noun', 'possibility': 'noun', 'developmental': 'adjective', 'apparent': 'adjective', 'conservative': 'adjective', 'twice': 'adverb', 'sudden': 'adjective', 'duck': 'noun', 'potential': 'adjective', 'help': 'verb', 'possible': 'adjective', 'historic': 'adjective', 'mentally': 'adverb', 'connect': 'verb', 'pilot': 'noun', 'deer': 'noun', 'easy': 'adjective', 'theater': 'noun', 'shade': 'noun', 'widespread': 'adjective', 'hurry': 'verb', 'for': 'preposition', 'sweat': 'verb', 'incredibly': 'adverb', 'nasty': 'adjective', 'cup': 'noun', 'spend': 'verb', 'hallway': 'noun', 'anywhere': 'adverb', 'vulnerable': 'adjective', 'consistently': 'adjective', 'also': 'adverb', 'suffering': 'noun', 'nine': 'noun', 'compare': 'verb', 'approximately': 'adverb', 'moral': 'adjective', 'rat': 'noun', 'wherever': 'adverb', 'obligation': 'noun', 'disagree': 'verb', 'eat': 'verb', 'promote': 'verb', 'vertical': 'adjective', 'vendor': 'noun', 'former': 'adjective', 'wave': 'verb', 'recently': 'adverb', 'contact': 'noun', 'seal': 'noun', 'loan': 'noun', 'code': 'noun', 'spine': 'noun', 'smooth': 'adjective', 'chemical': 'adjective', 'intimate': 'verb', 'European': 'adjective', 'highway': 'noun', 'disability': 'noun', 'wine': 'noun', 'venture': 'verb', 'sprinkle': 'verb', 'soldier': 'noun', 'month': 'noun', 'no': 'adverb', 'often': 'adverb', 'company': 'noun', 'greatest': 'adjective', 'while': 'noun', 'fortune': 'noun', 'preference': 'noun', 'agent': 'noun', 'theoretical': 'adjective', 'impress': 'verb', 'donation': 'noun', 'particular': 'adjective', 'employment': 'noun', 'wrong': 'noun', 'surely': 'adverb', 'piece': 'noun', 'feminist': 'noun', 'spit': 'noun', 'solid': 'adjective', 'jazz': 'noun', 'qualify': 'verb', 'terrific': 'adjective', 'them': 'pronoun', 'nut': 'noun', 'scare': 'verb', 'importantly': 'adverb', 'format': 'noun', 'silence': 'noun', 'coach': 'noun', 'intention': 'noun', 'verdict': 'noun', 'silent': 'adjective', 'bend': 'verb', 'girlfriend': 'noun', 'distinction': 'noun', 'cluster': 'noun', 'frozen': 'adjective', 'timing': 'noun', 'banker': 'noun', 'debut': 'noun', 'grant': 'verb', 'athlete': 'noun', 'legacy': 'noun', 'your': 'adjective', 'national': 'adjective', 'operating': 'adjective', 'tender': 'adjective', 'push': 'verb', 'regardless': 'adjective', 'lower': 'verb', 'chef': 'noun', 'seek': 'verb', 'terror': 'noun', 'dot': 'noun', 'clip': 'verb', 'legal': 'adjective', 'nearby': 'adverb', 'doctor': 'noun', 'imagine': 'verb', 'organized': 'adjective', 'involvement': 'noun', 'blame': 'verb', 'attorney': 'noun', 'demand': 'noun', 'play': 'noun', 'catch': 'verb', 'detect': 'verb', 'justify': 'verb', 'plain': 'adjective', 'nomination': 'noun', 'jurisdiction': 'noun', 'youth': 'noun', 'metal': 'noun', 'kick': 'verb', 'editor': 'noun', 'tank': 'noun', 'proposed': 'verb', 'insect': 'noun', 'ecosystem': 'noun', 'dismiss': 'verb', 'United': 'adjective', 'describe': 'verb', 'daily': 'adjective', 'withdrawal': 'noun', 'isolation': 'noun', 'benefit': 'noun', 'strike': 'verb', 'cottage': 'noun', 'customer': 'noun', 'psychologist': 'noun', 'resign': 'verb', 'engagement': 'noun', 'casino': 'noun', 'curious': 'adjective', 'quite': 'adverb', 'rubber': 'noun', 'naturally': 'adverb', 'plastic': 'adjective', 'widely': 'adverb', 'leather': 'noun', 'compromise': 'noun', 'male': 'noun', 'barely': 'adverb', 'announcement': 'noun', 'fuel': 'noun', 'duty': 'noun', 'talent': 'noun', 'allow': 'verb', 'screening': 'noun', 'arrow': 'noun', 'joke': 'noun', 'shuttle': 'noun', 'crystal': 'noun', 'blond': 'adjective', 'frequent': 'verb', 'sound': 'noun', 'powerful': 'adjective', 'twelve': 'noun', 'through': 'preposition', 'notice': 'noun', 'afford': 'verb', 'opponent': 'noun', 'distinguish': 'verb', 'native': 'adjective', 'funny': 'adjective', 'wander': 'verb', 'retail': 'verb', 'feather': 'noun', 'publicity': 'noun', 'introduce': 'verb', 'partner': 'noun', 'monitor': 'noun', 'false': 'adjective', 'electric': 'adjective', 'thirty': 'noun', 'regard': 'noun', 'direct': 'verb', 'potato': 'noun', 'completely': 'adjective', 'huge': 'adjective', 'wheelchair': 'noun', 'attitude': 'noun', 'pasta': 'noun', 'frequently': 'adverb', 'builder': 'noun', 'beach': 'noun', 'peanut': 'noun', 'account': 'noun', 'original': 'noun', 'fluid': 'adjective', 'revolutionary': 'adjective', 'plaintiff': 'noun', 'scary': 'adjective', 'spring': 'verb', 'stand': 'verb', 'pump': 'noun', 'distinct': 'adjective', 'hotel': 'noun', 'remind': 'verb', 'farm': 'noun', 'rough': 'adjective', 'value': 'noun', 'related': 'adjective', 'removal': 'noun', 'cage': 'noun', 'lawmaker': 'noun', 'hungry': 'adjective', 'extremely': 'adverb', 'slowly': 'adverb', 'Olympics': 'noun', 'thereby': 'adverb', 'invest': 'verb', 'file': 'noun', 'result': 'verb', 'talented': 'noun', 'bankruptcy': 'noun', 'engineer': 'noun', 'supporter': 'noun', 'precisely': 'adverb', 'motor': 'noun', 'infection': 'noun', 'mathematics': 'noun', 'housing': 'noun', 'excessive': 'adjective', 'brick': 'noun', 'jaw': 'noun', 'obvious': 'adjective', 'composition': 'noun', 'enterprise': 'noun', 'contemporary': 'adjective', 'bombing': 'noun', 'lap': 'noun', 'vast': 'adjective', 'personnel': 'noun', 'mandate': 'noun', 'stack': 'noun', 'wow': 'NA', 'remember': 'verb', 'fund': 'noun', 'generation': 'noun', 'suffer': 'verb', 'toxic': 'adjective', 'sheep': 'noun', 'everywhere': 'adverb', 'given': 'adjective', 'toilet': 'noun', 'evidence': 'noun', 'coordinate': 'adjective', 'hunt': 'verb', 'AIDS': 'noun', 'chairman': 'noun', 'arena': 'noun', 'liberal': 'adjective', 'used': 'adjective', 'judicial': 'adjective', 'vanish': 'verb', 'prevention': 'noun', 'scheme': 'noun', 'shine': 'verb', 'flight': 'noun', 'house': 'noun', 'establish': 'verb', 'surgery': 'noun', 'quick': 'adjective', 'freshman': 'noun', 'interfere': 'verb', 'district': 'noun', 'aspect': 'noun', 'incorporate': 'verb', 'angle': 'noun', 'shirt': 'noun', 'upstairs': 'adverb', 'competition': 'noun', 'aside': 'adverb', 'traveler': 'noun', 'spending': 'verb', 'motivation': 'noun', 'woman': 'noun', 'worry': 'verb', 'ingredient': 'noun', 'butt': 'verb', 'globe': 'noun', 'proof': 'noun', 'small': 'adjective', 'scramble': 'verb', 'concern': 'verb', 'pick': 'verb', 'earth': 'noun', 'forth': 'adverb', 'respectively': 'adverb', 'toy': 'noun', 'conversation': 'noun', 'sell': 'verb', 'front': 'noun', 'ski': 'noun', 'collection': 'noun', 'photograph': 'noun', 'originally': 'adverb', 'best': 'adjective', 'sue': 'verb', 'useful': 'adjective', 'enjoy': 'verb', 'grandfather': 'noun', 'living': 'adjective', 'fall': 'verb', 'boost': 'verb', 'leader': 'noun', 'current': 'adjective', 'curiosity': 'noun', 'Bible': 'noun', 'past': 'adjective', 'violate': 'verb', 'rate': 'verb', 'club': 'noun', 'Olympic': 'adjective', 'uncertain': 'adjective', 'seven': 'noun', 'football': 'noun', 'tourism': 'noun', 'conduct': 'verb', 'whip': 'verb', 'white': 'adjective', 'informal': 'adjective', 'defense': 'noun', 'boundary': 'noun', 'neighboring': 'noun', 'century': 'noun', 'head': 'noun', 'meaningful': 'adjective', 'scandal': 'noun', 'massive': 'adjective', 'window': 'noun', 'dust': 'noun', 'behind': 'adverb', 'fiber': 'noun', 'midst': 'noun', 'mask': 'noun', 'exist': 'verb', 'interval': 'noun', 'theory': 'noun', 'ambition': 'noun', 'basketball': 'noun', 'offense': 'noun', 'communicate': 'verb', 'submit': 'verb', 'fold': 'noun', 'devastating': 'adjective', 'pet': 'noun', 'integrated': 'adjective', 'starter': 'noun', 'cook': 'noun', 'civic': 'adjective', 'alive': 'adjective', 'bill': 'noun', 'bathroom': 'noun', 'progress': 'noun', 'era': 'noun', 'its': 'adjective', 'climate': 'noun', 'meaning': 'noun', 'philosophy': 'noun', 'change': 'verb', 'nose': 'noun', 'above': 'adverb', 'possess': 'verb', 'soup': 'noun', 'in': 'preposition', 'pursue': 'verb', 'hesitate': 'verb', 'bad': 'adjective', 'wind': 'noun', 'attend': 'verb', 'left': 'adjective', 'normal': 'adjective', 'interested': 'adjective', 'hello': 'noun', 'barn': 'noun', 'count': 'verb', 'streak': 'noun', 'prayer': 'noun', 'correctly': 'verb', 'faculty': 'noun', 'legitimate': 'adjective', 'grave': 'verb', 'see': 'verb', 'childhood': 'noun', 'nest': 'noun', 'average': 'noun', 'pregnant': 'adjective', 'return': 'verb', 'somebody': 'pronoun', 'royal': 'adjective', 'length': 'noun', 'passenger': 'noun', 'cruise': 'verb', 'taxpayer': 'noun', 'guard': 'noun', 'hip': 'noun', 'exclusively': 'adjective', 'balloon': 'noun', 'hold': 'verb', 'movement': 'noun', 'priority': 'noun', 'immediate': 'adjective', 'day': 'noun', 'exploit': 'noun', 'habitat': 'noun', 'potentially': 'adjective', 'flip': 'verb', 'equip': 'verb', 'musician': 'noun', 'signature': 'noun', 'contractor': 'noun', 'booth': 'noun', 'fun': 'noun', 'description': 'noun', 'boy': 'noun', 'panel': 'noun', 'permanent': 'adjective', 'break': 'verb', 'sin': 'noun', 'broadcast': 'adjective', 'win': 'verb', 'wild': 'adjective', 'mother': 'noun', 'advantage': 'noun', 'convention': 'noun', 'somewhat': 'pronoun', 'negative': 'adjective', 'calm': 'noun', 'equality': 'noun', 'phone': 'noun', 'reliable': 'adjective', 'accent': 'noun', 'receiver': 'noun', 'elite': 'noun', 'automatically': 'adjective', 'maintain': 'verb', 'reliability': 'noun', 'morning': 'noun', 'soar': 'verb', 'sum': 'noun', 'dirty': 'adjective', 'depart': 'verb', 'person': 'noun', 'inner': 'adjective', 'software': 'noun', 'because': 'conjunction', 'wilderness': 'noun', 'register': 'noun', 'tremendous': 'adjective', 'custody': 'noun', 'development': 'noun', 'rule': 'noun', 'gas': 'noun', 'witness': 'noun', 'photographer': 'noun', 'detailed': 'adjective', 'butter': 'noun', 'prime': 'noun', 'brief': 'adjective', 'processing': 'noun', 'target': 'noun', 'sensation': 'noun', 'gain': 'noun', 'killer': 'noun', 'consumer': 'noun', 'travel': 'verb', 'ethnic': 'adjective', 'assert': 'verb', 'arrive': 'verb', 'season': 'noun', 'liquid': 'adjective', 'onto': 'preposition', 'gender': 'noun', 'turkey': 'noun', 'basic': 'adjective', 'act': 'noun', 'succeed': 'verb', 'steel': 'noun', 'hair': 'noun', 'burning': 'adjective', 'inmate': 'noun', 'rise': 'verb', 'ruin': 'noun', 'traditionally': 'noun', 'suggestion': 'noun', 'exposure': 'noun', 'personality': 'noun', 'input': 'noun', 'bronze': 'verb', 'lovely': 'adjective', 'distance': 'noun', 'acquisition': 'noun', 'lots': 'adverb', 'Russian': 'noun', 'activist': 'noun', 'vacation': 'noun', 'our': 'adjective', 'disk': 'noun', 'summer': 'noun', 'concentrate': 'verb', 'observer': 'noun', 'decade': 'noun', 'confront': 'verb', 'seemingly': 'noun', 'assembly': 'noun', 'known': 'adjective', 'exact': 'verb', 'patrol': 'noun', 'popularity': 'noun', 'dancing': 'verb', 'condition': 'noun', 'until': 'preposition', 'beat': 'verb', 'opinion': 'noun', 'execute': 'verb', 'continue': 'verb', 'hunter': 'noun', 'shut': 'verb', 'stress': 'noun', 'statue': 'noun', 'appreciate': 'verb', 'correct': 'verb', 'afternoon': 'noun', 'charm': 'noun', 'universal': 'adjective', 'fatigue': 'noun', 'stumble': 'verb', 'outstanding': 'adjective', 'declare': 'verb', 'virtue': 'noun', 'pull': 'verb', 'myself': 'pronoun', 'active': 'adjective', 'movie': 'noun', 'horror': 'noun', 'opposition': 'noun', 'involved': 'adjective', 'patient': 'adjective', 'pay': 'verb', 'safety': 'noun', 'dark': 'adjective', 'deny': 'verb', 'rich': 'adjective', 'grace': 'noun', 'author': 'noun', 'recognition': 'noun', 'map': 'noun', 'sympathy': 'noun', 'suit': 'noun', 'price': 'noun', 'moment': 'noun', 'muscle': 'noun', 'ever': 'adverb', 'outer': 'adjective', 'necessity': 'noun', 'next': 'adjective', 'package': 'noun', 'be': 'verb', 'adviser': 'noun', 'deadline': 'noun', 'follow': 'verb', 'mansion': 'noun', 'manual': 'adjective', 'psychological': 'adjective', 'convert': 'verb', 'dealer': 'noun', 'expertise': 'noun', 'collapse': 'verb', 'watch': 'verb', 'prior': 'noun', 'summary': 'adjective', 'teen': 'noun', 'protect': 'verb', 'proud': 'adjective', 'brilliant': 'adjective', 'overwhelming': 'adjective', 'scatter': 'verb', 'mall': 'noun', 'some': 'adjective', 'general': 'adjective', 'elderly': 'adjective', 'love': 'noun', 'passion': 'noun', 'previously': 'adjective', 'deficit': 'noun', 'twist': 'verb', 'slope': 'adjective', 'calendar': 'noun', 'straighten': 'verb', 'technology': 'noun', 'democratic': 'adjective', 'decision': 'noun', 'only': 'adjective', 'favorable': 'adjective', 'get': 'verb', 'sheer': 'verb', 'horrible': 'adjective', 'cheap': 'adjective', 'phenomenon': 'noun', 'rage': 'noun', 'mouse': 'noun', 'design': 'verb', 'cheek': 'noun', 'palm': 'noun', 'disclose': 'verb', 'fiction': 'noun', 'spy': 'verb', 'pause': 'noun', 'hopefully': 'adverb', 'tourist': 'noun', 'scent': 'noun', 'mortgage': 'noun', 'machine': 'noun', 'descend': 'verb', 'implementation': 'noun', 'specify': 'verb', 'audience': 'noun', 'married': 'adjective', 'historical': 'adjective', 'Republican': 'noun', 'lay': 'verb', 'franchise': 'noun', 'may': 'verb', 'might': 'verb', 'fur': 'verb', 'confidence': 'noun', 'survivor': 'verb', 'pool': 'noun', 'prediction': 'noun', 'station': 'noun', 'impact': 'verb', 'at': 'preposition', 'sweet': 'adjective', 'satisfaction': 'noun', 'ill': 'adjective', 'monkey': 'noun', 'against': 'preposition', 'reveal': 'verb', 'theme': 'noun', 'upper': 'adjective', 'victory': 'noun', 'quality': 'noun', 'let': 'verb', 'accounting': 'noun', 'designer': 'noun', 'ours': 'pronoun', 'choice': 'noun', 'auction': 'noun', 'policy': 'noun', 'professor': 'noun', 'press': 'noun', 'happiness': 'noun', 'destroy': 'verb', 'come': 'verb', 'dancer': 'verb', 'sort': 'noun', 'examine': 'verb', 'helmet': 'noun', 'idea': 'noun', 'guilty': 'adjective', 'prosecutor': 'noun', 'then': 'adverb', 'draw': 'verb', 'solution': 'noun', 'missing': 'adjective', 'ideology': 'noun', 'hot': 'adjective', 'barrier': 'noun', 'reportedly': 'adverb', 'evaluate': 'verb', 'tail': 'noun', 'juice': 'noun', 'face': 'noun', 'rumor': 'noun', 'abroad': 'adverb', 'especially': 'adverb', 'wash': 'verb', 'alongside': 'adverb', 'financial': 'adjective', 'participate': 'verb', 'blood': 'noun', 'jacket': 'noun', 'east': 'adverb', 'call': 'verb', 'like': 'verb', 'unfair': 'adjective', 'emerging': 'adjective', 'guilt': 'noun', 'reminder': 'noun', 'logic': 'noun', 'demonstration': 'noun', 'tune': 'noun', 'e-mail': 'noun', 'lid': 'noun', 'scene': 'noun', 'drift': 'noun', 'down': 'adverb', 'jury': 'noun', 'teaspoon': 'noun', 'bulb': 'noun', 'hormone': 'noun', 'project': 'noun', 'cooking': 'adjective', 'insert': 'verb', 'crash': 'verb', 'similarly': 'adjective', 'agreement': 'noun', 'urge': 'verb', 'protective': 'verb', 'allegation': 'noun', 'offender': 'verb', 'license': 'noun', 'recall': 'verb', 'reflection': 'noun', 'territory': 'noun', 'observation': 'noun', 'expectation': 'noun', 'founder': 'noun', 'suite': 'noun', 'five': 'noun', 'importance': 'noun', 'word': 'noun', 'shell': 'noun', 'consequence': 'noun', 'electricity': 'noun', 'brand': 'noun', 'imagination': 'noun', 'evident': 'adjective', 'legislation': 'noun', 'later': 'adverb', 'private': 'adjective', 'conservation': 'noun', 'thing': 'noun', 'between': 'preposition', 'lady': 'noun', 'practitioner': 'noun', 'coin': 'noun', 'admire': 'verb', 'send': 'verb', 'injure': 'verb', 'rear': 'verb', 'text': 'noun', 'Asian': 'adjective', 'explore': 'verb', 'drink': 'verb', 'stranger': 'noun', 'cooperative': 'adjective', 'hike': 'verb', 'timber': 'noun', 'valley': 'noun', 'testing': 'adjective', 'component': 'noun', 'hurricane': 'noun', 'honor': 'noun', 'significantly': 'adverb', 'smile': 'verb', 'borrow': 'verb', 'cheat': 'verb', 'hunger': 'noun', 'artistic': 'adjective', 'post': 'noun', 'towel': 'noun', 'cheer': 'noun', 'phase': 'noun', 'conscience': 'noun', 'folk': 'noun', 'suck': 'verb', 'security': 'noun', 'vaccine': 'noun', 'stereotype': 'verb', 'decent': 'adjective', 'portion': 'noun', 'soften': 'verb', 'dynamics': 'noun', 'matter': 'noun', 'enact': 'verb', 'unity': 'noun', 'plea': 'noun', 'shape': 'verb', 'attendance': 'noun', 'poster': 'noun', 'learn': 'verb', 'example': 'noun', 'begin': 'verb', 'desire': 'verb', 'diagnosis': 'noun', 'investigate': 'verb', 'green': 'adjective', 'briefly': 'adverb', 'hearing': 'noun', 'credibility': 'noun', 'pattern': 'noun', 'about': 'adverb', 'cry': 'verb', 'considerable': 'adjective', 'formation': 'noun', 'marker': 'noun', 'driveway': 'noun', 'within': 'adverb', 'lane': 'noun', 'thinking': 'noun', 'soak': 'verb', 'dream': 'noun', 'merely': 'adverb', 'dominant': 'adjective', 'beg': 'verb', 'greatly': 'adverb', 'liberty': 'noun', 'someone': 'pronoun', 'dynamic': 'adjective', 'installation': 'noun', 'building': 'noun', 'criticize': 'verb', 'connection': 'noun', 'status': 'noun', 'direction': 'noun', 'weaken': 'verb', 'firm': 'adjective', 'towards': 'preposition', 'budget': 'noun', 'pine': 'noun', 'exception': 'noun', 'butterfly': 'noun', 'vessel': 'noun', 'brutal': 'adjective', 'drunk': 'NA', 'entirely': 'adverb', 'trade': 'noun', 'angel': 'noun', 'revolution': 'noun', 'advanced': 'adjective', 'continuing': 'adjective', 'wealth': 'noun', 'sink': 'verb', 'secondary': 'adjective', 'load': 'noun', 'commonly': 'adjective', 'tower': 'noun', 'exclusive': 'adjective', 'outlet': 'noun', 'build': 'verb', 'cold': 'adjective', 'trigger': 'noun', 'egg': 'noun', 'accessible': 'adjective', 'surrounding': 'verb', 'debt': 'noun', 'loose': 'adjective', 'cope': 'verb', 'digital': 'adjective', 'skin': 'noun', 'the': 'definite_article', 'nation': 'noun', 'readily': 'adverb', 'Senate': 'noun', 'practically': 'adverb', 'costly': 'adjective', 'hay': 'noun', 'stimulus': 'noun', 'pressure': 'noun', 'print': 'noun', 'scratch': 'verb', 'foot': 'noun', 'request': 'noun', 'exhibition': 'noun', 'array': 'verb', 'servant': 'noun', 'evaluation': 'noun', 'why': 'adverb', 'color': 'noun', 'perceived': 'verb', 'execution': 'noun', 'margin': 'noun', 'hug': 'verb', 'carbohydrate': 'noun', 'few': 'pronoun', 'settlement': 'noun', 'heart': 'noun', 'alternative': 'adjective', 'technical': 'adjective', 'capable': 'adjective', 'honest': 'adjective', 'works': 'verb', 'ally': 'verb', 'once': 'adverb', 'energy': 'noun', 'apple': 'noun', 'rim': 'noun', 'behavior': 'noun', 'donate': 'verb', 'textbook': 'noun', 'intact': 'adjective', 'brain': 'noun', 'essence': 'noun', 'managing': 'verb', 'habit': 'noun', 'membership': 'noun', 'big': 'adjective', 'history': 'noun', 'hers': 'pronoun', 'increasing': 'verb', 'available': 'adjective', 'farmer': 'noun', 'equity': 'noun', 'marble': 'noun', 'hundred': 'noun', 'quiet': 'noun', 'Jew': 'noun', 'visit': 'verb', 'eliminate': 'verb', 'incentive': 'noun', 'they': 'pronoun', 'game': 'noun', 'careful': 'adjective', 'suspicion': 'noun', 'around': 'adverb', 'administer': 'verb', 'promotion': 'noun', 'part': 'noun', 'annual': 'adjective', 'waist': 'noun', 'knowledge': 'noun', 'icon': 'noun', 'bless': 'verb', 'hospital': 'noun', 'runner': 'noun', 'fewer': 'pronoun', 'enemy': 'noun', 'uncertainty': 'noun', 'profile': 'noun', 'assault': 'noun', 'consensus': 'noun', 'astronomer': 'noun', 'racial': 'adjective', 'estate': 'noun', 'endorse': 'verb', 'missile': 'adjective', \"n't\": 'verb', 'pile': 'noun', 'environmental': 'noun', 'relation': 'noun', 'tongue': 'noun', 'serving': 'noun', 'trap': 'noun', 'diary': 'noun', 'balanced': 'adjective', 'sample': 'noun', 'hostage': 'noun', 'powder': 'verb', 'assure': 'verb', 'hazard': 'noun', 'sense': 'noun', 'spin': 'verb', 'wish': 'verb', 'rank': 'noun', 'cocaine': 'noun', 'immigrant': 'noun', 'northern': 'adjective', 'extent': 'noun', 'anxiety': 'noun', 'calculate': 'verb', 'procedure': 'noun', 'learning': 'noun', 'tissue': 'noun', 'study': 'noun', 'willing': 'adjective', 'household': 'noun', 'visual': 'adjective', 'strength': 'noun', 'me': 'pronoun', 'steam': 'noun', 'loop': 'noun', 'economically': 'adverb', 'jar': 'noun', 'weight': 'noun', 'expand': 'verb', 'exploration': 'noun', 'roof': 'noun', 'supermarket': 'noun', 'it': 'pronoun', 'feed': 'verb', 'abuse': 'noun', 'bare': 'adjective', 'lawyer': 'noun', 'politically': 'adjective', 'risk': 'noun', 'training': 'noun', 'harsh': 'adjective', 'none': 'pronoun', 'Greek': 'noun', 'avoid': 'verb', 'manufacturer': 'noun', 'mysterious': 'adjective', 'closet': 'noun', 'ecological': 'noun', 'prevent': 'verb', 'productivity': 'noun', 'attack': 'verb', 'weekend': 'noun', 'pit': 'noun', 'finance': 'noun', 'toe': 'noun', 'slip': 'verb', 'bus': 'noun', 'dried': 'adjective', 'sector': 'noun', 'mechanic': 'adjective', 'rely': 'verb', 'homework': 'noun', 'merchant': 'noun', 'debate': 'noun', 'collector': 'noun', 'sensor': 'noun', 'finding': 'noun', 'cabinet': 'noun', 'invent': 'verb', 'properly': 'adjective', 'know': 'verb', 'document': 'noun', 'airline': 'noun', 'clearly': 'adverb', 'eager': 'adjective', 'expedition': 'noun', 'therapy': 'noun', 'entity': 'noun', 'heal': 'verb', 'ironically': 'adverb', 'interaction': 'noun', 'debris': 'noun', 'exclude': 'verb', 'night': 'noun', 'artificial': 'adjective', 'calculation': 'noun', 'lemon': 'noun', 'blast': 'noun', 'improve': 'verb', 'presence': 'noun', 'setting': 'noun', 'British': 'noun', 'dress': 'verb', 'reading': 'noun', 'unit': 'noun', 'judge': 'noun', 'shit': 'noun', 'hint': 'noun', 'goal': 'noun', 'alley': 'noun', 'jeans': 'NA', 'comparison': 'noun', 'expected': 'verb', 'everything': 'pronoun', 'anger': 'noun', 'diminish': 'verb', 'experience': 'noun', 'figure': 'noun', 'character': 'noun', 'initiate': 'verb', 'Christianity': 'noun', 'campaign': 'noun', 'pain': 'noun', 'personal': 'adjective', 'sweater': 'noun', 'nowhere': 'adverb', 'anyone': 'pronoun', 'stem': 'noun', 'network': 'noun', 'bitter': 'adjective', 'confession': 'noun', 'shark': 'noun', 'via': 'preposition', 'added': 'adjective', 'now': 'adverb', 'online': 'adjective', 'dependent': 'adjective', 'faith': 'noun', 'nutrient': 'adjective', 'peasant': 'noun', 'ethical': 'adjective', 'plead': 'verb', 'research': 'noun', 'burst': 'verb', 'bike': 'noun', 'mill': 'noun', 'incident': 'noun', 'central': 'adjective', 'mad': 'adjective', 'worker': 'noun', 'match': 'noun', 'vital': 'adjective', 'low': 'verb', 'abstract': 'adjective', 'imply': 'verb', 'embarrassed': 'adjective', 'mark': 'noun', 'teenage': 'adjective', 'deem': 'verb', 'enhance': 'verb', 'perfectly': 'adverb', 'depressed': 'adjective', 'class': 'noun', 'commercial': 'adjective', 'seriously': 'adverb', 'derive': 'verb', 'do': 'verb', 'handsome': 'adjective', 'piano': 'adverb', 'playoff': 'noun', 'pound': 'noun', 'blessing': 'noun', 'hear': 'verb', 'shed': 'verb', 'oppose': 'verb', 'real': 'adjective', 'backyard': 'noun', 'roughly': 'adverb', 'buyer': 'noun', 'harvest': 'noun', 'seller': 'noun', 'excuse': 'verb', 'stream': 'noun', 'horizon': 'noun', 'proposal': 'noun', 'fee': 'noun', 'typical': 'adjective', 'conception': 'noun', 'appear': 'verb', 'install': 'verb', 'bloody': 'adjective', 'artifact': 'noun', 'volume': 'noun', 'conclude': 'verb', 'grab': 'verb', 'reduction': 'noun', 'pursuit': 'noun', 'reporting': 'noun', 'reform': 'verb', 'guess': 'verb', 'fierce': 'adjective', 'employee': 'noun', 'difficult': 'adjective', 'minimize': 'verb', 'bury': 'verb', 'comedy': 'noun', 'metropolitan': 'noun', 'trim': 'verb', 'assemble': 'verb', 'premise': 'noun', 'discovery': 'noun', 'fishing': 'noun', 'faint': 'adjective', 'able': 'adjective', 'row': 'verb', 'transfer': 'verb', 'dinner': 'noun', 'smell': 'verb', 'chaos': 'noun', 'surgeon': 'noun', 'festival': 'adjective', 'cease': 'verb', 'relate': 'verb', 'final': 'adjective', 'running': 'noun', 'diamond': 'noun', 'arrangement': 'noun', 'grandchild': 'noun', 'divorce': 'noun', 'laboratory': 'noun', 'mood': 'noun', 'tray': 'noun', 'bright': 'adjective', 'preach': 'verb', 'split': 'verb', 'economics': 'noun', 'clinical': 'adjective', 'replace': 'verb', 'cross': 'noun', 'attempt': 'verb', 'occupy': 'verb', 'correlation': 'noun', 'behalf': 'noun', 'intervention': 'noun', 'comparable': 'adjective', 'giant': 'noun', 'domestic': 'adjective', 'vary': 'verb', 'sponsor': 'noun', 'second': 'adjective', 'material': 'adjective', 'encounter': 'verb', 'question': 'noun', 'effective': 'adjective', 'communication': 'noun', 'belt': 'noun', 'free': 'adjective', 'mere': 'adjective', 'transmission': 'noun', 'pro': 'noun', 'lover': 'noun', 'weed': 'noun', 'objective': 'adjective', 'obtain': 'verb', 'actor': 'noun', 'exercise': 'noun', 'herb': 'noun', 'fantastic': 'adjective', 'fear': 'noun', 'dock': 'noun', 'efficient': 'adjective', 'privacy': 'noun', 'everyday': 'adjective', 'cream': 'noun', 'classical': 'adjective', 'continued': 'adjective', 'wheat': 'noun', 'along': 'preposition', 'Mexican': 'noun', 'assistant': 'noun', 'notebook': 'noun', 'glimpse': 'verb', 'approve': 'verb', 'slot': 'noun', 'consideration': 'noun', 'tension': 'noun', 'shout': 'verb', 'agency': 'noun', 'disappointment': 'noun', 'deeply': 'adjective', 'capital': 'adjective', 'anxious': 'adjective', 'pad': 'noun', 'colleague': 'noun', 'dose': 'noun', 'entrepreneur': 'noun', 'youngster': 'noun', 'discourse': 'noun', 'flame': 'noun', 'location': 'noun', 'response': 'noun', 'leadership': 'noun', 'event': 'noun', 'statement': 'noun', 'gathering': 'noun', 'understanding': 'noun', 'maker': 'noun', 'partially': 'adverb', 'sexuality': 'noun', 'tree': 'noun', 'yard': 'noun', 'galaxy': 'noun', 'automobile': 'noun', 'crowd': 'verb', 'unfortunately': 'adverb', 'interpretation': 'noun', 'corner': 'noun', 'care': 'noun', 'mainly': 'adverb', 'texture': 'noun', 'object': 'noun', 'refuge': 'noun', 'below': 'adverb', 'similar': 'adjective', 'develop': 'verb', 'reporter': 'noun', 'apart': 'adverb', 'onion': 'noun', 'represent': 'verb', 'skip': 'verb', 'cell': 'noun', 'model': 'noun', 'cotton': 'noun', 'rescue': 'verb', 'option': 'noun', 'check': 'noun', 'smart': 'adjective', 'inspire': 'verb', 'skilled': 'adjective', 'deputy': 'noun', 'disappear': 'verb', 'gym': 'noun', 'minute': 'noun', 'soccer': 'noun', 'rock': 'verb', 'boyfriend': 'noun', 'entire': 'adjective', 'sphere': 'noun', 'survival': 'noun', 'constantly': 'adverb', 'increased': 'adjective', 'pregnancy': 'noun', 'six': 'noun', 'instead': 'adverb', 'credit': 'noun', 'gut': 'noun', 'near': 'adverb', 'bicycle': 'noun', 'presentation': 'noun', 'scholarship': 'noun', 'rent': 'noun', 'director': 'noun', 'fitness': 'noun', 'aggressive': 'adjective', 'sheet': 'noun', 'gasoline': 'noun', 'patent': 'adjective', 'doctrine': 'noun', 'amazing': 'adjective', 'differently': 'adverb', 'fifteen': 'noun', 'database': 'noun', 'reach': 'verb', 'career': 'noun', 'portfolio': 'noun', 'lie': 'verb', 'aircraft': 'noun', 'church': 'noun', 'Spanish': 'noun', 'pant': 'verb', 'fan': 'noun', 'flexibility': 'adjective', 'choose': 'verb', 'analyze': 'verb', 'death': 'noun', 'clue': 'noun', 'half': 'noun', 'naval': 'adjective', 'gap': 'noun', 'convey': 'verb', 'cultural': 'adjective', 'damage': 'noun', 'media': 'noun', 'relative': 'noun', 'rip': 'verb', 'furniture': 'noun', 'loyalty': 'noun', 'innovative': 'adjective', 'journalism': 'noun', 'track': 'noun', 'cheese': 'noun', 'Catholic': 'adjective', 'working': 'noun', 'union': 'noun', 'currently': 'adverb', 'assessment': 'noun', 'either': 'adjective', 'broken': 'adjective', 'age': 'noun', 'statistics': 'noun', 'discrimination': 'noun', 'attribute': 'noun', 'live': 'verb', 'natural': 'adjective', 'adjust': 'verb', 'breeze': 'noun', 'deliver': 'verb', 'willingness': 'adjective', 'agree': 'verb', 'comfortable': 'adjective', 'bedroom': 'noun', 'slight': 'adjective', 'notion': 'noun', 'nature': 'noun', 'admit': 'verb', 'comply': 'verb', 'purple': 'adjective', 'shake': 'verb', 'offering': 'noun', 'old': 'adjective', 'safely': 'adjective', 'discuss': 'verb', 'projection': 'noun', 'sanction': 'noun', 'Persian': 'noun', 'reference': 'noun', 'spectrum': 'noun', 'shoot': 'verb', 'dessert': 'noun', 'pension': 'noun', 'short-term': 'adjective', 'minister': 'noun', 'demonstrate': 'verb', 'ceiling': 'noun', 'Ms': 'abbreviation', 'always': 'adverb', 'proper': 'adjective', 'rebel': 'adjective', 'essentially': 'adverb', 'discount': 'noun', 'constitutional': 'adjective', 'portrait': 'noun', 'cop': 'noun', 'clinic': 'noun', 'maintenance': 'noun', 'viewer': 'noun', 'resemble': 'verb', 'hidden': 'adjective', 'fantasy': 'noun', 'yours': 'pronoun', 'perhaps': 'adverb', 'need': 'noun', 'explain': 'verb', 'gradually': 'noun', 'fleet': 'verb', 'government': 'noun', 'application': 'noun', 'marriage': 'noun', 'vehicle': 'noun', 'curve': 'adjective', 'identity': 'noun', 'exam': 'noun', 'hardware': 'noun', 'limit': 'noun', 'funding': 'noun', 'expert': 'adjective', 'those': 'pronoun', 'pretty': 'adjective', 'latter': 'adjective', 'accomplish': 'verb', 'glance': 'verb', 'sometime': 'adverb', 'seize': 'verb', 'wall': 'noun', 'rest': 'noun', 'mostly': 'adverb', 'architect': 'noun', 'self': 'noun', 'gaze': 'verb', 'mountain': 'noun', 'anybody': 'pronoun', 'others': 'adjective', 'store': 'verb', 'eight': 'noun', 'Democrat': 'noun', 'son': 'noun', 'extraordinary': 'adjective', 'size': 'noun', 'guitar': 'noun', 'thumb': 'noun', 'accountability': 'noun', 'intensity': 'noun', 'migration': 'noun', 'CEO': 'noun', 'obviously': 'adverb', 'destruction': 'noun', 'limitation': 'noun', 'together': 'adverb', 'inquiry': 'noun', 'charter': 'noun', 'kid': 'noun', 'isolate': 'verb', 'interact': 'verb', 'official': 'noun', 'thank': 'verb', 'logical': 'adjective', 'math': 'noun', 'least': 'adjective', 'evolve': 'verb', 'thanks': 'noun', 'fighter': 'noun', 'sentiment': 'noun', 'both': 'pronoun', 'picture': 'noun', 'Mrs': 'NA', 'core': 'noun', 'consistent': 'adjective', 'whether': 'conjunction', 'survive': 'verb', 'educate': 'verb', 'side': 'noun', 'infant': 'noun', 'carefully': 'adjective', 'storm': 'noun', 'chin': 'noun', 'till': 'preposition', 'association': 'noun', 'responsibility': 'noun', 'solve': 'verb', 'fork': 'noun', 'destination': 'noun', 'mortality': 'noun', 'collect': 'noun', 'crawl': 'verb', 'automatic': 'adjective', 'order': 'verb', 'enroll': 'verb', 'overwhelm': 'verb', 'awful': 'adjective', 'elevator': 'noun', 'agriculture': 'noun', 'instantly': 'adverb', 'tale': 'noun', 'commander': 'noun', 'whatever': 'pronoun', 'French': 'verb', 'suggest': 'verb', 'test': 'noun', 'likely': 'adjective', 'overall': 'adverb', 'surprising': 'adjective', 'authority': 'noun', 'sky': 'noun', 'appearance': 'noun', 'birthday': 'noun', 'grain': 'noun', 'respondent': 'noun', 'skull': 'noun', 'counterpart': 'noun', 'new': 'adjective', 'continent': 'adjective', 'motion': 'noun', 'beside': 'preposition', 'asleep': 'adjective', 'railroad': 'noun', 'priest': 'noun', 'bullet': 'noun', 'weekly': 'adverb', 'voter': 'noun', 'rational': 'adjective', 'happen': 'verb', 'factory': 'noun', 'storage': 'noun', 'custom': 'noun', 'decrease': 'verb', 'shelter': 'noun', 'entertainment': 'noun', 'chase': 'noun', 'hate': 'noun', 'closely': 'verb', 'focus': 'noun', 'desperate': 'adjective', 'defeat': 'verb', 'someday': 'adverb', 'number': 'noun', 'specialist': 'noun', 'shareholder': 'noun', 'identify': 'verb', 'tear': 'verb', 'straw': 'noun', 'educator': 'noun', 'mine': 'adjective', 'middle-class': 'adjective', 'anything': 'pronoun', 'pulse': 'noun', 'tactic': 'noun', 'creation': 'noun', 'fiscal': 'adjective', 'money': 'noun', 'pride': 'noun', 'appoint': 'verb', 'Dutch': 'adverb', 'car': 'noun', 'make': 'verb', 'lifetime': 'noun', 'strategic': 'adjective', 'yield': 'verb', 'narrow': 'adjective', 'mechanical': 'adjective', 'tighten': 'verb', 'rod': 'noun', 'fascinating': 'adjective', 'trunk': 'noun', 'rebuild': 'verb', 'early': 'adverb', 'blink': 'verb', 'medicine': 'noun', 'science': 'noun', 'stage': 'noun', 'trail': 'verb', 'electronic': 'adjective', 'success': 'noun', 'opera': 'NA', 'practice': 'verb', 'dangerous': 'adjective', 'regularly': 'adverb', 'finger': 'noun', 'lunch': 'noun', 'major': 'adjective', 'T-shirt': 'noun', 'video': 'noun', 'political': 'adjective', 'ankle': 'noun', 'crowded': 'adjective', 'democracy': 'noun', 'experimental': 'adjective', 'button': 'noun', 'skirt': 'noun', 'crucial': 'adjective', 'miracle': 'noun', 'defend': 'verb', 'corn': 'noun', 'cling': 'verb', 'double': 'adjective', 'prohibit': 'verb', 'drown': 'verb', 'bed': 'noun', 'opt': 'verb', 'teacher': 'noun', 'basket': 'noun', 'fare': 'verb', 're': 'noun', 'answer': 'noun', 'enable': 'verb', 'speak': 'verb', 'pop': 'verb', 'compelling': 'adjective', 'swim': 'verb', 'tobacco': 'noun', 'counseling': 'noun', 'country': 'noun', 'alleged': 'adjective', 'predict': 'verb', 'baseball': 'noun', 'device': 'noun', 'subject': 'noun', 'language': 'noun', 'temperature': 'noun', 'governor': 'noun', 'mode': 'noun', 'jet': 'noun', 'bat': 'noun', 'one': 'adjective', 'strong': 'adjective', 'accident': 'noun', 'virtual': 'adjective', 'struggle': 'verb', 'lead': 'verb', 'afterward': 'adverb', 'atop': 'adverb', 'off': 'adverb', 'air': 'noun', 'sport': 'verb', 'refer': 'verb', 'selected': 'adjective', 'outside': 'noun', 'glass': 'noun', 'correspondent': 'adjective', 'leave': 'verb', 'respect': 'noun', 'cover': 'verb', 'perceive': 'verb', 'weather': 'noun', 'valuable': 'adjective', 'exotic': 'adjective', 'mechanism': 'noun', 'otherwise': 'pronoun', 'legally': 'adverb', 'provision': 'noun', 'case': 'noun', 'perform': 'verb', 'address': 'verb', 'publication': 'noun', 'labor': 'noun', 'host': 'noun', 'express': 'adjective', 'ribbon': 'noun', 'unique': 'adjective', 'better': 'adjective'}\n",
    "#tokenize dictionary values\n",
    "word_classes = []\n",
    "for word in word_class_dict.keys():\n",
    "    word_classes.append(word_class_dict[word])\n",
    "word_classes = set(word_classes)\n",
    "word_classes = list(word_classes)\n",
    "print(word_classes)"
   ]
  },
  {
   "cell_type": "code",
   "execution_count": 27,
   "metadata": {
    "collapsed": false,
    "deletable": true,
    "editable": true
   },
   "outputs": [],
   "source": [
    "def collect_data(vocabulary_size=10000):\n",
    "    url = 'http://mattmahoney.net/dc/'\n",
    "    filename = maybe_download('text8.zip', url, 31344016)\n",
    "    vocabulary = read_data(filename)\n",
    "    print(vocabulary[690:700])\n",
    "    data, count, dictionary, reverse_dictionary = build_dataset(vocabulary,vocabulary_size)\n",
    "    del vocabulary  # Hint to reduce memory.\n",
    "    return data, count, dictionary, reverse_dictionary"
   ]
  },
  {
   "cell_type": "code",
   "execution_count": 28,
   "metadata": {
    "collapsed": true,
    "deletable": true,
    "editable": true
   },
   "outputs": [],
   "source": [
    "data_index = 0\n",
    "# generate batch data\n",
    "def generate_batch(data, batch_size, num_skips, skip_window, dictionary, reverse_dictionary): \n",
    "    global data_index\n",
    "    global word_class_dict\n",
    "    assert batch_size % num_skips == 0\n",
    "    assert num_skips <= 2 * skip_window\n",
    "    batch = np.ndarray(shape=(batch_size), dtype=np.int32)\n",
    "    context = np.ndarray(shape=(batch_size, 1), dtype=np.int32)\n",
    "    span = 2 * skip_window + 1  # [ skip_window input_word skip_window ]\n",
    "    buffer = collections.deque(maxlen=span)\n",
    "    for _ in range(span):\n",
    "        buffer.append(data[data_index])\n",
    "        data_index = (data_index + 1) % len(data)\n",
    "    for i in range(batch_size // num_skips):\n",
    "        target = skip_window  # input word at the center of the buffer\n",
    "        targets_to_avoid = [skip_window]\n",
    "        #check see if word has word_class in dictionary\n",
    "        word_in_question = reverse_dictionary[buffer[skip_window]]\n",
    "        if word_in_question in word_class_dict.keys():\n",
    "            has_word_class = 1\n",
    "            batch[i * num_skips + num_skips - 1] = buffer[skip_window]\n",
    "            word_class_input = word_class_dict[word_in_question]\n",
    "            context[i * num_skips + num_skips - 1, 0] = dictionary[word_class_input]\n",
    "        else: #otherwise business as usual\n",
    "            has_word_class = 0\n",
    "        for j in range(num_skips - has_word_class): #Leave 1 skip for wordclass \n",
    "            while target in targets_to_avoid:\n",
    "                target = random.randint(0, span - 1)\n",
    "            targets_to_avoid.append(target)\n",
    "            batch[i * num_skips + j] = buffer[skip_window]  # this is the input word\n",
    "            context[i * num_skips + j, 0] = buffer[target]  # these are the context words\n",
    "        buffer.append(data[data_index])\n",
    "        data_index = (data_index + 1) % len(data)\n",
    "    # Backtrack a little bit to avoid skipping words in the end of a batch\n",
    "    data_index = (data_index + len(data) - span) % len(data)\n",
    "    return batch, context\n"
   ]
  },
  {
   "cell_type": "code",
   "execution_count": 29,
   "metadata": {
    "collapsed": false,
    "deletable": true,
    "editable": true
   },
   "outputs": [
    {
     "name": "stdout",
     "output_type": "stream",
     "text": [
      "Found and verified text8.zip\n",
      "['to', 'use', 'resources', 'capital', 'and', 'goods', 'in', 'accordance', 'with', 'principles']\n",
      "adjective\n",
      "NA\n",
      "verb\n",
      "pronoun\n",
      "definite_article\n",
      "noun\n",
      "preposition\n",
      "conjunction\n",
      "adverb\n",
      "abbreviation\n",
      "<class 'dict'>\n"
     ]
    }
   ],
   "source": [
    "vocabulary_size = 10000\n",
    "data, count, dictionary, reverse_dictionary = collect_data(vocabulary_size=vocabulary_size)\n",
    "\n",
    "batch_size = 128\n",
    "embedding_size = 300  # Dimension of the embedding vector.\n",
    "skip_window = 2       # How many words to consider left and right.\n",
    "num_skips = 2         # How many times to reuse an input to generate a label.\n",
    "\n",
    "# We pick a random validation set to sample nearest neighbors. Here we limit the\n",
    "# validation samples to the words that have a low numeric ID, which by\n",
    "# construction are also the most frequent.\n",
    "valid_size = 16     # Random set of words to evaluate similarity on.\n",
    "valid_window = 100  # Only pick dev samples in the head of the distribution.\n",
    "valid_examples = np.random.choice(valid_window, valid_size, replace=False)\n",
    "num_sampled = 64    # Number of negative examples to sample.\n",
    "\n",
    "graph = tf.Graph()\n"
   ]
  },
  {
   "cell_type": "code",
   "execution_count": 31,
   "metadata": {
    "collapsed": false
   },
   "outputs": [
    {
     "data": {
      "text/plain": [
       "'where'"
      ]
     },
     "execution_count": 31,
     "metadata": {},
     "output_type": "execute_result"
    }
   ],
   "source": [
    "type(dictionary)\n",
    "reverse_dictionary[100]"
   ]
  },
  {
   "cell_type": "code",
   "execution_count": 32,
   "metadata": {
    "collapsed": true,
    "deletable": true,
    "editable": true
   },
   "outputs": [],
   "source": [
    "import pickle\n",
    "\n",
    "with open('pickle_data.pickle', 'wb') as pickle_data:\n",
    "    pickle.dump(data, pickle_data, protocol=pickle.HIGHEST_PROTOCOL)\n",
    "pickle_data.close()\n",
    "\n",
    "with open('pickle_count.pickle', 'wb') as pickle_count:\n",
    "    pickle.dump(count, pickle_count, protocol=pickle.HIGHEST_PROTOCOL)\n",
    "pickle_count.close()\n",
    "\n",
    "with open('pickle_dictionary.pickle', 'wb') as pickle_dictionary:\n",
    "    pickle.dump(dictionary, pickle_dictionary, protocol=pickle.HIGHEST_PROTOCOL)\n",
    "pickle_dictionary.close()\n",
    "\n",
    "with open('pickle_rdictionary.pickle', 'wb') as pickle_rdictionary:\n",
    "    pickle.dump(reverse_dictionary, pickle_rdictionary, protocol=pickle.HIGHEST_PROTOCOL)\n",
    "pickle_dictionary.close()\n"
   ]
  },
  {
   "cell_type": "code",
   "execution_count": 33,
   "metadata": {
    "collapsed": true,
    "deletable": true,
    "editable": true
   },
   "outputs": [],
   "source": [
    "with open('pickle_data.pickle', 'rb') as pickle_data:\n",
    "    data = pickle.load(pickle_data)\n",
    "pickle_data.close()\n",
    "\n",
    "with open('pickle_count.pickle', 'rb') as pickle_count:\n",
    "    count = pickle.load(pickle_count)\n",
    "pickle_count.close()\n",
    "\n",
    "with open('pickle_dictionary.pickle', 'rb') as pickle_dictionary:\n",
    "    dictionary = pickle.load(pickle_dictionary)\n",
    "pickle_dictionary.close()\n",
    "\n",
    "with open('pickle_rdictionary.pickle', 'rb') as pickle_rdictionary:\n",
    "    reverse_dictionary = pickle.load(pickle_rdictionary)\n",
    "pickle_rdictionary.close()"
   ]
  },
  {
   "cell_type": "code",
   "execution_count": 34,
   "metadata": {
    "collapsed": false,
    "deletable": true,
    "editable": true
   },
   "outputs": [],
   "source": [
    "with graph.as_default():\n",
    "\n",
    "    # Input data.\n",
    "    train_inputs = tf.placeholder(tf.int32, shape=[batch_size])\n",
    "    train_context = tf.placeholder(tf.int32, shape=[batch_size, 1])\n",
    "    valid_dataset = tf.constant(valid_examples, dtype=tf.int32)\n",
    "\n",
    "    # Look up embeddings for inputs.\n",
    "    embeddings = tf.Variable(\n",
    "        tf.random_uniform([vocabulary_size, embedding_size], -1.0, 1.0))\n",
    "    embed = tf.nn.embedding_lookup(embeddings, train_inputs)\n",
    "\n",
    "    # Construct the variables for the softmax\n",
    "    weights = tf.Variable(\n",
    "        tf.truncated_normal([embedding_size, vocabulary_size],\n",
    "                          stddev=1.0 / math.sqrt(embedding_size)))\n",
    "    biases = tf.Variable(tf.zeros([vocabulary_size]))\n",
    "    hidden_out = tf.transpose(tf.matmul(tf.transpose(weights), tf.transpose(embed))) + biases\n",
    "\n",
    "    # convert train_context to a one-hot format\n",
    "    train_one_hot = tf.one_hot(train_context, vocabulary_size)\n",
    "\n",
    "    cross_entropy = tf.reduce_mean(tf.nn.softmax_cross_entropy_with_logits(logits=hidden_out, labels=train_one_hot))\n",
    "\n",
    "    # Construct the SGD optimizer using a learning rate of 1.0.\n",
    "    optimizer = tf.train.GradientDescentOptimizer(1.0).minimize(cross_entropy)\n",
    "\n",
    "    # Compute the cosine similarity between minibatch examples and all embeddings.\n",
    "    norm = tf.sqrt(tf.reduce_sum(tf.square(embeddings), 1, keep_dims=True))\n",
    "    normalized_embeddings = embeddings / norm\n",
    "    valid_embeddings = tf.nn.embedding_lookup(\n",
    "        normalized_embeddings, valid_dataset)\n",
    "    similarity = tf.matmul(\n",
    "        valid_embeddings, normalized_embeddings, transpose_b=True)\n",
    "\n",
    "    # Add variable initializer.\n",
    "    init = tf.global_variables_initializer()\n"
   ]
  },
  {
   "cell_type": "code",
   "execution_count": 35,
   "metadata": {
    "collapsed": false
   },
   "outputs": [
    {
     "name": "stdout",
     "output_type": "stream",
     "text": [
      "<class 'dict'>\n",
      "[76 79 66 60 68 23 38 90 53 39  6  5  2 40 47 83]\n",
      "where\n"
     ]
    }
   ],
   "source": [
    "print(type(dictionary))\n",
    "print(valid_examples)\n",
    "print(reverse_dictionary[100])"
   ]
  },
  {
   "cell_type": "code",
   "execution_count": 38,
   "metadata": {
    "collapsed": true,
    "deletable": true,
    "editable": true
   },
   "outputs": [],
   "source": [
    "def run(graph, num_steps):\n",
    "    with tf.Session(graph=graph) as session:\n",
    "        # We must initialize all variables before we use them.\n",
    "        global reverse_dictionary\n",
    "        global data\n",
    "        global dictionary\n",
    "        global valid_examples\n",
    "        \n",
    "        init.run()\n",
    "        print('Initialized')\n",
    "\n",
    "        average_loss = 0\n",
    "        for step in range(num_steps):\n",
    "            batch_inputs, batch_context = generate_batch(data,\n",
    "              batch_size, num_skips, skip_window, dictionary, reverse_dictionary)\n",
    "            feed_dict = {train_inputs: batch_inputs, train_context: batch_context}\n",
    "\n",
    "            # We perform one update step by evaluating the optimizer op (including it\n",
    "            # in the list of returned values for session.run()\n",
    "            _, loss_val = session.run([optimizer, cross_entropy], feed_dict=feed_dict)\n",
    "            average_loss += loss_val\n",
    "        \n",
    "            if step == 100 or step == 1000 or step == 5000 or step == 10000:\n",
    "                print(\"step = 100 or 1000 or 5000 or 10000\")\n",
    "        \n",
    "            if step % 2000 == 0:\n",
    "                if step > 0:\n",
    "                    average_loss /= 2000\n",
    "                # The average loss is an estimate of the loss over the last 2000 batches.\n",
    "                print('Average loss at step ', step, ': ', average_loss)\n",
    "                average_loss = 0\n",
    "\n",
    "            # Note that this is expensive (~20% slowdown if computed every 500 steps)\n",
    "            if step % 10000 == 0:\n",
    "                sim = similarity.eval()\n",
    "                for i in range(valid_size):\n",
    "                    valid_word = reverse_dictionary[valid_examples[i]]\n",
    "                    top_k = 8  # number of nearest neighbors\n",
    "                    nearest = (-sim[i, :]).argsort()[1:top_k + 1]\n",
    "                    log_str = 'Nearest to %s:' % valid_word\n",
    "                    closest_k = []\n",
    "                    for k in range(top_k):\n",
    "                        closest_k.append(reverse_dictionary[nearest[k]])\n",
    "                        #log_str = '%s %s,' % (log_str, close_word)\n",
    "                    print(log_str, \" \", closest_k)\n",
    "                        \n",
    "        final_embeddings = normalized_embeddings.eval()"
   ]
  },
  {
   "cell_type": "code",
   "execution_count": 39,
   "metadata": {
    "collapsed": false,
    "deletable": true,
    "editable": true
   },
   "outputs": [
    {
     "name": "stdout",
     "output_type": "stream",
     "text": [
      "Initialized\n",
      "Average loss at step  0 :  9.32009887695\n",
      "Nearest to no:   ['explains', 'stops', 'neighbouring', 'standardized', 'dogma', 'telephones', 'subcontinent', 'schr']\n",
      "Nearest to about:   ['disadvantage', 'opposed', 'letters', 'man', 'stars', 'rifle', 'treasure', 'oscar']\n",
      "Nearest to these:   ['treaties', 'internationally', 'judaism', 'purpose', 'advised', 'ruins', 'wounds', 'microsoft']\n",
      "Nearest to there:   ['shipped', 'ku', 'babe', 'afghan', 'bankruptcy', 'why', 'billy', 'mind']\n",
      "Nearest to see:   ['across', 'latitude', 'inherently', 'mu', 'numerous', 'grt', 'felt', 'oliver']\n",
      "Nearest to seven:   ['destination', 'cost', 'chords', 'illusion', 'slovenia', 'combat', 'mars', 'confession']\n",
      "Nearest to not:   ['contribution', 'dynasty', 'weather', 'bill', 'depicted', 'tat', 'alfred', 'congregations']\n",
      "Nearest to use:   ['cousin', 'leaving', 'pointing', 'arnold', 'reconnaissance', 'technological', 'deemed', 'african']\n",
      "Nearest to can:   ['burns', 'fixed', 'hits', 'sexuality', 'plastic', 'overthrown', 'fighters', 'aug']\n",
      "Nearest to have:   ['nominal', 'cup', 'ports', 'recommended', 'were', 'defense', 'interior', 'chords']\n",
      "Nearest to a:   ['saving', 'checked', 'insight', 'handled', 'any', 'eastern', 'caffeine', 'multiple']\n",
      "Nearest to in:   ['discipline', 'jeremiah', 'household', 'potentially', 'affair', 'quad', 'suspect', 'marlowe']\n",
      "Nearest to of:   ['swimming', 'crashed', 'visible', 'casualties', 'anglican', 'agreed', 'infrastructure', 'blessed']\n",
      "Nearest to were:   ['stretched', 'retail', 'expand', 'fencing', 'identifies', 'dependency', 'have', 'polynomial']\n",
      "Nearest to they:   ['paperback', 'atlas', 'detected', 'deeply', 'ross', 'received', 'immune', 'joined']\n",
      "Nearest to people:   ['smell', 'elsewhere', 'mechanics', 'arthur', 'clerk', 'porter', 'synonym', 'cartoonist']\n",
      "step = 100 or 1000 or 5000 or 10000\n",
      "Softmax method took 154.530339 minutes to run 100 iterations\n",
      "Initialized\n",
      "Average loss at step  0 :  9.39762020111\n",
      "Nearest to no:   ['sanskrit', 'phrases', 'scientology', 'observe', 'format', 'flag', 'phillips', 'examination']\n",
      "Nearest to about:   ['mothers', 'shall', 'ryan', 'exercise', 'croatian', 'marxist', 'network', 'rooms']\n",
      "Nearest to these:   ['ir', 'geology', 'newly', 'tony', 'info', 'temperatures', 'filmed', 'means']\n",
      "Nearest to there:   ['borough', 'through', 'wesley', 'hostile', 'shaw', 'helsinki', 'murray', 'vary']\n",
      "Nearest to see:   ['optimal', 'bonds', 'none', 'liberalism', 'stack', 'garrison', 'tribune', 'referred']\n",
      "Nearest to seven:   ['naval', 'alternatives', 'enters', 'dropped', 'succeeded', 'america', 'consisting', 'cord']\n",
      "Nearest to not:   ['queensland', 'mph', 'admit', 'armor', 'establish', 'troy', 'renowned', 'functioning']\n",
      "Nearest to use:   ['pa', 'extracted', 'dimensional', 'refusing', 'representation', 'carbon', 'cut', 'india']\n",
      "Nearest to can:   ['audio', 'scheme', 'significant', 'paradise', 'mips', 'moment', 'monastic', 'tamil']\n",
      "Nearest to have:   ['haydn', 'celts', 'sunlight', 'superiority', 'week', 'darker', 'disorder', 'exaggerated']\n",
      "Nearest to a:   ['healthy', 'concerts', 'drama', 'medal', 'signs', 'parliament', 'habits', 'circuits']\n",
      "Nearest to in:   ['actor', 'fraser', 'influx', 'cantonese', 'baptism', 'entire', 'clan', 'starring']\n",
      "Nearest to of:   ['totally', 'development', 'morphology', 'microprocessor', 'didn', 'airport', 'apply', 'monopoly']\n",
      "Nearest to were:   ['botswana', 'homomorphism', 'guardian', 'buddhist', 'employees', 'agencies', 'macro', 'detailed']\n",
      "Nearest to they:   ['citizenship', 'isles', 'axiom', 'culture', 'entities', 'circular', 'orthography', 'election']\n",
      "Nearest to people:   ['danny', 'door', 'conrad', 'apostle', 'intercourse', 'syndrome', 'applicable', 'skiing']\n",
      "step = 100 or 1000 or 5000 or 10000\n",
      "step = 100 or 1000 or 5000 or 10000\n",
      "Average loss at step  2000 :  9.30514484072\n",
      "Average loss at step  4000 :  9.29293175936\n",
      "step = 100 or 1000 or 5000 or 10000\n",
      "Average loss at step  6000 :  9.29232672787\n",
      "Average loss at step  8000 :  9.28671165609\n",
      "step = 100 or 1000 or 5000 or 10000\n",
      "Average loss at step  10000 :  9.28424530649\n",
      "Nearest to no:   ['sanskrit', 'phrases', 'to', 'is', 'flag', 'observe', 'where', 'format']\n",
      "Nearest to about:   ['of', 'mothers', 'network', 'shall', 'manga', 'exercise', 'favour', 'in']\n",
      "Nearest to these:   ['geology', 'ir', 'newly', 'info', 'tony', 'en', 'temperatures', 'means']\n",
      "Nearest to there:   ['borough', 'through', 'wesley', 'vary', 'pain', 'prophecy', 'shaw', 'logical']\n",
      "Nearest to see:   ['none', 'optimal', 'help', 'to', 'bonds', 'liberalism', 'referred', 'hockey']\n",
      "Nearest to seven:   ['nine', 'naval', 'zero', 'of', 'homomorphism', 'vs', 'enters', 'dropped']\n",
      "Nearest to not:   ['armor', 'queensland', 'mph', 'and', 'vs', 'to', 'establish', 'dated']\n",
      "Nearest to use:   ['pa', 'extracted', 'representation', 'carbon', 'dimensional', 'cut', 'comparative', 'managed']\n",
      "Nearest to can:   ['audio', 'significant', 'scheme', 'moment', 'sweden', 'paradise', 'tamil', 'detective']\n",
      "Nearest to have:   ['week', 'celts', 'vs', 'exaggerated', 'adobe', 'sunlight', 'power', 'haydn']\n",
      "Nearest to a:   ['the', 'UNK', 'vs', 'of', 'in', 'nine', 'healthy', 'zero']\n",
      "Nearest to in:   ['of', 'and', 'vs', 'UNK', 'zero', 'agave', 'the', 'one']\n",
      "Nearest to of:   ['in', 'and', 'to', 'vs', 'UNK', 'the', 'nine', 'zero']\n",
      "Nearest to were:   ['homomorphism', 'UNK', 'buddhist', 'botswana', 'employees', 'agencies', 'abbot', 'rd']\n",
      "Nearest to they:   ['citizenship', 'axiom', 'isles', 'culture', 'circular', 'election', 'vs', 'entities']\n",
      "Nearest to people:   ['door', 'danny', 'and', 'conrad', 'applicable', 'syndrome', 'molecules', 'intercourse']\n",
      "Average loss at step  12000 :  9.28830986786\n",
      "Average loss at step  14000 :  9.27974907923\n",
      "Average loss at step  16000 :  9.27049457693\n",
      "Average loss at step  18000 :  9.27186674356\n",
      "Average loss at step  20000 :  9.28431798697\n",
      "Nearest to no:   ['sanskrit', 'phrases', 'to', 'observe', 'flag', 'where', 'and', 'format']\n",
      "Nearest to about:   ['and', 'zero', 'of', 'shall', 'mothers', 'exercise', 'one', 'manga']\n",
      "Nearest to these:   ['geology', 'ir', 'newly', 'info', 'tony', 'and', 'the', 'en']\n",
      "Nearest to there:   ['borough', 'wesley', 'through', 'printers', 'to', 'prophecy', 'hostile', 'vary']\n",
      "Nearest to see:   ['none', 'optimal', 'nine', 'help', 'bonds', 'liberalism', 'stack', 'to']\n",
      "Nearest to seven:   ['zero', 'nine', 'in', 'to', 'of', 'homomorphism', 'vs', 'naval']\n",
      "Nearest to not:   ['armor', 'queensland', 'to', 'and', 'mph', 'establish', 'dated', 'vs']\n",
      "Nearest to use:   ['UNK', 'extracted', 'pa', 'representation', 'carbon', 'dimensional', 'cut', 'refusing']\n",
      "Nearest to can:   ['audio', 'significant', 'scheme', 'moment', 'paradise', 'sweden', 'tamil', 'refuge']\n",
      "Nearest to have:   ['week', 'and', 'vs', 'exaggerated', 'celts', 'sunlight', 'africans', 'power']\n",
      "Nearest to a:   ['the', 'nine', 'UNK', 'vs', 'zero', 'one', 'and', 'in']\n",
      "Nearest to in:   ['of', 'and', 'to', 'nine', 'zero', 'one', 'vs', 'a']\n",
      "Nearest to of:   ['in', 'and', 'to', 'nine', 'vs', 'one', 'zero', 'for']\n",
      "Nearest to were:   ['homomorphism', 'was', 'UNK', 'zero', 'buddhist', 'botswana', 'is', 'are']\n",
      "Nearest to they:   ['citizenship', 'isles', 'circular', 'axiom', 'culture', 'that', 'election', 'entities']\n",
      "Nearest to people:   ['danny', 'door', 'and', 'conrad', 'applicable', 'syndrome', 'one', 'intercourse']\n",
      "Average loss at step  22000 :  9.28295007133\n",
      "Average loss at step  24000 :  9.27541038561\n",
      "Average loss at step  26000 :  9.27137977934\n",
      "Average loss at step  28000 :  9.27808672142\n",
      "Average loss at step  30000 :  9.27826573229\n",
      "Nearest to no:   ['sanskrit', 'and', 'phrases', 'cpc', 'observe', 'a', 'UNK', 'where']\n",
      "Nearest to about:   ['and', 'of', 'zero', 'shall', 'mothers', 'exercise', 'network', 'manga']\n",
      "Nearest to these:   ['geology', 'ir', 'newly', 'and', 'tony', 'info', 'the', 'en']\n",
      "Nearest to there:   ['borough', 'wesley', 'through', 'printers', 'two', 'to', 'hostile', 'prophecy']\n",
      "Nearest to see:   ['none', 'stack', 'optimal', 'help', 'reflect', 'liberalism', 'tribune', 'bonds']\n",
      "Nearest to seven:   ['nine', 'zero', 'two', 'in', 'three', 'one', 'vs', 'five']\n",
      "Nearest to not:   ['armor', 'queensland', 'to', 'and', 'would', 'establish', 'intimate', 'dated']\n",
      "Nearest to use:   ['extracted', 'pa', 'representation', 'carbon', 'dimensional', 'cut', 'refusing', 'comparative']\n",
      "Nearest to can:   ['audio', 'scheme', 'significant', 'moment', 'tamil', 'in', 'paradise', 'sweden']\n",
      "Nearest to have:   ['vs', 'and', 'exaggerated', 'week', 'sunlight', 'celts', 'haydn', 'as']\n",
      "Nearest to a:   ['the', 'nine', 'vs', 'UNK', 'an', 'one', 'and', 'agave']\n",
      "Nearest to in:   ['of', 'nine', 'and', 'to', 'on', 'vs', 'UNK', 'by']\n",
      "Nearest to of:   ['in', 'and', 'nine', 'to', 'for', 'vs', 'UNK', 's']\n",
      "Nearest to were:   ['was', 'are', 'homomorphism', 'UNK', 'is', 'botswana', 'buddhist', 'hide']\n",
      "Nearest to they:   ['that', 'citizenship', 'isles', 'circular', 'axiom', 'culture', 'election', 'entities']\n",
      "Nearest to people:   ['danny', 'door', 'conrad', 'applicable', 'intercourse', 'syndrome', 'apostle', 'skiing']\n",
      "Average loss at step  32000 :  9.27984202337\n",
      "Average loss at step  34000 :  9.28667091799\n",
      "Average loss at step  36000 :  9.28353471947\n",
      "Average loss at step  38000 :  9.28196496582\n",
      "Average loss at step  40000 :  9.2880578599\n",
      "Nearest to no:   ['sanskrit', 'phrases', 'and', 'cpc', 'where', 'a', 'observe', 'nine']\n",
      "Nearest to about:   ['zero', 'and', 'of', 'shall', 'mothers', 'exercise', 'eight', 'navigation']\n",
      "Nearest to these:   ['geology', 'ir', 'and', 'newly', 'info', 'tony', 'en', 'in']\n",
      "Nearest to there:   ['zero', 'borough', 'wesley', 'through', 'it', 'and', 'printers', 'to']\n",
      "Nearest to see:   ['nine', 'none', 'stack', 'help', 'optimal', 'reflect', 'tribune', 'garrison']\n",
      "Nearest to seven:   ['nine', 'zero', 'two', 'one', 'in', 'three', 'eight', 'five']\n",
      "Nearest to not:   ['to', 'queensland', 'armor', 'would', 'intimate', 'and', 'it', 'dated']\n",
      "Nearest to use:   ['extracted', 'representation', 'pa', 'carbon', 'dimensional', 'nine', 'cut', 'partly']\n",
      "Nearest to can:   ['significant', 'audio', 'scheme', 'moment', 'tamil', 'in', 'paradise', 'refuge']\n",
      "Nearest to have:   ['in', 'vs', 'UNK', 'exaggerated', 'sunlight', 'week', 'would', 'celts']\n",
      "Nearest to a:   ['the', 'nine', 'UNK', 'an', 'vs', 'zero', 'agave', 'one']\n",
      "Nearest to in:   ['of', 'and', 'nine', 'zero', 'to', 'on', 'by', 'vs']\n",
      "Nearest to of:   ['in', 'and', 'for', 'nine', 'vs', 'to', 'on', 'zero']\n",
      "Nearest to were:   ['are', 'was', 'homomorphism', 'is', 'zero', 'botswana', 'coke', 'hide']\n",
      "Nearest to they:   ['that', 'isles', 'citizenship', 'circular', 'election', 'node', 'culture', 'axiom']\n",
      "Nearest to people:   ['danny', 'door', 'conrad', 'applicable', 'syndrome', 'intercourse', 'apostle', 'skiing']\n",
      "Average loss at step  42000 :  9.28271750069\n",
      "Average loss at step  44000 :  9.28104844713\n",
      "Average loss at step  46000 :  9.27944610929\n",
      "Average loss at step  48000 :  9.28148764467\n",
      "NCE method took 10504.687896 minutes to run 100 iterations\n"
     ]
    }
   ],
   "source": [
    "num_steps = 400\n",
    "softmax_start_time = dt.datetime.now()\n",
    "run(graph, num_steps=num_steps)\n",
    "softmax_end_time = dt.datetime.now()\n",
    "print(\"Softmax method took {} minutes to run 100 iterations\".format((softmax_end_time-softmax_start_time).total_seconds()))\n",
    "\n",
    "with graph.as_default():\n",
    "\n",
    "    # Construct the variables for the NCE loss\n",
    "    nce_weights = tf.Variable(\n",
    "        tf.truncated_normal([vocabulary_size, embedding_size],\n",
    "                            stddev=1.0 / math.sqrt(embedding_size)))\n",
    "    nce_biases = tf.Variable(tf.zeros([vocabulary_size]))\n",
    "\n",
    "    nce_loss = tf.reduce_mean(\n",
    "        tf.nn.nce_loss(weights=nce_weights,\n",
    "                       biases=nce_biases,\n",
    "                       labels=train_context,\n",
    "                       inputs=embed,\n",
    "                       num_sampled=num_sampled,\n",
    "                       num_classes=vocabulary_size))\n",
    "\n",
    "    optimizer = tf.train.GradientDescentOptimizer(1.0).minimize(nce_loss)\n",
    "\n",
    "    # Add variable initializer.\n",
    "    init = tf.global_variables_initializer()\n",
    "\n",
    "num_steps = 50000\n",
    "nce_start_time = dt.datetime.now()\n",
    "run(graph, num_steps)\n",
    "nce_end_time = dt.datetime.now()\n",
    "print(\"NCE method took {} minutes to run 100 iterations\".format((nce_end_time-nce_start_time).total_seconds()))"
   ]
  },
  {
   "cell_type": "code",
   "execution_count": null,
   "metadata": {
    "collapsed": true,
    "deletable": true,
    "editable": true
   },
   "outputs": [],
   "source": []
  }
 ],
 "metadata": {
  "anaconda-cloud": {},
  "kernelspec": {
   "display_name": "Python 3",
   "language": "python",
   "name": "python3"
  },
  "language_info": {
   "codemirror_mode": {
    "name": "ipython",
    "version": 3
   },
   "file_extension": ".py",
   "mimetype": "text/x-python",
   "name": "python",
   "nbconvert_exporter": "python",
   "pygments_lexer": "ipython3",
   "version": "3.5.3"
  }
 },
 "nbformat": 4,
 "nbformat_minor": 2
}
