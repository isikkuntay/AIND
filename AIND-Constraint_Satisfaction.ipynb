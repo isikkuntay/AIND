{
 "cells": [
  {
   "cell_type": "markdown",
   "metadata": {},
   "source": [
    "# Constraint Satisfaction Problems Lab\n",
    "\n",
    "## Introduction\n",
    "Constraint Satisfaction is a technique for solving problems by expressing limits on the values of each variable in the solution with mathematical constraints.  We've used constraints before -- constraints in the Sudoku project are enforced implicitly by filtering the legal values for each box, and the planning project represents constraints as arcs connecting nodes in the planning graph -- but in this lab exercise we will use a symbolic math library to explicitly construct binary constraints and then use Backtracking to solve the N-queens problem (which is a generalization [8-queens problem](https://en.wikipedia.org/wiki/Eight_queens_puzzle)).  Using symbolic constraints should make it easier to visualize and reason about the constraints (especially for debugging), but comes with a performance penalty.\n",
    "\n",
    "![8-queens puzzle solution](EightQueens.gif)\n",
    "\n",
    "Briefly, the 8-queens problem asks you to place 8 queens on a standard 8x8 chessboard such that none of the queens are in \"check\" (i.e., no two queens occupy the same row, column, or diagonal). The N-queens problem generalizes the puzzle to to any size square board.\n",
    "\n",
    "## I. Lab Overview\n",
    "Students should read through the code and the wikipedia page (or other resources) to understand the N-queens problem, then:\n",
    "\n",
    "0. Complete the warmup exercises in the [Sympy_Intro notebook](Sympy_Intro.ipynb) to become familiar with they sympy library and symbolic representation for constraints\n",
    "0. Implement the [NQueensCSP class](#II.-Representing-the-N-Queens-Problem) to develop an efficient encoding of the N-queens problem and explicitly generate the constraints bounding the solution\n",
    "0. Write the [search functions](#III.-Backtracking-Search) for recursive backtracking, and use them to solve the N-queens problem\n",
    "0. (Optional) Conduct [additional experiments](#IV.-Experiments-%28Optional%29) with CSPs and various modifications to the search order (minimum remaining values, least constraining value, etc.)"
   ]
  },
  {
   "cell_type": "code",
   "execution_count": 364,
   "metadata": {
    "collapsed": true
   },
   "outputs": [],
   "source": [
    "import matplotlib as mpl\n",
    "import matplotlib.pyplot as plt\n",
    "\n",
    "from util import constraint, displayBoard\n",
    "from sympy import *\n",
    "from IPython.display import display\n",
    "init_printing()\n",
    "%matplotlib inline"
   ]
  },
  {
   "cell_type": "markdown",
   "metadata": {},
   "source": [
    "## II. Representing the N-Queens Problem\n",
    "There are many acceptable ways to represent the N-queens problem, but one convenient way is to recognize that one of the constraints (either the row or column constraint) can be enforced implicitly by the encoding.  If we represent a solution as an array with N elements, then each position in the array can represent a column of the board, and the value at each position can represent which row the queen is placed on.\n",
    "\n",
    "In this encoding, we only need a constraint to make sure that no two queens occupy the same row, and one to make sure that no two queens occupy the same diagonal.\n",
    "\n",
    "### Define Symbolic Expressions for the Problem Constraints\n",
    "Before implementing the board class, we need to construct the symbolic constraints that will be used in the CSP.  Declare any symbolic terms required, and then declare two generic constraint generators:\n",
    "- `diffRow` - generate constraints that return True if the two arguments do not match\n",
    "- `diffDiag` - generate constraints that return True if two arguments are not on the same diagonal (Hint: you can easily test whether queens in two columns are on the same diagonal by testing if the difference in the number of rows and the number of columns match)\n",
    "\n",
    "Both generators should produce binary constraints (i.e., each should have two free symbols) once they're bound to specific variables in the CSP.  For example, Eq((a + b), (b + c)) is not a binary constraint, but Eq((a + b), (b + c)).subs(b, 1) _is_ a binary constraint because one of the terms has been bound to a constant, so there are only two free variables remaining. "
   ]
  },
  {
   "cell_type": "code",
   "execution_count": 365,
   "metadata": {},
   "outputs": [],
   "source": [
    "# Declare any required symbolic variables\n",
    "#raise NotImplementedError(\"TODO: declare symbolic variables for the constraint generators\")\n",
    "x, y, c = symbols('x y c')\n",
    "# Define diffRow and diffDiag constraints\n",
    "#raise NotImplementedError(\"TODO: create the diffRow and diffDiag constraint generators\")\n",
    "diffRow = constraint(\"diffRow\", ~Eq(x,y))\n",
    "diffDiag = constraint(\"diffDiag\", (~Eq(x,y-c)&~Eq(x,y+c)))"
   ]
  },
  {
   "cell_type": "code",
   "execution_count": 366,
   "metadata": {},
   "outputs": [
    {
     "name": "stdout",
     "output_type": "stream",
     "text": [
      "Passed all diffRow tests.\n",
      "Passed all diffDiag tests.\n"
     ]
    }
   ],
   "source": [
    "# Test diffRow and diffDiag\n",
    "_x = symbols(\"x:3\")\n",
    "\n",
    "# generate a diffRow instance for testing\n",
    "#raise NotImplementedError(\"TODO: use your diffRow constraint to generate a diffRow constraint for _x[0] and _x[1]\")\n",
    "diffRow_test = diffRow.subs({x:_x[0],y:_x[1],c:1})\n",
    "\n",
    "assert(len(diffRow_test.free_symbols) == 2)\n",
    "assert(diffRow_test.subs({_x[0]: 0, _x[1]: 1}) == True)\n",
    "assert(diffRow_test.subs({_x[0]: 0, _x[1]: 0}) == False)\n",
    "assert(diffRow_test.subs({_x[0]: 0}) != False)  # partial assignment is not false\n",
    "print(\"Passed all diffRow tests.\")\n",
    "\n",
    "# generate a diffDiag instance for testing\n",
    "#raise NotImplementedError(\"TODO: use your diffDiag constraint to generate a diffDiag constraint for _x[0] and _x[2]\")\n",
    "diffDiag_test = diffDiag.subs({x:_x[0],y:_x[2],c:2})\n",
    "\n",
    "assert(len(diffDiag_test.free_symbols) == 2)\n",
    "assert(diffDiag_test.subs({_x[0]: 0, _x[2]: 2}) == False)\n",
    "assert(diffDiag_test.subs({_x[0]: 0, _x[2]: 0}) == True)\n",
    "assert(diffDiag_test.subs({_x[0]: 0}) != False)  # partial assignment is not false\n",
    "print(\"Passed all diffDiag tests.\")"
   ]
  },
  {
   "cell_type": "markdown",
   "metadata": {},
   "source": [
    "### The N-Queens CSP Class\n",
    "Implement the CSP class as described above, with constraints to make sure each queen is on a different row and different diagonal than every other queen, and a variable for each column defining the row that containing a queen in that column."
   ]
  },
  {
   "cell_type": "code",
   "execution_count": 367,
   "metadata": {},
   "outputs": [],
   "source": [
    "class NQueensCSP:\n",
    "    \"\"\"CSP representation of the N-queens problem\n",
    "    \n",
    "    Parameters\n",
    "    ----------\n",
    "    N : Integer\n",
    "        The side length of a square chess board to use for the problem, and\n",
    "        the number of queens that must be placed on the board\n",
    "    \"\"\"\n",
    "    def __init__(self, N):\n",
    "        _vars = symbols(\"X:\" + str(N))\n",
    "        _domain = set(range(N))\n",
    "        self.size = N\n",
    "        self.variables = _vars\n",
    "        self.domains = {v: _domain for v in _vars}\n",
    "        self._constraints = {}\n",
    "        xi_ndx = 0\n",
    "        for xi in _vars:\n",
    "            set_of_constraints = set()\n",
    "            xj_ndx = 0\n",
    "            for xj in _vars:\n",
    "                if xi != xj:\n",
    "                    set_of_constraints.add(diffRow.subs({x:xi, y:xj}))\n",
    "                    set_of_constraints.add(diffDiag.subs({x:xi, y:xj,c:abs(xi_ndx-xj_ndx)}))\n",
    "                xj_ndx += 1\n",
    "            self._constraints[xi] = set_of_constraints \n",
    "            xi_ndx += 1    \n",
    "        \n",
    "        # add constraints - for each pair of variables xi and xj, create\n",
    "        # a diffRow(xi, xj) and a diffDiag(xi, xj) instance, and add them\n",
    "        # to the self._constraints dictionary keyed to both xi and xj;\n",
    "        # (i.e., add them to both self._constraints[xi] and self._constraints[xj])\n",
    "        #raise NotImplementedError(\"TODO: add constraints in self._constraints in the CSP constructor\")\n",
    "    \n",
    "    @property\n",
    "    def constraints(self):\n",
    "        \"\"\"Read-only list of constraints -- cannot be used for evaluation \"\"\"\n",
    "        constraints = set()\n",
    "        for _cons in self._constraints.values():\n",
    "            constraints |= _cons\n",
    "        return list(constraints)\n",
    "    \n",
    "    def is_complete(self, assignment):\n",
    "        \"\"\"An assignment is complete if it is consistent, and all constraints\n",
    "        are satisfied.\n",
    "        \n",
    "        Hint: Backtracking search checks consistency of each assignment, so checking\n",
    "        for completeness can be done very efficiently\n",
    "        \n",
    "        Parameters\n",
    "        ----------\n",
    "        assignment : dict(sympy.Symbol: Integer)\n",
    "            An assignment of values to variables that have previously been checked\n",
    "            for consistency with the CSP constraints\n",
    "        \"\"\"\n",
    "        if len(assignment) == self.size:\n",
    "            return True\n",
    "        else:\n",
    "            return False\n",
    "        #raise NotImplementedError(\"TODO: implement the is_complete() method of the CSP\")\n",
    "    \n",
    "    def is_consistent(self, var, value, assignment):\n",
    "        \"\"\"Check consistency of a proposed variable assignment\n",
    "                \n",
    "        self._constraints[x] returns a set of constraints that involve variable `x`.\n",
    "        An assignment is consistent unless the assignment it causes a constraint to\n",
    "        return False (partial assignments are always consistent).\n",
    "        \n",
    "        Parameters\n",
    "        ----------\n",
    "        var : sympy.Symbol\n",
    "            One of the symbolic variables in the CSP\n",
    "            \n",
    "        value : Numeric\n",
    "            A valid value (i.e., in the domain of) the variable `var` for assignment\n",
    "\n",
    "        assignment : dict(sympy.Symbol: Integer)\n",
    "            A dictionary mapping CSP variables to row assignment of each queen\n",
    "            \n",
    "        \"\"\"\n",
    "        check = True\n",
    "        for constraint_x in self._constraints[var]:\n",
    "            constraint_x_mod = constraint_x.subs(var,value)\n",
    "            if constraint_x_mod.subs(assignment) == False:\n",
    "                return False\n",
    "        return True\n",
    "\n",
    "        #raise NotImplementedError(\"TODO: implement the is_consistent() method of the CSP\")\n",
    "        \n",
    "        \n",
    "    def inference(self, var, value):\n",
    "        \"\"\"Perform logical inference based on proposed variable assignment\n",
    "        \n",
    "        Returns an empty dictionary by default; function can be overridden to\n",
    "        check arc-, path-, or k-consistency; returning None signals \"failure\".\n",
    "        \n",
    "        Parameters\n",
    "        ----------\n",
    "        var : sympy.Symbol\n",
    "            One of the symbolic variables in the CSP\n",
    "        \n",
    "        value : Integer\n",
    "            A valid value (i.e., in the domain of) the variable `var` for assignment\n",
    "            \n",
    "        Returns\n",
    "        -------\n",
    "        dict(sympy.Symbol: Integer) or None\n",
    "            A partial set of values mapped to variables in the CSP based on inferred\n",
    "            constraints from previous mappings, or None to indicate failure\n",
    "        \"\"\"\n",
    "        # TODO (Optional): Implement this function based on AIMA discussion\n",
    "        return {}\n",
    "    \n",
    "    def show(self, assignment):\n",
    "        \"\"\"Display a chessboard with queens drawn in the locations specified by an\n",
    "        assignment\n",
    "        \n",
    "        Parameters\n",
    "        ----------\n",
    "        assignment : dict(sympy.Symbol: Integer)\n",
    "            A dictionary mapping CSP variables to row assignment of each queen\n",
    "            \n",
    "        \"\"\"\n",
    "        locations = [(i, assignment[j]) for i, j in enumerate(self.variables)\n",
    "                     if assignment.get(j, None) is not None]\n",
    "        displayBoard(locations, self.size)"
   ]
  },
  {
   "cell_type": "markdown",
   "metadata": {
    "collapsed": true
   },
   "source": [
    "## III. Backtracking Search\n",
    "Implement the [backtracking search](https://github.com/aimacode/aima-pseudocode/blob/master/md/Backtracking-Search.md) algorithm (required) and helper functions (optional) from the AIMA text.  "
   ]
  },
  {
   "cell_type": "code",
   "execution_count": 368,
   "metadata": {
    "collapsed": true
   },
   "outputs": [],
   "source": [
    "def select(csp, assignment):\n",
    "    \"\"\"Choose an unassigned variable in a constraint satisfaction problem \"\"\"\n",
    "    # TODO (Optional): Implement a more sophisticated selection routine from AIMA\n",
    "    for var in csp.variables:\n",
    "        if var not in assignment:\n",
    "            return var\n",
    "    return None\n",
    "\n",
    "def order_values(var, assignment, csp):\n",
    "    \"\"\"Select the order of the values in the domain of a variable for checking during search;\n",
    "    the default is lexicographically.\n",
    "    \"\"\"\n",
    "    # TODO (Optional): Implement a more sophisticated search ordering routine from AIMA\n",
    "    return csp.domains[var]\n",
    "\n",
    "def backtracking_search(csp):\n",
    "    \"\"\"Helper function used to initiate backtracking search \"\"\"\n",
    "    return backtrack({}, csp)\n",
    "\n",
    "def backtrack(assignment, csp):\n",
    "    \"\"\"Perform backtracking search for a valid assignment to a CSP\n",
    "    \n",
    "    Parameters\n",
    "    ----------\n",
    "    assignment : dict(sympy.Symbol: Integer)\n",
    "        An partial set of values mapped to variables in the CSP\n",
    "        \n",
    "    csp : CSP\n",
    "        A problem encoded as a CSP. Interface should include csp.variables, csp.domains,\n",
    "        csp.inference(), csp.is_consistent(), and csp.is_complete().\n",
    "    \n",
    "    Returns\n",
    "    -------\n",
    "    dict(sympy.Symbol: Integer) or None\n",
    "        A partial set of values mapped to variables in the CSP, or None to indicate failure\n",
    "    \"\"\"\n",
    "    if csp.is_complete(assignment):\n",
    "        return assignment\n",
    "    print('assignment ', assignment)\n",
    "    var = select(csp, assignment)\n",
    "    print('variable ', var)\n",
    "    for val in order_values(var, assignment, csp):\n",
    "        print('value ', val)\n",
    "        if csp.is_consistent(var, val, assignment):\n",
    "            assignment[var] = val\n",
    "            result = backtrack(assignment, csp)\n",
    "            if result != False:\n",
    "                return result\n",
    "            del assignment[var]\n",
    "    return False"
   ]
  },
  {
   "cell_type": "markdown",
   "metadata": {},
   "source": [
    "### Solve the CSP\n",
    "With backtracking implemented, now you can use it to solve instances of the problem. We've started with the classical 8-queen version, but you can try other sizes as well.  Boards larger than 12x12 may take some time to solve because sympy is slow in the way its being used here, and because the selection and value ordering methods haven't been implemented.  See if you can implement any of the techniques in the AIMA text to speed up the solver!"
   ]
  },
  {
   "cell_type": "code",
   "execution_count": 369,
   "metadata": {},
   "outputs": [
    {
     "name": "stdout",
     "output_type": "stream",
     "text": [
      "xi  X0\n",
      "xj  X0\n",
      "xj  X1\n",
      "xj  X2\n",
      "xj  X3\n",
      "xj  X4\n",
      "xj  X5\n",
      "xj  X6\n",
      "xj  X7\n",
      "xi  X1\n",
      "xj  X0\n",
      "xj  X1\n",
      "xj  X2\n",
      "xj  X3\n",
      "xj  X4\n",
      "xj  X5\n",
      "xj  X6\n",
      "xj  X7\n",
      "xi  X2\n",
      "xj  X0\n",
      "xj  X1\n",
      "xj  X2\n",
      "xj  X3\n",
      "xj  X4\n",
      "xj  X5\n",
      "xj  X6\n",
      "xj  X7\n",
      "xi  X3\n",
      "xj  X0\n",
      "xj  X1\n",
      "xj  X2\n",
      "xj  X3\n",
      "xj  X4\n",
      "xj  X5\n",
      "xj  X6\n",
      "xj  X7\n",
      "xi  X4\n",
      "xj  X0\n",
      "xj  X1\n",
      "xj  X2\n",
      "xj  X3\n",
      "xj  X4\n",
      "xj  X5\n",
      "xj  X6\n",
      "xj  X7\n",
      "xi  X5\n",
      "xj  X0\n",
      "xj  X1\n",
      "xj  X2\n",
      "xj  X3\n",
      "xj  X4\n",
      "xj  X5\n",
      "xj  X6\n",
      "xj  X7\n",
      "xi  X6\n",
      "xj  X0\n",
      "xj  X1\n",
      "xj  X2\n",
      "xj  X3\n",
      "xj  X4\n",
      "xj  X5\n",
      "xj  X6\n",
      "xj  X7\n",
      "xi  X7\n",
      "xj  X0\n",
      "xj  X1\n",
      "xj  X2\n",
      "xj  X3\n",
      "xj  X4\n",
      "xj  X5\n",
      "xj  X6\n",
      "xj  X7\n",
      "CSP problems have variables, each variable has a domain, and the problem has a list of constraints.\n",
      "Showing the variables for the N-Queens CSP:\n"
     ]
    },
    {
     "data": {
      "image/png": "[encoded data removed]",
      "text/latex": [
       "$$\\left ( X_{0}, \\quad X_{1}, \\quad X_{2}, \\quad X_{3}, \\quad X_{4}, \\quad X_{5}, \\quad X_{6}, \\quad X_{7}\\right )$$"
      ],
      "text/plain": [
       "(X₀, X₁, X₂, X₃, X₄, X₅, X₆, X₇)"
      ]
     },
     "metadata": {},
     "output_type": "display_data"
    },
    {
     "name": "stdout",
     "output_type": "stream",
     "text": [
      "Showing domain for X0:\n"
     ]
    },
    {
     "data": {
      "image/png": "[encoded data removed]",
      "text/latex": [
       "$$\\left\\{0, 1, 2, 3, 4, 5, 6, 7\\right\\}$$"
      ],
      "text/plain": [
       "set([0, 1, 2, 3, 4, 5, 6, 7])"
      ]
     },
     "metadata": {},
     "output_type": "display_data"
    },
    {
     "name": "stdout",
     "output_type": "stream",
     "text": [
      "And showing the constraints for X0:\n"
     ]
    },
    {
     "data": {
      "image/png": "[encoded data removed]",
      "text/latex": [
       "$$X_{2} \\neq X_{0} - 2 \\wedge X_{2} \\neq X_{0} + 2$$"
      ],
      "text/plain": [
       "X₂ ≠ X₀ - 2 ∧ X₂ ≠ X₀ + 2"
      ]
     },
     "metadata": {},
     "output_type": "display_data"
    },
    {
     "data": {
      "image/png": "[encoded data removed]",
      "text/latex": [
       "$$X_{5} \\neq X_{0} - 5 \\wedge X_{5} \\neq X_{0} + 5$$"
      ],
      "text/plain": [
       "X₅ ≠ X₀ - 5 ∧ X₅ ≠ X₀ + 5"
      ]
     },
     "metadata": {},
     "output_type": "display_data"
    },
    {
     "data": {
      "image/png": "[encoded data removed]",
      "text/latex": [
       "$$X_{0} \\neq X_{6}$$"
      ],
      "text/plain": [
       "X₀ ≠ X₆"
      ]
     },
     "metadata": {},
     "output_type": "display_data"
    },
    {
     "data": {
      "image/png": "[encoded data removed]",
      "text/latex": [
       "$$X_{7} \\neq X_{0} - 7 \\wedge X_{7} \\neq X_{0} + 7$$"
      ],
      "text/plain": [
       "X₇ ≠ X₀ - 7 ∧ X₇ ≠ X₀ + 7"
      ]
     },
     "metadata": {},
     "output_type": "display_data"
    },
    {
     "data": {
      "image/png": "[encoded data removed]",
      "text/latex": [
       "$$X_{4} \\neq X_{0} - 4 \\wedge X_{4} \\neq X_{0} + 4$$"
      ],
      "text/plain": [
       "X₄ ≠ X₀ - 4 ∧ X₄ ≠ X₀ + 4"
      ]
     },
     "metadata": {},
     "output_type": "display_data"
    },
    {
     "data": {
      "image/png": "[encoded data removed]",
      "text/latex": [
       "$$X_{2} \\neq X_{0}$$"
      ],
      "text/plain": [
       "X₂ ≠ X₀"
      ]
     },
     "metadata": {},
     "output_type": "display_data"
    },
    {
     "data": {
      "image/png": "[encoded data removed]",
      "text/latex": [
       "$$X_{1} \\neq X_{0}$$"
      ],
      "text/plain": [
       "X₁ ≠ X₀"
      ]
     },
     "metadata": {},
     "output_type": "display_data"
    },
    {
     "data": {
      "image/png": "[encoded data removed]",
      "text/latex": [
       "$$X_{3} \\neq X_{0}$$"
      ],
      "text/plain": [
       "X₃ ≠ X₀"
      ]
     },
     "metadata": {},
     "output_type": "display_data"
    },
    {
     "data": {
      "image/png": "[encoded data removed]",
      "text/latex": [
       "$$X_{5} \\neq X_{0}$$"
      ],
      "text/plain": [
       "X₅ ≠ X₀"
      ]
     },
     "metadata": {},
     "output_type": "display_data"
    },
    {
     "data": {
      "image/png": "[encoded data removed]",
      "text/latex": [
       "$$X_{0} \\neq X_{6} - 6 \\wedge X_{0} \\neq X_{6} + 6$$"
      ],
      "text/plain": [
       "X₀ ≠ X₆ - 6 ∧ X₀ ≠ X₆ + 6"
      ]
     },
     "metadata": {},
     "output_type": "display_data"
    },
    {
     "data": {
      "image/png": "[encoded data removed]",
      "text/latex": [
       "$$X_{7} \\neq X_{0}$$"
      ],
      "text/plain": [
       "X₇ ≠ X₀"
      ]
     },
     "metadata": {},
     "output_type": "display_data"
    },
    {
     "data": {
      "image/png": "[encoded data removed]",
      "text/latex": [
       "$$X_{1} \\neq X_{0} - 1 \\wedge X_{1} \\neq X_{0} + 1$$"
      ],
      "text/plain": [
       "X₁ ≠ X₀ - 1 ∧ X₁ ≠ X₀ + 1"
      ]
     },
     "metadata": {},
     "output_type": "display_data"
    },
    {
     "data": {
      "image/png": "[encoded data removed]",
      "text/latex": [
       "$$X_{3} \\neq X_{0} - 3 \\wedge X_{3} \\neq X_{0} + 3$$"
      ],
      "text/plain": [
       "X₃ ≠ X₀ - 3 ∧ X₃ ≠ X₀ + 3"
      ]
     },
     "metadata": {},
     "output_type": "display_data"
    },
    {
     "data": {
      "image/png": "[encoded data removed]",
      "text/latex": [
       "$$X_{4} \\neq X_{0}$$"
      ],
      "text/plain": [
       "X₄ ≠ X₀"
      ]
     },
     "metadata": {},
     "output_type": "display_data"
    },
    {
     "name": "stdout",
     "output_type": "stream",
     "text": [
      "And showing the constraints for X1:\n"
     ]
    },
    {
     "data": {
      "image/png": "[encoded data removed]",
      "text/latex": [
       "$$X_{2} \\neq X_{1}$$"
      ],
      "text/plain": [
       "X₂ ≠ X₁"
      ]
     },
     "metadata": {},
     "output_type": "display_data"
    },
    {
     "data": {
      "image/png": "[encoded data removed]",
      "text/latex": [
       "$$X_{5} \\neq X_{1}$$"
      ],
      "text/plain": [
       "X₅ ≠ X₁"
      ]
     },
     "metadata": {},
     "output_type": "display_data"
    },
    {
     "data": {
      "image/png": "[encoded data removed]",
      "text/latex": [
       "$$X_{6} \\neq X_{1} - 5 \\wedge X_{6} \\neq X_{1} + 5$$"
      ],
      "text/plain": [
       "X₆ ≠ X₁ - 5 ∧ X₆ ≠ X₁ + 5"
      ]
     },
     "metadata": {},
     "output_type": "display_data"
    },
    {
     "data": {
      "image/png": "[encoded data removed]",
      "text/latex": [
       "$$X_{1} \\neq X_{7}$$"
      ],
      "text/plain": [
       "X₁ ≠ X₇"
      ]
     },
     "metadata": {},
     "output_type": "display_data"
    },
    {
     "data": {
      "image/png": "[encoded data removed]",
      "text/latex": [
       "$$X_{3} \\neq X_{1}$$"
      ],
      "text/plain": [
       "X₃ ≠ X₁"
      ]
     },
     "metadata": {},
     "output_type": "display_data"
    },
    {
     "data": {
      "image/png": "[encoded data removed]",
      "text/latex": [
       "$$X_{4} \\neq X_{1}$$"
      ],
      "text/plain": [
       "X₄ ≠ X₁"
      ]
     },
     "metadata": {},
     "output_type": "display_data"
    },
    {
     "data": {
      "image/png": "[encoded data removed]",
      "text/latex": [
       "$$X_{5} \\neq X_{1} - 4 \\wedge X_{5} \\neq X_{1} + 4$$"
      ],
      "text/plain": [
       "X₅ ≠ X₁ - 4 ∧ X₅ ≠ X₁ + 4"
      ]
     },
     "metadata": {},
     "output_type": "display_data"
    },
    {
     "data": {
      "image/png": "[encoded data removed]",
      "text/latex": [
       "$$X_{1} \\neq X_{0}$$"
      ],
      "text/plain": [
       "X₁ ≠ X₀"
      ]
     },
     "metadata": {},
     "output_type": "display_data"
    },
    {
     "data": {
      "image/png": "[encoded data removed]",
      "text/latex": [
       "$$X_{1} \\neq X_{7} - 6 \\wedge X_{1} \\neq X_{7} + 6$$"
      ],
      "text/plain": [
       "X₁ ≠ X₇ - 6 ∧ X₁ ≠ X₇ + 6"
      ]
     },
     "metadata": {},
     "output_type": "display_data"
    },
    {
     "data": {
      "image/png": "[encoded data removed]",
      "text/latex": [
       "$$X_{3} \\neq X_{1} - 2 \\wedge X_{3} \\neq X_{1} + 2$$"
      ],
      "text/plain": [
       "X₃ ≠ X₁ - 2 ∧ X₃ ≠ X₁ + 2"
      ]
     },
     "metadata": {},
     "output_type": "display_data"
    },
    {
     "data": {
      "image/png": "[encoded data removed]",
      "text/latex": [
       "$$X_{4} \\neq X_{1} - 3 \\wedge X_{4} \\neq X_{1} + 3$$"
      ],
      "text/plain": [
       "X₄ ≠ X₁ - 3 ∧ X₄ ≠ X₁ + 3"
      ]
     },
     "metadata": {},
     "output_type": "display_data"
    },
    {
     "data": {
      "image/png": "[encoded data removed]",
      "text/latex": [
       "$$X_{2} \\neq X_{1} - 1 \\wedge X_{2} \\neq X_{1} + 1$$"
      ],
      "text/plain": [
       "X₂ ≠ X₁ - 1 ∧ X₂ ≠ X₁ + 1"
      ]
     },
     "metadata": {},
     "output_type": "display_data"
    },
    {
     "data": {
      "image/png": "[encoded data removed]",
      "text/latex": [
       "$$X_{1} \\neq X_{0} - 1 \\wedge X_{1} \\neq X_{0} + 1$$"
      ],
      "text/plain": [
       "X₁ ≠ X₀ - 1 ∧ X₁ ≠ X₀ + 1"
      ]
     },
     "metadata": {},
     "output_type": "display_data"
    },
    {
     "data": {
      "image/png": "[encoded data removed]",
      "text/latex": [
       "$$X_{6} \\neq X_{1}$$"
      ],
      "text/plain": [
       "X₆ ≠ X₁"
      ]
     },
     "metadata": {},
     "output_type": "display_data"
    },
    {
     "name": "stdout",
     "output_type": "stream",
     "text": [
      "And showing the constraints for X2:\n"
     ]
    },
    {
     "data": {
      "image/png": "[encoded data removed]",
      "text/latex": [
       "$$X_{6} \\neq X_{2} - 4 \\wedge X_{6} \\neq X_{2} + 4$$"
      ],
      "text/plain": [
       "X₆ ≠ X₂ - 4 ∧ X₆ ≠ X₂ + 4"
      ]
     },
     "metadata": {},
     "output_type": "display_data"
    },
    {
     "data": {
      "image/png": "[encoded data removed]",
      "text/latex": [
       "$$X_{2} \\neq X_{0} - 2 \\wedge X_{2} \\neq X_{0} + 2$$"
      ],
      "text/plain": [
       "X₂ ≠ X₀ - 2 ∧ X₂ ≠ X₀ + 2"
      ]
     },
     "metadata": {},
     "output_type": "display_data"
    },
    {
     "data": {
      "image/png": "[encoded data removed]",
      "text/latex": [
       "$$X_{2} \\neq X_{1}$$"
      ],
      "text/plain": [
       "X₂ ≠ X₁"
      ]
     },
     "metadata": {},
     "output_type": "display_data"
    },
    {
     "data": {
      "image/png": "[encoded data removed]",
      "text/latex": [
       "$$X_{3} \\neq X_{2} - 1 \\wedge X_{3} \\neq X_{2} + 1$$"
      ],
      "text/plain": [
       "X₃ ≠ X₂ - 1 ∧ X₃ ≠ X₂ + 1"
      ]
     },
     "metadata": {},
     "output_type": "display_data"
    },
    {
     "data": {
      "image/png": "[encoded data removed]",
      "text/latex": [
       "$$X_{4} \\neq X_{2}$$"
      ],
      "text/plain": [
       "X₄ ≠ X₂"
      ]
     },
     "metadata": {},
     "output_type": "display_data"
    },
    {
     "data": {
      "image/png": "[encoded data removed]",
      "text/latex": [
       "$$X_{5} \\neq X_{2} - 3 \\wedge X_{5} \\neq X_{2} + 3$$"
      ],
      "text/plain": [
       "X₅ ≠ X₂ - 3 ∧ X₅ ≠ X₂ + 3"
      ]
     },
     "metadata": {},
     "output_type": "display_data"
    },
    {
     "data": {
      "image/png": "[encoded data removed]",
      "text/latex": [
       "$$X_{6} \\neq X_{2}$$"
      ],
      "text/plain": [
       "X₆ ≠ X₂"
      ]
     },
     "metadata": {},
     "output_type": "display_data"
    },
    {
     "data": {
      "image/png": "[encoded data removed]",
      "text/latex": [
       "$$X_{7} \\neq X_{2}$$"
      ],
      "text/plain": [
       "X₇ ≠ X₂"
      ]
     },
     "metadata": {},
     "output_type": "display_data"
    },
    {
     "data": {
      "image/png": "[encoded data removed]",
      "text/latex": [
       "$$X_{2} \\neq X_{0}$$"
      ],
      "text/plain": [
       "X₂ ≠ X₀"
      ]
     },
     "metadata": {},
     "output_type": "display_data"
    },
    {
     "data": {
      "image/png": "[encoded data removed]",
      "text/latex": [
       "$$X_{3} \\neq X_{2}$$"
      ],
      "text/plain": [
       "X₃ ≠ X₂"
      ]
     },
     "metadata": {},
     "output_type": "display_data"
    },
    {
     "data": {
      "image/png": "[encoded data removed]",
      "text/latex": [
       "$$X_{2} \\neq X_{1} - 1 \\wedge X_{2} \\neq X_{1} + 1$$"
      ],
      "text/plain": [
       "X₂ ≠ X₁ - 1 ∧ X₂ ≠ X₁ + 1"
      ]
     },
     "metadata": {},
     "output_type": "display_data"
    },
    {
     "data": {
      "image/png": "[encoded data removed]",
      "text/latex": [
       "$$X_{7} \\neq X_{2} - 5 \\wedge X_{7} \\neq X_{2} + 5$$"
      ],
      "text/plain": [
       "X₇ ≠ X₂ - 5 ∧ X₇ ≠ X₂ + 5"
      ]
     },
     "metadata": {},
     "output_type": "display_data"
    },
    {
     "data": {
      "image/png": "[encoded data removed]",
      "text/latex": [
       "$$X_{4} \\neq X_{2} - 2 \\wedge X_{4} \\neq X_{2} + 2$$"
      ],
      "text/plain": [
       "X₄ ≠ X₂ - 2 ∧ X₄ ≠ X₂ + 2"
      ]
     },
     "metadata": {},
     "output_type": "display_data"
    },
    {
     "data": {
      "image/png": "[encoded data removed]",
      "text/latex": [
       "$$X_{5} \\neq X_{2}$$"
      ],
      "text/plain": [
       "X₅ ≠ X₂"
      ]
     },
     "metadata": {},
     "output_type": "display_data"
    },
    {
     "name": "stdout",
     "output_type": "stream",
     "text": [
      "And showing the constraints for X3:\n"
     ]
    },
    {
     "data": {
      "image/png": "[encoded data removed]",
      "text/latex": [
       "$$X_{3} \\neq X_{2} - 1 \\wedge X_{3} \\neq X_{2} + 1$$"
      ],
      "text/plain": [
       "X₃ ≠ X₂ - 1 ∧ X₃ ≠ X₂ + 1"
      ]
     },
     "metadata": {},
     "output_type": "display_data"
    },
    {
     "data": {
      "image/png": "[encoded data removed]",
      "text/latex": [
       "$$X_{5} \\neq X_{3} - 2 \\wedge X_{5} \\neq X_{3} + 2$$"
      ],
      "text/plain": [
       "X₅ ≠ X₃ - 2 ∧ X₅ ≠ X₃ + 2"
      ]
     },
     "metadata": {},
     "output_type": "display_data"
    },
    {
     "data": {
      "image/png": "[encoded data removed]",
      "text/latex": [
       "$$X_{4} \\neq X_{3}$$"
      ],
      "text/plain": [
       "X₄ ≠ X₃"
      ]
     },
     "metadata": {},
     "output_type": "display_data"
    },
    {
     "data": {
      "image/png": "[encoded data removed]",
      "text/latex": [
       "$$X_{6} \\neq X_{3}$$"
      ],
      "text/plain": [
       "X₆ ≠ X₃"
      ]
     },
     "metadata": {},
     "output_type": "display_data"
    },
    {
     "data": {
      "image/png": "[encoded data removed]",
      "text/latex": [
       "$$X_{3} \\neq X_{1}$$"
      ],
      "text/plain": [
       "X₃ ≠ X₁"
      ]
     },
     "metadata": {},
     "output_type": "display_data"
    },
    {
     "data": {
      "image/png": "[encoded data removed]",
      "text/latex": [
       "$$X_{7} \\neq X_{3}$$"
      ],
      "text/plain": [
       "X₇ ≠ X₃"
      ]
     },
     "metadata": {},
     "output_type": "display_data"
    },
    {
     "data": {
      "image/png": "[encoded data removed]",
      "text/latex": [
       "$$X_{3} \\neq X_{0}$$"
      ],
      "text/plain": [
       "X₃ ≠ X₀"
      ]
     },
     "metadata": {},
     "output_type": "display_data"
    },
    {
     "data": {
      "image/png": "[encoded data removed]",
      "text/latex": [
       "$$X_{3} \\neq X_{2}$$"
      ],
      "text/plain": [
       "X₃ ≠ X₂"
      ]
     },
     "metadata": {},
     "output_type": "display_data"
    },
    {
     "data": {
      "image/png": "[encoded data removed]",
      "text/latex": [
       "$$X_{5} \\neq X_{3}$$"
      ],
      "text/plain": [
       "X₅ ≠ X₃"
      ]
     },
     "metadata": {},
     "output_type": "display_data"
    },
    {
     "data": {
      "image/png": "[encoded data removed]",
      "text/latex": [
       "$$X_{4} \\neq X_{3} - 1 \\wedge X_{4} \\neq X_{3} + 1$$"
      ],
      "text/plain": [
       "X₄ ≠ X₃ - 1 ∧ X₄ ≠ X₃ + 1"
      ]
     },
     "metadata": {},
     "output_type": "display_data"
    },
    {
     "data": {
      "image/png": "[encoded data removed]",
      "text/latex": [
       "$$X_{6} \\neq X_{3} - 3 \\wedge X_{6} \\neq X_{3} + 3$$"
      ],
      "text/plain": [
       "X₆ ≠ X₃ - 3 ∧ X₆ ≠ X₃ + 3"
      ]
     },
     "metadata": {},
     "output_type": "display_data"
    },
    {
     "data": {
      "image/png": "[encoded data removed]",
      "text/latex": [
       "$$X_{3} \\neq X_{1} - 2 \\wedge X_{3} \\neq X_{1} + 2$$"
      ],
      "text/plain": [
       "X₃ ≠ X₁ - 2 ∧ X₃ ≠ X₁ + 2"
      ]
     },
     "metadata": {},
     "output_type": "display_data"
    },
    {
     "data": {
      "image/png": "[encoded data removed]",
      "text/latex": [
       "$$X_{7} \\neq X_{3} - 4 \\wedge X_{7} \\neq X_{3} + 4$$"
      ],
      "text/plain": [
       "X₇ ≠ X₃ - 4 ∧ X₇ ≠ X₃ + 4"
      ]
     },
     "metadata": {},
     "output_type": "display_data"
    },
    {
     "data": {
      "image/png": "[encoded data removed]",
      "text/latex": [
       "$$X_{3} \\neq X_{0} - 3 \\wedge X_{3} \\neq X_{0} + 3$$"
      ],
      "text/plain": [
       "X₃ ≠ X₀ - 3 ∧ X₃ ≠ X₀ + 3"
      ]
     },
     "metadata": {},
     "output_type": "display_data"
    },
    {
     "name": "stdout",
     "output_type": "stream",
     "text": [
      "And showing the constraints for X4:\n"
     ]
    },
    {
     "data": {
      "image/png": "[encoded data removed]",
      "text/latex": [
       "$$X_{4} \\neq X_{2}$$"
      ],
      "text/plain": [
       "X₄ ≠ X₂"
      ]
     },
     "metadata": {},
     "output_type": "display_data"
    },
    {
     "data": {
      "image/png": "[encoded data removed]",
      "text/latex": [
       "$$X_{5} \\neq X_{4}$$"
      ],
      "text/plain": [
       "X₅ ≠ X₄"
      ]
     },
     "metadata": {},
     "output_type": "display_data"
    },
    {
     "data": {
      "image/png": "[encoded data removed]",
      "text/latex": [
       "$$X_{4} \\neq X_{3}$$"
      ],
      "text/plain": [
       "X₄ ≠ X₃"
      ]
     },
     "metadata": {},
     "output_type": "display_data"
    },
    {
     "data": {
      "image/png": "[encoded data removed]",
      "text/latex": [
       "$$X_{6} \\neq X_{4}$$"
      ],
      "text/plain": [
       "X₆ ≠ X₄"
      ]
     },
     "metadata": {},
     "output_type": "display_data"
    },
    {
     "data": {
      "image/png": "[encoded data removed]",
      "text/latex": [
       "$$X_{4} \\neq X_{1}$$"
      ],
      "text/plain": [
       "X₄ ≠ X₁"
      ]
     },
     "metadata": {},
     "output_type": "display_data"
    },
    {
     "data": {
      "image/png": "[encoded data removed]",
      "text/latex": [
       "$$X_{4} \\neq X_{0} - 4 \\wedge X_{4} \\neq X_{0} + 4$$"
      ],
      "text/plain": [
       "X₄ ≠ X₀ - 4 ∧ X₄ ≠ X₀ + 4"
      ]
     },
     "metadata": {},
     "output_type": "display_data"
    },
    {
     "data": {
      "image/png": "[encoded data removed]",
      "text/latex": [
       "$$X_{7} \\neq X_{4}$$"
      ],
      "text/plain": [
       "X₇ ≠ X₄"
      ]
     },
     "metadata": {},
     "output_type": "display_data"
    },
    {
     "data": {
      "image/png": "[encoded data removed]",
      "text/latex": [
       "$$X_{4} \\neq X_{3} - 1 \\wedge X_{4} \\neq X_{3} + 1$$"
      ],
      "text/plain": [
       "X₄ ≠ X₃ - 1 ∧ X₄ ≠ X₃ + 1"
      ]
     },
     "metadata": {},
     "output_type": "display_data"
    },
    {
     "data": {
      "image/png": "[encoded data removed]",
      "text/latex": [
       "$$X_{6} \\neq X_{4} - 2 \\wedge X_{6} \\neq X_{4} + 2$$"
      ],
      "text/plain": [
       "X₆ ≠ X₄ - 2 ∧ X₆ ≠ X₄ + 2"
      ]
     },
     "metadata": {},
     "output_type": "display_data"
    },
    {
     "data": {
      "image/png": "[encoded data removed]",
      "text/latex": [
       "$$X_{4} \\neq X_{1} - 3 \\wedge X_{4} \\neq X_{1} + 3$$"
      ],
      "text/plain": [
       "X₄ ≠ X₁ - 3 ∧ X₄ ≠ X₁ + 3"
      ]
     },
     "metadata": {},
     "output_type": "display_data"
    },
    {
     "data": {
      "image/png": "[encoded data removed]",
      "text/latex": [
       "$$X_{7} \\neq X_{4} - 3 \\wedge X_{7} \\neq X_{4} + 3$$"
      ],
      "text/plain": [
       "X₇ ≠ X₄ - 3 ∧ X₇ ≠ X₄ + 3"
      ]
     },
     "metadata": {},
     "output_type": "display_data"
    },
    {
     "data": {
      "image/png": "[encoded data removed]",
      "text/latex": [
       "$$X_{4} \\neq X_{2} - 2 \\wedge X_{4} \\neq X_{2} + 2$$"
      ],
      "text/plain": [
       "X₄ ≠ X₂ - 2 ∧ X₄ ≠ X₂ + 2"
      ]
     },
     "metadata": {},
     "output_type": "display_data"
    },
    {
     "data": {
      "image/png": "[encoded data removed]",
      "text/latex": [
       "$$X_{5} \\neq X_{4} - 1 \\wedge X_{5} \\neq X_{4} + 1$$"
      ],
      "text/plain": [
       "X₅ ≠ X₄ - 1 ∧ X₅ ≠ X₄ + 1"
      ]
     },
     "metadata": {},
     "output_type": "display_data"
    },
    {
     "data": {
      "image/png": "[encoded data removed]",
      "text/latex": [
       "$$X_{4} \\neq X_{0}$$"
      ],
      "text/plain": [
       "X₄ ≠ X₀"
      ]
     },
     "metadata": {},
     "output_type": "display_data"
    },
    {
     "name": "stdout",
     "output_type": "stream",
     "text": [
      "And showing the constraints for X5:\n"
     ]
    },
    {
     "data": {
      "image/png": "[encoded data removed]",
      "text/latex": [
       "$$X_{5} \\neq X_{0} - 5 \\wedge X_{5} \\neq X_{0} + 5$$"
      ],
      "text/plain": [
       "X₅ ≠ X₀ - 5 ∧ X₅ ≠ X₀ + 5"
      ]
     },
     "metadata": {},
     "output_type": "display_data"
    },
    {
     "data": {
      "image/png": "[encoded data removed]",
      "text/latex": [
       "$$X_{5} \\neq X_{1}$$"
      ],
      "text/plain": [
       "X₅ ≠ X₁"
      ]
     },
     "metadata": {},
     "output_type": "display_data"
    },
    {
     "data": {
      "image/png": "[encoded data removed]",
      "text/latex": [
       "$$X_{5} \\neq X_{3} - 2 \\wedge X_{5} \\neq X_{3} + 2$$"
      ],
      "text/plain": [
       "X₅ ≠ X₃ - 2 ∧ X₅ ≠ X₃ + 2"
      ]
     },
     "metadata": {},
     "output_type": "display_data"
    },
    {
     "data": {
      "image/png": "[encoded data removed]",
      "text/latex": [
       "$$X_{5} \\neq X_{4}$$"
      ],
      "text/plain": [
       "X₅ ≠ X₄"
      ]
     },
     "metadata": {},
     "output_type": "display_data"
    },
    {
     "data": {
      "image/png": "[encoded data removed]",
      "text/latex": [
       "$$X_{5} \\neq X_{2} - 3 \\wedge X_{5} \\neq X_{2} + 3$$"
      ],
      "text/plain": [
       "X₅ ≠ X₂ - 3 ∧ X₅ ≠ X₂ + 3"
      ]
     },
     "metadata": {},
     "output_type": "display_data"
    },
    {
     "data": {
      "image/png": "[encoded data removed]",
      "text/latex": [
       "$$X_{6} \\neq X_{5}$$"
      ],
      "text/plain": [
       "X₆ ≠ X₅"
      ]
     },
     "metadata": {},
     "output_type": "display_data"
    },
    {
     "data": {
      "image/png": "[encoded data removed]",
      "text/latex": [
       "$$X_{7} \\neq X_{5}$$"
      ],
      "text/plain": [
       "X₇ ≠ X₅"
      ]
     },
     "metadata": {},
     "output_type": "display_data"
    },
    {
     "data": {
      "image/png": "[encoded data removed]",
      "text/latex": [
       "$$X_{5} \\neq X_{0}$$"
      ],
      "text/plain": [
       "X₅ ≠ X₀"
      ]
     },
     "metadata": {},
     "output_type": "display_data"
    },
    {
     "data": {
      "image/png": "[encoded data removed]",
      "text/latex": [
       "$$X_{5} \\neq X_{3}$$"
      ],
      "text/plain": [
       "X₅ ≠ X₃"
      ]
     },
     "metadata": {},
     "output_type": "display_data"
    },
    {
     "data": {
      "image/png": "[encoded data removed]",
      "text/latex": [
       "$$X_{7} \\neq X_{5} - 2 \\wedge X_{7} \\neq X_{5} + 2$$"
      ],
      "text/plain": [
       "X₇ ≠ X₅ - 2 ∧ X₇ ≠ X₅ + 2"
      ]
     },
     "metadata": {},
     "output_type": "display_data"
    },
    {
     "data": {
      "image/png": "[encoded data removed]",
      "text/latex": [
       "$$X_{5} \\neq X_{1} - 4 \\wedge X_{5} \\neq X_{1} + 4$$"
      ],
      "text/plain": [
       "X₅ ≠ X₁ - 4 ∧ X₅ ≠ X₁ + 4"
      ]
     },
     "metadata": {},
     "output_type": "display_data"
    },
    {
     "data": {
      "image/png": "[encoded data removed]",
      "text/latex": [
       "$$X_{5} \\neq X_{4} - 1 \\wedge X_{5} \\neq X_{4} + 1$$"
      ],
      "text/plain": [
       "X₅ ≠ X₄ - 1 ∧ X₅ ≠ X₄ + 1"
      ]
     },
     "metadata": {},
     "output_type": "display_data"
    },
    {
     "data": {
      "image/png": "[encoded data removed]",
      "text/latex": [
       "$$X_{5} \\neq X_{2}$$"
      ],
      "text/plain": [
       "X₅ ≠ X₂"
      ]
     },
     "metadata": {},
     "output_type": "display_data"
    },
    {
     "data": {
      "image/png": "[encoded data removed]",
      "text/latex": [
       "$$X_{6} \\neq X_{5} - 1 \\wedge X_{6} \\neq X_{5} + 1$$"
      ],
      "text/plain": [
       "X₆ ≠ X₅ - 1 ∧ X₆ ≠ X₅ + 1"
      ]
     },
     "metadata": {},
     "output_type": "display_data"
    },
    {
     "name": "stdout",
     "output_type": "stream",
     "text": [
      "And showing the constraints for X6:\n"
     ]
    },
    {
     "data": {
      "image/png": "[encoded data removed]",
      "text/latex": [
       "$$X_{6} \\neq X_{0}$$"
      ],
      "text/plain": [
       "X₆ ≠ X₀"
      ]
     },
     "metadata": {},
     "output_type": "display_data"
    },
    {
     "data": {
      "image/png": "[encoded data removed]",
      "text/latex": [
       "$$X_{6} \\neq X_{1} - 5 \\wedge X_{6} \\neq X_{1} + 5$$"
      ],
      "text/plain": [
       "X₆ ≠ X₁ - 5 ∧ X₆ ≠ X₁ + 5"
      ]
     },
     "metadata": {},
     "output_type": "display_data"
    },
    {
     "data": {
      "image/png": "[encoded data removed]",
      "text/latex": [
       "$$X_{7} \\neq X_{6} - 1 \\wedge X_{7} \\neq X_{6} + 1$$"
      ],
      "text/plain": [
       "X₇ ≠ X₆ - 1 ∧ X₇ ≠ X₆ + 1"
      ]
     },
     "metadata": {},
     "output_type": "display_data"
    },
    {
     "data": {
      "image/png": "[encoded data removed]",
      "text/latex": [
       "$$X_{6} \\neq X_{2}$$"
      ],
      "text/plain": [
       "X₆ ≠ X₂"
      ]
     },
     "metadata": {},
     "output_type": "display_data"
    },
    {
     "data": {
      "image/png": "[encoded data removed]",
      "text/latex": [
       "$$X_{6} \\neq X_{4}$$"
      ],
      "text/plain": [
       "X₆ ≠ X₄"
      ]
     },
     "metadata": {},
     "output_type": "display_data"
    },
    {
     "data": {
      "image/png": "[encoded data removed]",
      "text/latex": [
       "$$X_{6} \\neq X_{3}$$"
      ],
      "text/plain": [
       "X₆ ≠ X₃"
      ]
     },
     "metadata": {},
     "output_type": "display_data"
    },
    {
     "data": {
      "image/png": "[encoded data removed]",
      "text/latex": [
       "$$X_{6} \\neq X_{5}$$"
      ],
      "text/plain": [
       "X₆ ≠ X₅"
      ]
     },
     "metadata": {},
     "output_type": "display_data"
    },
    {
     "data": {
      "image/png": "[encoded data removed]",
      "text/latex": [
       "$$X_{7} \\neq X_{6}$$"
      ],
      "text/plain": [
       "X₇ ≠ X₆"
      ]
     },
     "metadata": {},
     "output_type": "display_data"
    },
    {
     "data": {
      "image/png": "[encoded data removed]",
      "text/latex": [
       "$$X_{6} \\neq X_{0} - 6 \\wedge X_{6} \\neq X_{0} + 6$$"
      ],
      "text/plain": [
       "X₆ ≠ X₀ - 6 ∧ X₆ ≠ X₀ + 6"
      ]
     },
     "metadata": {},
     "output_type": "display_data"
    },
    {
     "data": {
      "image/png": "[encoded data removed]",
      "text/latex": [
       "$$X_{6} \\neq X_{4} - 2 \\wedge X_{6} \\neq X_{4} + 2$$"
      ],
      "text/plain": [
       "X₆ ≠ X₄ - 2 ∧ X₆ ≠ X₄ + 2"
      ]
     },
     "metadata": {},
     "output_type": "display_data"
    },
    {
     "data": {
      "image/png": "[encoded data removed]",
      "text/latex": [
       "$$X_{6} \\neq X_{3} - 3 \\wedge X_{6} \\neq X_{3} + 3$$"
      ],
      "text/plain": [
       "X₆ ≠ X₃ - 3 ∧ X₆ ≠ X₃ + 3"
      ]
     },
     "metadata": {},
     "output_type": "display_data"
    },
    {
     "data": {
      "image/png": "[encoded data removed]",
      "text/latex": [
       "$$X_{6} \\neq X_{1}$$"
      ],
      "text/plain": [
       "X₆ ≠ X₁"
      ]
     },
     "metadata": {},
     "output_type": "display_data"
    },
    {
     "data": {
      "image/png": "[encoded data removed]",
      "text/latex": [
       "$$X_{6} \\neq X_{2} - 4 \\wedge X_{6} \\neq X_{2} + 4$$"
      ],
      "text/plain": [
       "X₆ ≠ X₂ - 4 ∧ X₆ ≠ X₂ + 4"
      ]
     },
     "metadata": {},
     "output_type": "display_data"
    },
    {
     "data": {
      "image/png": "[encoded data removed]",
      "text/latex": [
       "$$X_{6} \\neq X_{5} - 1 \\wedge X_{6} \\neq X_{5} + 1$$"
      ],
      "text/plain": [
       "X₆ ≠ X₅ - 1 ∧ X₆ ≠ X₅ + 1"
      ]
     },
     "metadata": {},
     "output_type": "display_data"
    },
    {
     "name": "stdout",
     "output_type": "stream",
     "text": [
      "And showing the constraints for X7:\n"
     ]
    },
    {
     "data": {
      "image/png": "[encoded data removed]",
      "text/latex": [
       "$$X_{7} \\neq X_{2}$$"
      ],
      "text/plain": [
       "X₇ ≠ X₂"
      ]
     },
     "metadata": {},
     "output_type": "display_data"
    },
    {
     "data": {
      "image/png": "[encoded data removed]",
      "text/latex": [
       "$$X_{7} \\neq X_{5}$$"
      ],
      "text/plain": [
       "X₇ ≠ X₅"
      ]
     },
     "metadata": {},
     "output_type": "display_data"
    },
    {
     "data": {
      "image/png": "[encoded data removed]",
      "text/latex": [
       "$$X_{7} \\neq X_{6} - 1 \\wedge X_{7} \\neq X_{6} + 1$$"
      ],
      "text/plain": [
       "X₇ ≠ X₆ - 1 ∧ X₇ ≠ X₆ + 1"
      ]
     },
     "metadata": {},
     "output_type": "display_data"
    },
    {
     "data": {
      "image/png": "[encoded data removed]",
      "text/latex": [
       "$$X_{7} \\neq X_{6}$$"
      ],
      "text/plain": [
       "X₇ ≠ X₆"
      ]
     },
     "metadata": {},
     "output_type": "display_data"
    },
    {
     "data": {
      "image/png": "[encoded data removed]",
      "text/latex": [
       "$$X_{7} \\neq X_{1}$$"
      ],
      "text/plain": [
       "X₇ ≠ X₁"
      ]
     },
     "metadata": {},
     "output_type": "display_data"
    },
    {
     "data": {
      "image/png": "[encoded data removed]",
      "text/latex": [
       "$$X_{7} \\neq X_{3}$$"
      ],
      "text/plain": [
       "X₇ ≠ X₃"
      ]
     },
     "metadata": {},
     "output_type": "display_data"
    },
    {
     "data": {
      "image/png": "[encoded data removed]",
      "text/latex": [
       "$$X_{7} \\neq X_{4}$$"
      ],
      "text/plain": [
       "X₇ ≠ X₄"
      ]
     },
     "metadata": {},
     "output_type": "display_data"
    },
    {
     "data": {
      "image/png": "[encoded data removed]",
      "text/latex": [
       "$$X_{7} \\neq X_{0}$$"
      ],
      "text/plain": [
       "X₇ ≠ X₀"
      ]
     },
     "metadata": {},
     "output_type": "display_data"
    },
    {
     "data": {
      "image/png": "[encoded data removed]",
      "text/latex": [
       "$$X_{7} \\neq X_{5} - 2 \\wedge X_{7} \\neq X_{5} + 2$$"
      ],
      "text/plain": [
       "X₇ ≠ X₅ - 2 ∧ X₇ ≠ X₅ + 2"
      ]
     },
     "metadata": {},
     "output_type": "display_data"
    },
    {
     "data": {
      "image/png": "[encoded data removed]",
      "text/latex": [
       "$$X_{7} \\neq X_{1} - 6 \\wedge X_{7} \\neq X_{1} + 6$$"
      ],
      "text/plain": [
       "X₇ ≠ X₁ - 6 ∧ X₇ ≠ X₁ + 6"
      ]
     },
     "metadata": {},
     "output_type": "display_data"
    },
    {
     "data": {
      "image/png": "[encoded data removed]",
      "text/latex": [
       "$$X_{7} \\neq X_{3} - 4 \\wedge X_{7} \\neq X_{3} + 4$$"
      ],
      "text/plain": [
       "X₇ ≠ X₃ - 4 ∧ X₇ ≠ X₃ + 4"
      ]
     },
     "metadata": {},
     "output_type": "display_data"
    },
    {
     "data": {
      "image/png": "[encoded data removed]",
      "text/latex": [
       "$$X_{7} \\neq X_{4} - 3 \\wedge X_{7} \\neq X_{4} + 3$$"
      ],
      "text/plain": [
       "X₇ ≠ X₄ - 3 ∧ X₇ ≠ X₄ + 3"
      ]
     },
     "metadata": {},
     "output_type": "display_data"
    },
    {
     "data": {
      "image/png": "[encoded data removed]",
      "text/latex": [
       "$$X_{7} \\neq X_{2} - 5 \\wedge X_{7} \\neq X_{2} + 5$$"
      ],
      "text/plain": [
       "X₇ ≠ X₂ - 5 ∧ X₇ ≠ X₂ + 5"
      ]
     },
     "metadata": {},
     "output_type": "display_data"
    },
    {
     "data": {
      "image/png": "[encoded data removed]",
      "text/latex": [
       "$$X_{7} \\neq X_{0} - 7 \\wedge X_{7} \\neq X_{0} + 7$$"
      ],
      "text/plain": [
       "X₇ ≠ X₀ - 7 ∧ X₇ ≠ X₀ + 7"
      ]
     },
     "metadata": {},
     "output_type": "display_data"
    },
    {
     "name": "stdout",
     "output_type": "stream",
     "text": [
      "Solving N-Queens CSP...\n",
      "assignment  {}\n",
      "variable  X0\n",
      "value  0\n",
      "assignment  {X0: 0}\n",
      "variable  X1\n",
      "value  0\n",
      "value  1\n",
      "value  2\n",
      "assignment  {X0: 0, X1: 2}\n",
      "variable  X2\n",
      "value  0\n",
      "value  1\n",
      "value  2\n",
      "value  3\n",
      "value  4\n",
      "assignment  {X0: 0, X1: 2, X2: 4}\n",
      "variable  X3\n",
      "value  0\n",
      "value  1\n",
      "assignment  {X0: 0, X1: 2, X2: 4, X3: 1}\n",
      "variable  X4\n",
      "value  0\n",
      "value  1\n",
      "value  2\n",
      "value  3\n",
      "assignment  {X0: 0, X1: 2, X2: 4, X3: 1, X4: 3}\n",
      "variable  X5\n",
      "value  0\n",
      "value  1\n",
      "value  2\n",
      "value  3\n",
      "value  4\n",
      "value  5\n",
      "value  6\n",
      "value  7\n",
      "value  4\n",
      "value  5\n",
      "value  6\n",
      "value  7\n",
      "assignment  {X0: 0, X1: 2, X2: 4, X3: 1, X4: 7}\n",
      "variable  X5\n",
      "value  0\n",
      "value  1\n",
      "value  2\n",
      "value  3\n",
      "value  4\n",
      "value  5\n",
      "value  6\n",
      "value  7\n",
      "value  2\n",
      "value  3\n",
      "value  4\n",
      "value  5\n",
      "value  6\n",
      "assignment  {X0: 0, X1: 2, X2: 4, X3: 6}\n",
      "variable  X4\n",
      "value  0\n",
      "value  1\n",
      "assignment  {X0: 0, X1: 2, X2: 4, X3: 6, X4: 1}\n",
      "variable  X5\n",
      "value  0\n",
      "value  1\n",
      "value  2\n",
      "value  3\n",
      "assignment  {X0: 0, X1: 2, X2: 4, X3: 6, X4: 1, X5: 3}\n",
      "variable  X6\n",
      "value  0\n",
      "value  1\n",
      "value  2\n",
      "value  3\n",
      "value  4\n",
      "value  5\n",
      "assignment  {X0: 0, X1: 2, X2: 4, X3: 6, X4: 1, X5: 3, X6: 5}\n",
      "variable  X7\n",
      "value  0\n",
      "value  1\n",
      "value  2\n",
      "value  3\n",
      "value  4\n",
      "value  5\n",
      "value  6\n",
      "value  7\n",
      "value  6\n",
      "value  7\n",
      "value  4\n",
      "value  5\n",
      "value  6\n",
      "value  7\n",
      "value  2\n",
      "value  3\n",
      "assignment  {X0: 0, X1: 2, X2: 4, X3: 6, X4: 3}\n",
      "variable  X5\n",
      "value  0\n",
      "value  1\n",
      "value  2\n",
      "value  3\n",
      "value  4\n",
      "value  5\n",
      "value  6\n",
      "value  7\n",
      "value  4\n",
      "value  5\n",
      "value  6\n",
      "value  7\n",
      "value  7\n",
      "assignment  {X0: 0, X1: 2, X2: 4, X3: 7}\n",
      "variable  X4\n",
      "value  0\n",
      "value  1\n",
      "assignment  {X0: 0, X1: 2, X2: 4, X3: 7, X4: 1}\n",
      "variable  X5\n",
      "value  0\n",
      "value  1\n",
      "value  2\n",
      "value  3\n",
      "assignment  {X0: 0, X1: 2, X2: 4, X3: 7, X4: 1, X5: 3}\n",
      "variable  X6\n",
      "value  0\n",
      "value  1\n",
      "value  2\n",
      "value  3\n",
      "value  4\n",
      "value  5\n",
      "assignment  {X0: 0, X1: 2, X2: 4, X3: 7, X4: 1, X5: 3, X6: 5}\n",
      "variable  X7\n",
      "value  0\n",
      "value  1\n",
      "value  2\n",
      "value  3\n",
      "value  4\n",
      "value  5\n",
      "value  6\n",
      "value  7\n",
      "value  6\n",
      "value  7\n",
      "value  4\n",
      "value  5\n",
      "value  6\n",
      "value  7\n",
      "value  2\n",
      "value  3\n",
      "assignment  {X0: 0, X1: 2, X2: 4, X3: 7, X4: 3}\n",
      "variable  X5\n",
      "value  0\n",
      "value  1\n",
      "value  2\n",
      "value  3\n",
      "value  4\n",
      "value  5\n",
      "value  6\n",
      "value  7\n",
      "value  4\n",
      "value  5\n",
      "value  6\n",
      "value  7\n",
      "value  5\n",
      "assignment  {X0: 0, X1: 2, X2: 5}\n",
      "variable  X3\n",
      "value  0\n",
      "value  1\n",
      "assignment  {X0: 0, X1: 2, X2: 5, X3: 1}\n",
      "variable  X4\n",
      "value  0\n",
      "value  1\n",
      "value  2\n",
      "value  3\n",
      "value  4\n",
      "value  5\n",
      "value  6\n",
      "assignment  {X0: 0, X1: 2, X2: 5, X3: 1, X4: 6}\n",
      "variable  X5\n",
      "value  0\n",
      "value  1\n",
      "value  2\n",
      "value  3\n",
      "value  4\n",
      "assignment  {X0: 0, X1: 2, X2: 5, X3: 1, X4: 6, X5: 4}\n",
      "variable  X6\n",
      "value  0\n",
      "value  1\n",
      "value  2\n",
      "value  3\n",
      "value  4\n",
      "value  5\n",
      "value  6\n",
      "value  7\n",
      "value  5\n",
      "value  6\n",
      "value  7\n",
      "value  7\n",
      "value  2\n",
      "value  3\n",
      "value  4\n",
      "value  5\n",
      "value  6\n",
      "value  7\n",
      "assignment  {X0: 0, X1: 2, X2: 5, X3: 7}\n",
      "variable  X4\n",
      "value  0\n",
      "value  1\n",
      "assignment  {X0: 0, X1: 2, X2: 5, X3: 7, X4: 1}\n",
      "variable  X5\n",
      "value  0\n",
      "value  1\n",
      "value  2\n",
      "value  3\n",
      "assignment  {X0: 0, X1: 2, X2: 5, X3: 7, X4: 1, X5: 3}\n",
      "variable  X6\n",
      "value  0\n",
      "value  1\n",
      "value  2\n",
      "value  3\n",
      "value  4\n",
      "value  5\n",
      "value  6\n",
      "value  7\n",
      "value  4\n",
      "assignment  {X0: 0, X1: 2, X2: 5, X3: 7, X4: 1, X5: 4}\n",
      "variable  X6\n",
      "value  0\n",
      "value  1\n",
      "value  2\n",
      "value  3\n",
      "value  4\n",
      "value  5\n",
      "value  6\n",
      "value  7\n",
      "value  5\n",
      "value  6\n",
      "value  7\n",
      "value  2\n",
      "value  3\n",
      "value  4\n",
      "value  5\n",
      "value  6\n",
      "value  7\n",
      "value  6\n",
      "assignment  {X0: 0, X1: 2, X2: 6}\n",
      "variable  X3\n",
      "value  0\n",
      "value  1\n",
      "assignment  {X0: 0, X1: 2, X2: 6, X3: 1}\n",
      "variable  X4\n",
      "value  0\n",
      "value  1\n",
      "value  2\n",
      "value  3\n",
      "assignment  {X0: 0, X1: 2, X2: 6, X3: 1, X4: 3}\n",
      "variable  X5\n",
      "value  0\n",
      "value  1\n",
      "value  2\n",
      "value  3\n",
      "value  4\n",
      "value  5\n",
      "value  6\n",
      "value  7\n",
      "assignment  {X0: 0, X1: 2, X2: 6, X3: 1, X4: 3, X5: 7}\n",
      "variable  X6\n",
      "value  0\n",
      "value  1\n",
      "value  2\n",
      "value  3\n",
      "value  4\n",
      "value  5\n",
      "value  6\n",
      "value  7\n",
      "value  4\n",
      "value  5\n",
      "value  6\n",
      "value  7\n",
      "assignment  {X0: 0, X1: 2, X2: 6, X3: 1, X4: 7}\n",
      "variable  X5\n",
      "value  0\n",
      "value  1\n",
      "value  2\n",
      "value  3\n",
      "value  4\n",
      "assignment  {X0: 0, X1: 2, X2: 6, X3: 1, X4: 7, X5: 4}\n",
      "variable  X6\n",
      "value  0\n",
      "value  1\n",
      "value  2\n",
      "value  3\n",
      "value  4\n",
      "value  5\n",
      "value  6\n",
      "value  7\n",
      "value  5\n",
      "value  6\n",
      "value  7\n",
      "value  2\n",
      "value  3\n",
      "value  4\n",
      "value  5\n",
      "value  6\n",
      "value  7\n",
      "value  7\n",
      "assignment  {X0: 0, X1: 2, X2: 7}\n",
      "variable  X3\n",
      "value  0\n",
      "value  1\n",
      "assignment  {X0: 0, X1: 2, X2: 7, X3: 1}\n",
      "variable  X4\n",
      "value  0\n",
      "value  1\n",
      "value  2\n",
      "value  3\n",
      "assignment  {X0: 0, X1: 2, X2: 7, X3: 1, X4: 3}\n",
      "variable  X5\n",
      "value  0\n",
      "value  1\n",
      "value  2\n",
      "value  3\n",
      "value  4\n",
      "value  5\n",
      "value  6\n",
      "value  7\n",
      "value  4\n",
      "value  5\n",
      "value  6\n",
      "assignment  {X0: 0, X1: 2, X2: 7, X3: 1, X4: 6}\n",
      "variable  X5\n",
      "value  0\n",
      "value  1\n",
      "value  2\n",
      "value  3\n",
      "value  4\n",
      "value  5\n",
      "value  6\n",
      "value  7\n",
      "value  7\n",
      "value  2\n",
      "value  3\n",
      "value  4\n",
      "value  5\n",
      "assignment  {X0: 0, X1: 2, X2: 7, X3: 5}\n",
      "variable  X4\n",
      "value  0\n",
      "value  1\n",
      "assignment  {X0: 0, X1: 2, X2: 7, X3: 5, X4: 1}\n",
      "variable  X5\n",
      "value  0\n",
      "value  1\n",
      "value  2\n",
      "value  3\n",
      "value  4\n",
      "value  5\n",
      "value  6\n",
      "value  7\n",
      "value  2\n",
      "value  3\n",
      "assignment  {X0: 0, X1: 2, X2: 7, X3: 5, X4: 3}\n",
      "variable  X5\n",
      "value  0\n",
      "value  1\n",
      "assignment  {X0: 0, X1: 2, X2: 7, X3: 5, X4: 3, X5: 1}\n",
      "variable  X6\n",
      "value  0\n",
      "value  1\n",
      "value  2\n",
      "value  3\n",
      "value  4\n",
      "assignment  {X0: 0, X1: 2, X2: 7, X3: 5, X4: 3, X5: 1, X6: 4}\n",
      "variable  X7\n",
      "value  0\n",
      "value  1\n",
      "value  2\n",
      "value  3\n",
      "value  4\n",
      "value  5\n",
      "value  6\n",
      "value  7\n",
      "value  5\n",
      "value  6\n",
      "value  7\n",
      "value  2\n",
      "value  3\n",
      "value  4\n",
      "value  5\n",
      "value  6\n",
      "value  7\n",
      "value  4\n",
      "value  5\n",
      "value  6\n",
      "value  7\n",
      "value  6\n",
      "value  7\n",
      "value  3\n",
      "assignment  {X0: 0, X1: 3}\n",
      "variable  X2\n",
      "value  0\n",
      "value  1\n",
      "assignment  {X0: 0, X1: 3, X2: 1}\n",
      "variable  X3\n",
      "value  0\n",
      "value  1\n",
      "value  2\n",
      "value  3\n",
      "value  4\n",
      "assignment  {X0: 0, X1: 3, X2: 1, X3: 4}\n",
      "variable  X4\n",
      "value  0\n",
      "value  1\n",
      "value  2\n",
      "assignment  {X0: 0, X1: 3, X2: 1, X3: 4, X4: 2}\n",
      "variable  X5\n",
      "value  0\n",
      "value  1\n",
      "value  2\n",
      "value  3\n",
      "value  4\n",
      "value  5\n",
      "value  6\n",
      "value  7\n",
      "value  3\n",
      "value  4\n",
      "value  5\n",
      "value  6\n",
      "value  7\n",
      "assignment  {X0: 0, X1: 3, X2: 1, X3: 4, X4: 7}\n",
      "variable  X5\n",
      "value  0\n",
      "value  1\n",
      "value  2\n",
      "value  3\n",
      "value  4\n",
      "value  5\n",
      "value  6\n",
      "value  7\n",
      "value  5\n",
      "value  6\n",
      "assignment  {X0: 0, X1: 3, X2: 1, X3: 6}\n",
      "variable  X4\n",
      "value  0\n",
      "value  1\n",
      "value  2\n",
      "assignment  {X0: 0, X1: 3, X2: 1, X3: 6, X4: 2}\n",
      "variable  X5\n",
      "value  0\n",
      "value  1\n",
      "value  2\n",
      "value  3\n",
      "value  4\n",
      "value  5\n",
      "value  6\n",
      "value  7\n",
      "value  3\n",
      "value  4\n",
      "value  5\n",
      "value  6\n",
      "value  7\n",
      "value  7\n",
      "assignment  {X0: 0, X1: 3, X2: 1, X3: 7}\n",
      "variable  X4\n",
      "value  0\n",
      "value  1\n",
      "value  2\n",
      "assignment  {X0: 0, X1: 3, X2: 1, X3: 7, X4: 2}\n",
      "variable  X5\n",
      "value  0\n",
      "value  1\n",
      "value  2\n",
      "value  3\n",
      "value  4\n",
      "value  5\n",
      "value  6\n",
      "assignment  {X0: 0, X1: 3, X2: 1, X3: 7, X4: 2, X5: 6}\n",
      "variable  X6\n",
      "value  0\n",
      "value  1\n",
      "value  2\n",
      "value  3\n",
      "value  4\n",
      "value  5\n",
      "value  6\n",
      "value  7\n",
      "value  7\n",
      "value  3\n",
      "value  4\n",
      "value  5\n",
      "assignment  {X0: 0, X1: 3, X2: 1, X3: 7, X4: 5}\n",
      "variable  X5\n",
      "value  0\n",
      "value  1\n",
      "value  2\n",
      "assignment  {X0: 0, X1: 3, X2: 1, X3: 7, X4: 5, X5: 2}\n",
      "variable  X6\n",
      "value  0\n",
      "value  1\n",
      "value  2\n",
      "value  3\n",
      "value  4\n",
      "value  5\n",
      "value  6\n",
      "value  7\n",
      "value  3\n",
      "value  4\n",
      "value  5\n",
      "value  6\n",
      "value  7\n",
      "value  6\n",
      "value  7\n",
      "value  2\n",
      "value  3\n",
      "value  4\n",
      "value  5\n",
      "assignment  {X0: 0, X1: 3, X2: 5}\n",
      "variable  X3\n",
      "value  0\n",
      "value  1\n",
      "value  2\n",
      "assignment  {X0: 0, X1: 3, X2: 5, X3: 2}\n",
      "variable  X4\n",
      "value  0\n",
      "value  1\n",
      "value  2\n",
      "value  3\n",
      "value  4\n",
      "value  5\n",
      "value  6\n",
      "value  7\n",
      "value  3\n",
      "value  4\n",
      "value  5\n",
      "value  6\n",
      "value  7\n",
      "assignment  {X0: 0, X1: 3, X2: 5, X3: 7}\n",
      "variable  X4\n",
      "value  0\n",
      "value  1\n",
      "assignment  {X0: 0, X1: 3, X2: 5, X3: 7, X4: 1}\n",
      "variable  X5\n",
      "value  0\n",
      "value  1\n",
      "value  2\n",
      "value  3\n",
      "value  4\n",
      "assignment  {X0: 0, X1: 3, X2: 5, X3: 7, X4: 1, X5: 4}\n",
      "variable  X6\n",
      "value  0\n",
      "value  1\n",
      "value  2\n",
      "assignment  {X0: 0, X1: 3, X2: 5, X3: 7, X4: 1, X5: 4, X6: 2}\n",
      "variable  X7\n",
      "value  0\n",
      "value  1\n",
      "value  2\n",
      "value  3\n",
      "value  4\n",
      "value  5\n",
      "value  6\n",
      "value  7\n",
      "value  3\n",
      "value  4\n",
      "value  5\n",
      "value  6\n",
      "value  7\n",
      "value  5\n",
      "value  6\n",
      "assignment  {X0: 0, X1: 3, X2: 5, X3: 7, X4: 1, X5: 6}\n",
      "variable  X6\n",
      "value  0\n",
      "value  1\n",
      "value  2\n",
      "assignment  {X0: 0, X1: 3, X2: 5, X3: 7, X4: 1, X5: 6, X6: 2}\n",
      "variable  X7\n",
      "value  0\n",
      "value  1\n",
      "value  2\n",
      "value  3\n",
      "value  4\n",
      "value  5\n",
      "value  6\n",
      "value  7\n",
      "value  3\n",
      "value  4\n",
      "value  5\n",
      "value  6\n",
      "value  7\n",
      "value  7\n",
      "value  2\n",
      "assignment  {X0: 0, X1: 3, X2: 5, X3: 7, X4: 2}\n",
      "variable  X5\n",
      "value  0\n",
      "value  1\n",
      "value  2\n",
      "value  3\n",
      "value  4\n",
      "assignment  {X0: 0, X1: 3, X2: 5, X3: 7, X4: 2, X5: 4}\n",
      "variable  X6\n",
      "value  0\n",
      "value  1\n",
      "value  2\n",
      "value  3\n",
      "value  4\n",
      "value  5\n",
      "value  6\n",
      "value  7\n",
      "value  5\n",
      "value  6\n",
      "assignment  {X0: 0, X1: 3, X2: 5, X3: 7, X4: 2, X5: 6}\n",
      "variable  X6\n",
      "value  0\n",
      "value  1\n",
      "value  2\n",
      "value  3\n",
      "value  4\n",
      "value  5\n",
      "value  6\n",
      "value  7\n",
      "value  7\n",
      "value  3\n",
      "value  4\n",
      "value  5\n",
      "value  6\n",
      "value  7\n",
      "value  6\n",
      "assignment  {X0: 0, X1: 3, X2: 6}\n",
      "variable  X3\n",
      "value  0\n",
      "value  1\n",
      "value  2\n",
      "assignment  {X0: 0, X1: 3, X2: 6, X3: 2}\n",
      "variable  X4\n",
      "value  0\n",
      "value  1\n",
      "value  2\n",
      "value  3\n",
      "value  4\n",
      "value  5\n",
      "assignment  {X0: 0, X1: 3, X2: 6, X3: 2, X4: 5}\n",
      "variable  X5\n",
      "value  0\n",
      "value  1\n",
      "assignment  {X0: 0, X1: 3, X2: 6, X3: 2, X4: 5, X5: 1}\n",
      "variable  X6\n",
      "value  0\n",
      "value  1\n",
      "value  2\n",
      "value  3\n",
      "value  4\n",
      "assignment  {X0: 0, X1: 3, X2: 6, X3: 2, X4: 5, X5: 1, X6: 4}\n",
      "variable  X7\n",
      "value  0\n",
      "value  1\n",
      "value  2\n",
      "value  3\n",
      "value  4\n",
      "value  5\n",
      "value  6\n",
      "value  7\n",
      "value  5\n",
      "value  6\n",
      "value  7\n",
      "value  2\n",
      "value  3\n",
      "value  4\n",
      "value  5\n",
      "value  6\n",
      "value  7\n",
      "value  6\n",
      "value  7\n",
      "assignment  {X0: 0, X1: 3, X2: 6, X3: 2, X4: 7}\n",
      "variable  X5\n",
      "value  0\n",
      "value  1\n",
      "assignment  {X0: 0, X1: 3, X2: 6, X3: 2, X4: 7, X5: 1}\n",
      "variable  X6\n",
      "value  0\n",
      "value  1\n",
      "value  2\n",
      "value  3\n",
      "value  4\n",
      "assignment  {X0: 0, X1: 3, X2: 6, X3: 2, X4: 7, X5: 1, X6: 4}\n",
      "variable  X7\n",
      "value  0\n",
      "value  1\n",
      "value  2\n",
      "value  3\n",
      "value  4\n",
      "value  5\n",
      "value  6\n",
      "value  7\n",
      "value  5\n",
      "value  6\n",
      "value  7\n",
      "value  2\n",
      "value  3\n",
      "value  4\n",
      "value  5\n",
      "value  6\n",
      "value  7\n",
      "value  3\n",
      "value  4\n",
      "assignment  {X0: 0, X1: 3, X2: 6, X3: 4}\n",
      "variable  X4\n",
      "value  0\n",
      "value  1\n",
      "assignment  {X0: 0, X1: 3, X2: 6, X3: 4, X4: 1}\n",
      "variable  X5\n",
      "value  0\n",
      "value  1\n",
      "value  2\n",
      "value  3\n",
      "value  4\n",
      "value  5\n",
      "value  6\n",
      "value  7\n",
      "value  2\n",
      "assignment  {X0: 0, X1: 3, X2: 6, X3: 4, X4: 2}\n",
      "variable  X5\n",
      "value  0\n",
      "value  1\n",
      "value  2\n",
      "value  3\n",
      "value  4\n",
      "value  5\n",
      "value  6\n",
      "value  7\n",
      "value  3\n",
      "value  4\n",
      "value  5\n",
      "value  6\n",
      "value  7\n",
      "assignment  {X0: 0, X1: 3, X2: 6, X3: 4, X4: 7}\n",
      "variable  X5\n",
      "value  0\n",
      "value  1\n",
      "assignment  {X0: 0, X1: 3, X2: 6, X3: 4, X4: 7, X5: 1}\n",
      "variable  X6\n",
      "value  0\n",
      "value  1\n",
      "value  2\n",
      "value  3\n",
      "value  4\n",
      "value  5\n",
      "value  6\n",
      "value  7\n",
      "value  2\n",
      "value  3\n",
      "value  4\n",
      "value  5\n",
      "value  6\n",
      "value  7\n",
      "value  5\n",
      "value  6\n",
      "value  7\n",
      "value  7\n",
      "assignment  {X0: 0, X1: 3, X2: 7}\n",
      "variable  X3\n",
      "value  0\n",
      "value  1\n",
      "value  2\n",
      "assignment  {X0: 0, X1: 3, X2: 7, X3: 2}\n",
      "variable  X4\n",
      "value  0\n",
      "value  1\n",
      "value  2\n",
      "value  3\n",
      "value  4\n",
      "value  5\n",
      "value  6\n",
      "value  7\n",
      "value  3\n",
      "value  4\n",
      "assignment  {X0: 0, X1: 3, X2: 7, X3: 4}\n",
      "variable  X4\n",
      "value  0\n",
      "value  1\n",
      "assignment  {X0: 0, X1: 3, X2: 7, X3: 4, X4: 1}\n",
      "variable  X5\n",
      "value  0\n",
      "value  1\n",
      "value  2\n"
     ]
    },
    {
     "name": "stdout",
     "output_type": "stream",
     "text": [
      "value  3\n",
      "value  4\n",
      "value  5\n",
      "value  6\n",
      "value  7\n",
      "value  2\n",
      "assignment  {X0: 0, X1: 3, X2: 7, X3: 4, X4: 2}\n",
      "variable  X5\n",
      "value  0\n",
      "value  1\n",
      "value  2\n",
      "value  3\n",
      "value  4\n",
      "value  5\n",
      "value  6\n",
      "value  7\n",
      "value  3\n",
      "value  4\n",
      "value  5\n",
      "value  6\n",
      "value  7\n",
      "value  5\n",
      "value  6\n",
      "value  7\n",
      "value  4\n",
      "assignment  {X0: 0, X1: 4}\n",
      "variable  X2\n",
      "value  0\n",
      "value  1\n",
      "assignment  {X0: 0, X1: 4, X2: 1}\n",
      "variable  X3\n",
      "value  0\n",
      "value  1\n",
      "value  2\n",
      "value  3\n",
      "value  4\n",
      "value  5\n",
      "assignment  {X0: 0, X1: 4, X2: 1, X3: 5}\n",
      "variable  X4\n",
      "value  0\n",
      "value  1\n",
      "value  2\n",
      "assignment  {X0: 0, X1: 4, X2: 1, X3: 5, X4: 2}\n",
      "variable  X5\n",
      "value  0\n",
      "value  1\n",
      "value  2\n",
      "value  3\n",
      "value  4\n",
      "value  5\n",
      "value  6\n",
      "assignment  {X0: 0, X1: 4, X2: 1, X3: 5, X4: 2, X5: 6}\n",
      "variable  X6\n",
      "value  0\n",
      "value  1\n",
      "value  2\n",
      "value  3\n",
      "assignment  {X0: 0, X1: 4, X2: 1, X3: 5, X4: 2, X5: 6, X6: 3}\n",
      "variable  X7\n",
      "value  0\n",
      "value  1\n",
      "value  2\n",
      "value  3\n",
      "value  4\n",
      "value  5\n",
      "value  6\n",
      "value  7\n",
      "value  4\n",
      "value  5\n",
      "value  6\n",
      "value  7\n",
      "value  7\n",
      "value  3\n",
      "value  4\n",
      "value  5\n",
      "value  6\n",
      "value  7\n",
      "value  6\n",
      "value  7\n",
      "assignment  {X0: 0, X1: 4, X2: 1, X3: 7}\n",
      "variable  X4\n",
      "value  0\n",
      "value  1\n",
      "value  2\n",
      "assignment  {X0: 0, X1: 4, X2: 1, X3: 7, X4: 2}\n",
      "variable  X5\n",
      "value  0\n",
      "value  1\n",
      "value  2\n",
      "value  3\n",
      "value  4\n",
      "value  5\n",
      "value  6\n",
      "assignment  {X0: 0, X1: 4, X2: 1, X3: 7, X4: 2, X5: 6}\n",
      "variable  X6\n",
      "value  0\n",
      "value  1\n",
      "value  2\n",
      "value  3\n",
      "assignment  {X0: 0, X1: 4, X2: 1, X3: 7, X4: 2, X5: 6, X6: 3}\n",
      "variable  X7\n",
      "value  0\n",
      "value  1\n",
      "value  2\n",
      "value  3\n",
      "value  4\n",
      "value  5\n",
      "value  6\n",
      "value  7\n",
      "value  4\n",
      "value  5\n",
      "value  6\n",
      "value  7\n",
      "value  7\n",
      "value  3\n",
      "value  4\n",
      "value  5\n",
      "assignment  {X0: 0, X1: 4, X2: 1, X3: 7, X4: 5}\n",
      "variable  X5\n",
      "value  0\n",
      "value  1\n",
      "value  2\n",
      "assignment  {X0: 0, X1: 4, X2: 1, X3: 7, X4: 5, X5: 2}\n",
      "variable  X6\n",
      "value  0\n",
      "value  1\n",
      "value  2\n",
      "value  3\n",
      "value  4\n",
      "value  5\n",
      "value  6\n",
      "value  7\n",
      "value  3\n",
      "assignment  {X0: 0, X1: 4, X2: 1, X3: 7, X4: 5, X5: 3}\n",
      "variable  X6\n",
      "value  0\n",
      "value  1\n",
      "value  2\n",
      "value  3\n",
      "value  4\n",
      "value  5\n",
      "value  6\n",
      "value  7\n",
      "value  4\n",
      "value  5\n",
      "value  6\n",
      "value  7\n",
      "value  6\n",
      "value  7\n",
      "value  2\n",
      "value  3\n",
      "value  4\n",
      "value  5\n",
      "value  6\n",
      "assignment  {X0: 0, X1: 4, X2: 6}\n",
      "variable  X3\n",
      "value  0\n",
      "value  1\n",
      "assignment  {X0: 0, X1: 4, X2: 6, X3: 1}\n",
      "variable  X4\n",
      "value  0\n",
      "value  1\n",
      "value  2\n",
      "value  3\n",
      "assignment  {X0: 0, X1: 4, X2: 6, X3: 1, X4: 3}\n",
      "variable  X5\n",
      "value  0\n",
      "value  1\n",
      "value  2\n",
      "value  3\n",
      "value  4\n",
      "value  5\n",
      "value  6\n",
      "value  7\n",
      "assignment  {X0: 0, X1: 4, X2: 6, X3: 1, X4: 3, X5: 7}\n",
      "variable  X6\n",
      "value  0\n",
      "value  1\n",
      "value  2\n",
      "value  3\n",
      "value  4\n",
      "value  5\n",
      "value  6\n",
      "value  7\n",
      "value  4\n",
      "value  5\n",
      "assignment  {X0: 0, X1: 4, X2: 6, X3: 1, X4: 5}\n",
      "variable  X5\n",
      "value  0\n",
      "value  1\n",
      "value  2\n",
      "assignment  {X0: 0, X1: 4, X2: 6, X3: 1, X4: 5, X5: 2}\n",
      "variable  X6\n",
      "value  0\n",
      "value  1\n",
      "value  2\n",
      "value  3\n",
      "value  4\n",
      "value  5\n",
      "value  6\n",
      "value  7\n",
      "value  3\n",
      "value  4\n",
      "value  5\n",
      "value  6\n",
      "value  7\n",
      "assignment  {X0: 0, X1: 4, X2: 6, X3: 1, X4: 5, X5: 7}\n",
      "variable  X6\n",
      "value  0\n",
      "value  1\n",
      "value  2\n",
      "value  3\n",
      "value  4\n",
      "value  5\n",
      "value  6\n",
      "value  7\n",
      "value  6\n",
      "value  7\n",
      "value  2\n",
      "value  3\n",
      "value  4\n",
      "value  5\n",
      "value  6\n",
      "value  7\n",
      "value  7\n",
      "assignment  {X0: 0, X1: 4, X2: 7}\n",
      "variable  X3\n",
      "value  0\n",
      "value  1\n",
      "assignment  {X0: 0, X1: 4, X2: 7, X3: 1}\n",
      "variable  X4\n",
      "value  0\n",
      "value  1\n",
      "value  2\n",
      "value  3\n",
      "assignment  {X0: 0, X1: 4, X2: 7, X3: 1, X4: 3}\n",
      "variable  X5\n",
      "value  0\n",
      "value  1\n",
      "value  2\n",
      "value  3\n",
      "value  4\n",
      "value  5\n",
      "value  6\n",
      "assignment  {X0: 0, X1: 4, X2: 7, X3: 1, X4: 3, X5: 6}\n",
      "variable  X6\n",
      "value  0\n",
      "value  1\n",
      "value  2\n",
      "assignment  {X0: 0, X1: 4, X2: 7, X3: 1, X4: 3, X5: 6, X6: 2}\n",
      "variable  X7\n",
      "value  0\n",
      "value  1\n",
      "value  2\n",
      "value  3\n",
      "value  4\n",
      "value  5\n",
      "value  6\n",
      "value  7\n",
      "value  3\n",
      "value  4\n",
      "value  5\n",
      "value  6\n",
      "value  7\n",
      "value  7\n",
      "value  4\n",
      "value  5\n",
      "value  6\n",
      "assignment  {X0: 0, X1: 4, X2: 7, X3: 1, X4: 6}\n",
      "variable  X5\n",
      "value  0\n",
      "value  1\n",
      "value  2\n",
      "assignment  {X0: 0, X1: 4, X2: 7, X3: 1, X4: 6, X5: 2}\n",
      "variable  X6\n",
      "value  0\n",
      "value  1\n",
      "value  2\n",
      "value  3\n",
      "value  4\n",
      "value  5\n",
      "assignment  {X0: 0, X1: 4, X2: 7, X3: 1, X4: 6, X5: 2, X6: 5}\n",
      "variable  X7\n",
      "value  0\n",
      "value  1\n",
      "value  2\n",
      "value  3\n",
      "value  4\n",
      "value  5\n",
      "value  6\n",
      "value  7\n",
      "value  6\n",
      "value  7\n",
      "value  3\n",
      "value  4\n",
      "value  5\n",
      "value  6\n",
      "value  7\n",
      "value  7\n",
      "value  2\n",
      "value  3\n",
      "value  4\n",
      "value  5\n",
      "assignment  {X0: 0, X1: 4, X2: 7, X3: 5}\n",
      "variable  X4\n",
      "value  0\n",
      "value  1\n",
      "value  2\n",
      "assignment  {X0: 0, X1: 4, X2: 7, X3: 5, X4: 2}\n",
      "variable  X5\n",
      "value  0\n",
      "value  1\n",
      "value  2\n",
      "value  3\n",
      "value  4\n",
      "value  5\n",
      "value  6\n",
      "assignment  {X0: 0, X1: 4, X2: 7, X3: 5, X4: 2, X5: 6}\n",
      "variable  X6\n",
      "value  0\n",
      "value  1\n",
      "assignment  {X0: 0, X1: 4, X2: 7, X3: 5, X4: 2, X5: 6, X6: 1}\n",
      "variable  X7\n",
      "value  0\n",
      "value  1\n",
      "value  2\n",
      "value  3\n"
     ]
    },
    {
     "data": {
      "image/png": "[encoded data removed]",
      "text/plain": [
       "<matplotlib.figure.Figure at 0x27b6e3a0898>"
      ]
     },
     "metadata": {},
     "output_type": "display_data"
    },
    {
     "name": "stdout",
     "output_type": "stream",
     "text": [
      "Solution found:\n",
      "{X0: 0, X1: 4, X2: 7, X3: 5, X4: 2, X5: 6, X6: 1, X7: 3}\n"
     ]
    }
   ],
   "source": [
    "num_queens = 8\n",
    "csp = NQueensCSP(num_queens)\n",
    "var = csp.variables[0]\n",
    "print(\"CSP problems have variables, each variable has a domain, and the problem has a list of constraints.\")\n",
    "print(\"Showing the variables for the N-Queens CSP:\")\n",
    "display(csp.variables)\n",
    "print(\"Showing domain for {}:\".format(var))\n",
    "display(csp.domains[var])\n",
    "for v in csp.variables:\n",
    "    print(\"And showing the constraints for {}:\".format(v))\n",
    "    for consta in csp._constraints[v]:\n",
    "        display(consta.expr)\n",
    "\n",
    "print(\"Solving N-Queens CSP...\")\n",
    "assn = backtracking_search(csp)\n",
    "if assn is not None:\n",
    "    csp.show(assn)\n",
    "    print(\"Solution found:\\n{!s}\".format(assn))\n",
    "else:\n",
    "    print(\"No solution found.\")"
   ]
  },
  {
   "cell_type": "markdown",
   "metadata": {},
   "source": [
    "## IV. Experiments (Optional)\n",
    "For each optional experiment, discuss the answers to these questions on the forum: Do you expect this change to be more efficient, less efficient, or the same?  Why or why not?  Is your prediction correct?  What metric did you compare (e.g., time, space, nodes visited, etc.)?\n",
    "\n",
    "- Implement a _bad_ N-queens solver: generate & test candidate solutions one at a time until a valid solution is found.  For example, represent the board as an array with $N^2$ elements, and let each element be True if there is a queen in that box, and False if it is empty.  Use an $N^2$-bit counter to generate solutions, then write a function to check if each solution is valid.  Notice that this solution doesn't require any of the techniques we've applied to other problems -- there is no DFS or backtracking, nor constraint propagation, or even explicitly defined variables.\n",
    "- Use more complex constraints -- i.e., generalize the binary constraint RowDiff to an N-ary constraint AllRowsDiff, etc., -- and solve the problem again.\n",
    "- Rewrite the CSP class to use forward checking to restrict the domain of each variable as new values are assigned.\n",
    "- The sympy library isn't very fast, so this version of the CSP doesn't work well on boards bigger than about 12x12.  Write a new representation of the problem class that uses constraint functions (like the Sudoku project) to implicitly track constraint satisfaction through the restricted domain of each variable.  How much larger can you solve?\n",
    "- Create your own CSP!"
   ]
  }
 ],
 "metadata": {
  "anaconda-cloud": {},
  "kernelspec": {
   "display_name": "Python 3",
   "language": "python",
   "name": "python3"
  },
  "language_info": {
   "codemirror_mode": {
    "name": "ipython",
    "version": 3
   },
   "file_extension": ".py",
   "mimetype": "text/x-python",
   "name": "python",
   "nbconvert_exporter": "python",
   "pygments_lexer": "ipython3",
   "version": "3.6.2"
  }
 },
 "nbformat": 4,
 "nbformat_minor": 1
}
