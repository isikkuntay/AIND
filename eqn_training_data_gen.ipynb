{
 "cells": [
  {
   "cell_type": "code",
   "execution_count": 25,
   "metadata": {
    "collapsed": false,
    "deletable": true,
    "editable": true
   },
   "outputs": [],
   "source": [
    "from string import ascii_lowercase\n",
    "tr_file = open(\"gen_training_equations.txt\",\"w\")\n",
    "lb_file = open(\"gen_labels_equations.txt\",\"w\")"
   ]
  },
  {
   "cell_type": "code",
   "execution_count": 26,
   "metadata": {
    "collapsed": false,
    "deletable": true,
    "editable": true
   },
   "outputs": [],
   "source": [
    "sentence = \"\"\n",
    "for a in ascii_lowercase:\n",
    "    for b in ascii_lowercase:\n",
    "        for c in ascii_lowercase:\n",
    "            if a != b and a != c and b != c:\n",
    "                sentence = \"the number {af} is the logarithm of the sum of the numbers {bf} and {cf} . {bf} and {cf} are 5 and 6 . what is {af} ? .\\n\".format(af=a,bf=b,cf=c)\n",
    "                label = \"logirthm [ {af} , {bf} , {cf} ] [ {af} = log ( {bf} + {cf} ) ] [ {bf} = 5 , {cf} = 6 ] .\\n\".format(af=a,bf=b,cf=c) \n",
    "                tr_file.write(sentence)\n",
    "                lb_file.write(label)"
   ]
  },
  {
   "cell_type": "code",
   "execution_count": 27,
   "metadata": {
    "collapsed": false,
    "deletable": true,
    "editable": true
   },
   "outputs": [],
   "source": [
    "tr_file.close()\n",
    "lb_file.close()"
   ]
  },
  {
   "cell_type": "code",
   "execution_count": 16,
   "metadata": {
    "collapsed": true,
    "deletable": true,
    "editable": true
   },
   "outputs": [],
   "source": []
  },
  {
   "cell_type": "code",
   "execution_count": null,
   "metadata": {
    "collapsed": true,
    "deletable": true,
    "editable": true
   },
   "outputs": [],
   "source": []
  }
 ],
 "metadata": {
  "anaconda-cloud": {},
  "kernelspec": {
   "display_name": "Python 3",
   "language": "python",
   "name": "python3"
  },
  "language_info": {
   "codemirror_mode": {
    "name": "ipython",
    "version": 3
   },
   "file_extension": ".py",
   "mimetype": "text/x-python",
   "name": "python",
   "nbconvert_exporter": "python",
   "pygments_lexer": "ipython3",
   "version": "3.5.3"
  }
 },
 "nbformat": 4,
 "nbformat_minor": 2
}
